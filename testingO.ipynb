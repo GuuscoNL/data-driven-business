{
 "cells": [
  {
   "cell_type": "code",
   "execution_count": null,
   "metadata": {},
   "outputs": [],
   "source": [
    "%%capture\n",
    "%run \"main.ipynb\"\n",
    "import seaborn as sns\n",
    "import matplotlib.pyplot as plt"
   ]
  },
  {
   "cell_type": "markdown",
   "metadata": {},
   "source": [
    "## stm_prioriteit"
   ]
  },
  {
   "cell_type": "code",
   "execution_count": null,
   "metadata": {},
   "outputs": [],
   "source": [
    "# NA's verwijderen omdat het er weinig zijn\n",
    "df = df.dropna(subset=['stm_prioriteit'])\n",
    "\n",
    "# veranderen van float naar categorie datatype\n",
    "df['stm_prioriteit'] = df['stm_prioriteit'].astype('category')\n",
    "\n",
    "df['stm_prioriteit'].value_counts()"
   ]
  },
  {
   "cell_type": "markdown",
   "metadata": {},
   "source": [
    "De gemiddelde duur is wel degelijk verschillend bij de verschillende prioriteits klasses, zoals te zien in de output van de cel hieronder."
   ]
  },
  {
   "cell_type": "code",
   "execution_count": null,
   "metadata": {},
   "outputs": [],
   "source": [
    "mean_per_prio_lvl = df.groupby('stm_prioriteit')['anm_tot_fh'].mean()\n",
    "mean_per_prio_lvl"
   ]
  },
  {
   "cell_type": "code",
   "execution_count": null,
   "metadata": {},
   "outputs": [],
   "source": [
    "sns.boxplot(x='stm_prioriteit', y='anm_tot_fh', data=df, order=mean_per_prio_lvl.index)\n",
    "\n",
    "plt.xlabel('Priority Level')\n",
    "plt.ylabel('anm_tot_fh in minutes')\n",
    "\n",
    "plt.show()"
   ]
  },
  {
   "cell_type": "code",
   "execution_count": null,
   "metadata": {},
   "outputs": [],
   "source": [
    "df['stm_prioriteit'].info()\n",
    "prioriteit_dummies = pd.get_dummies(df['stm_prioriteit'], prefix='prio')\n",
    "prioriteit_dummies.info()"
   ]
  },
  {
   "cell_type": "markdown",
   "metadata": {},
   "source": [
    "## stm_oorz_code"
   ]
  },
  {
   "cell_type": "code",
   "execution_count": null,
   "metadata": {},
   "outputs": [],
   "source": [
    "df = df.dropna(subset=['stm_oorz_code'])\n",
    "df['stm_oorz_code'] = df['stm_oorz_code'].astype('category')"
   ]
  },
  {
   "cell_type": "code",
   "execution_count": null,
   "metadata": {},
   "outputs": [],
   "source": [
    "df['stm_oorz_code'].value_counts()"
   ]
  },
  {
   "cell_type": "code",
   "execution_count": null,
   "metadata": {},
   "outputs": [],
   "source": [
    "oorz_code_dummies = pd.get_dummies(df['stm_oorz_code'], prefix='oorz_code')\n",
    "oorz_code_dummies.info()"
   ]
  },
  {
   "cell_type": "markdown",
   "metadata": {},
   "source": [
    "## stm_techn_gst"
   ]
  },
  {
   "cell_type": "code",
   "execution_count": null,
   "metadata": {},
   "outputs": [],
   "source": [
    "df = df.dropna(subset=['stm_techn_gst'])\n",
    "df['stm_techn_gst'].astype('category')\n",
    "df['stm_techn_gst'].value_counts()"
   ]
  },
  {
   "cell_type": "code",
   "execution_count": null,
   "metadata": {},
   "outputs": [],
   "source": [
    "df['stm_techn_gst'] = df['stm_techn_gst'].replace('', 'X')\n",
    "df['stm_techn_gst'].value_counts()"
   ]
  },
  {
   "cell_type": "code",
   "execution_count": null,
   "metadata": {},
   "outputs": [],
   "source": [
    "mean_per_tech_field = df.groupby('stm_techn_gst')['anm_tot_fh'].mean()\n",
    "mean_per_tech_field"
   ]
  },
  {
   "cell_type": "code",
   "execution_count": null,
   "metadata": {},
   "outputs": [],
   "source": [
    "sns.boxplot(x='stm_techn_gst', y='anm_tot_fh', data=df, order=mean_per_tech_field.index)\n",
    "\n",
    "plt.xlabel('Techniek veld')\n",
    "plt.ylabel('anm_tot_fh in minuten')\n",
    "\n",
    "plt.show()"
   ]
  },
  {
   "cell_type": "code",
   "execution_count": null,
   "metadata": {},
   "outputs": [],
   "source": [
    "techn_veld_dummies = pd.get_dummies(df['stm_techn_gst'], prefix='techn_veld')\n",
    "techn_veld_dummies.info()"
   ]
  },
  {
   "cell_type": "markdown",
   "metadata": {},
   "source": [
    "## stm_geo_mld"
   ]
  },
  {
   "cell_type": "code",
   "execution_count": null,
   "metadata": {},
   "outputs": [],
   "source": [
    "df = df.dropna(subset=['stm_geo_mld'])\n",
    "df['stm_geo_mld'].astype('category')\n",
    "df['stm_geo_mld'].value_counts()"
   ]
  },
  {
   "cell_type": "code",
   "execution_count": null,
   "metadata": {},
   "outputs": [],
   "source": [
    "geo_code_dummies = pd.get_dummies(df['stm_geo_mld'], prefix='geo_code')\n",
    "geo_code_dummies.info()"
   ]
  },
  {
   "cell_type": "markdown",
   "metadata": {},
   "source": [
    "## stm_contractgeb_mld"
   ]
  },
  {
   "cell_type": "code",
   "execution_count": null,
   "metadata": {},
   "outputs": [],
   "source": [
    "df = df.dropna(subset=['stm_contractgeb_mld'])\n",
    "df['stm_contractgeb_mld'].astype('category')\n",
    "df['stm_contractgeb_mld'].value_counts()"
   ]
  },
  {
   "cell_type": "code",
   "execution_count": null,
   "metadata": {},
   "outputs": [],
   "source": [
    "contractgebied_dummies = pd.get_dummies(df['stm_contractgeb_mld'], prefix='contractgebied')\n",
    "contractgebied_dummies.info()"
   ]
  },
  {
   "cell_type": "code",
   "execution_count": null,
   "metadata": {},
   "outputs": [],
   "source": [
    "# model_df = pd.concat([df[['anm_tot_fh']], techn_veld_dummies], axis=1)\n",
    "model_df = df[['anm_tot_fh']].join(techn_veld_dummies, on='#stm_sap_meldnr')\n",
    "model_df.sample(20)"
   ]
  }
 ],
 "metadata": {
  "kernelspec": {
   "display_name": "base",
   "language": "python",
   "name": "python3"
  },
  "language_info": {
   "codemirror_mode": {
    "name": "ipython",
    "version": 3
   },
   "file_extension": ".py",
   "mimetype": "text/x-python",
   "name": "python",
   "nbconvert_exporter": "python",
   "pygments_lexer": "ipython3",
   "version": "3.8.8"
  }
 },
 "nbformat": 4,
 "nbformat_minor": 2
}
