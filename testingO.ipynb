{
 "cells": [
  {
   "cell_type": "code",
   "execution_count": 56,
   "metadata": {},
   "outputs": [],
   "source": [
    "%%capture\n",
    "%run \"main.ipynb\"\n",
    "import seaborn as sns\n",
    "import matplotlib.pyplot as plt"
   ]
  },
  {
   "cell_type": "markdown",
   "metadata": {},
   "source": [
    "## stm_prioriteit"
   ]
  },
  {
   "cell_type": "code",
   "execution_count": 57,
   "metadata": {},
   "outputs": [
    {
     "data": {
      "text/plain": [
       "stm_prioriteit\n",
       "5.0    250310\n",
       "2.0    224452\n",
       "4.0    158497\n",
       "8.0      3640\n",
       "9.0      2304\n",
       "1.0      1970\n",
       "Name: count, dtype: int64"
      ]
     },
     "execution_count": 57,
     "metadata": {},
     "output_type": "execute_result"
    }
   ],
   "source": [
    "# NA's verwijderen omdat het er weinig zijn\n",
    "df = df.dropna(subset=['stm_prioriteit'])\n",
    "\n",
    "# veranderen van float naar categorie datatype\n",
    "df['stm_prioriteit'] = df['stm_prioriteit'].astype('category')\n",
    "\n",
    "df['stm_prioriteit'].value_counts()"
   ]
  },
  {
   "cell_type": "markdown",
   "metadata": {},
   "source": [
    "De gemiddelde duur is wel degelijk verschillend bij de verschillende prioriteits klasses, zoals te zien in de output van de cel hieronder."
   ]
  },
  {
   "cell_type": "code",
   "execution_count": 58,
   "metadata": {},
   "outputs": [
    {
     "data": {
      "text/plain": [
       "stm_prioriteit\n",
       "1.0    64.945423\n",
       "2.0    47.632443\n",
       "4.0    44.570632\n",
       "5.0    59.329886\n",
       "8.0    49.164835\n",
       "9.0    18.106163\n",
       "Name: anm_tot_fh, dtype: float64"
      ]
     },
     "execution_count": 58,
     "metadata": {},
     "output_type": "execute_result"
    }
   ],
   "source": [
    "mean_per_prio_lvl = df.groupby('stm_prioriteit')['anm_tot_fh'].mean()\n",
    "mean_per_prio_lvl"
   ]
  },
  {
   "cell_type": "code",
   "execution_count": 59,
   "metadata": {},
   "outputs": [
    {
     "data": {
      "image/png": "[encoded data removed]",
      "text/plain": [
       "<Figure size 432x288 with 1 Axes>"
      ]
     },
     "metadata": {
      "needs_background": "light"
     },
     "output_type": "display_data"
    }
   ],
   "source": [
    "sns.boxplot(x='stm_prioriteit', y='anm_tot_fh', data=df, order=mean_per_prio_lvl.index)\n",
    "\n",
    "plt.xlabel('Priority Level')\n",
    "plt.ylabel('anm_tot_fh in minutes')\n",
    "\n",
    "plt.show()"
   ]
  },
  {
   "cell_type": "code",
   "execution_count": 60,
   "metadata": {},
   "outputs": [
    {
     "name": "stdout",
     "output_type": "stream",
     "text": [
      "<class 'pandas.core.series.Series'>\n",
      "Index: 641173 entries, 50093930 to 99999999\n",
      "Series name: stm_prioriteit\n",
      "Non-Null Count   Dtype   \n",
      "--------------   -----   \n",
      "641173 non-null  category\n",
      "dtypes: category(1)\n",
      "memory usage: 5.5 MB\n",
      "<class 'pandas.core.frame.DataFrame'>\n",
      "RangeIndex: 641173 entries, 0 to 641172\n",
      "Data columns (total 6 columns):\n",
      " #   Column    Non-Null Count   Dtype\n",
      "---  ------    --------------   -----\n",
      " 0   prio_1.0  641173 non-null  bool \n",
      " 1   prio_2.0  641173 non-null  bool \n",
      " 2   prio_4.0  641173 non-null  bool \n",
      " 3   prio_5.0  641173 non-null  bool \n",
      " 4   prio_8.0  641173 non-null  bool \n",
      " 5   prio_9.0  641173 non-null  bool \n",
      "dtypes: bool(6)\n",
      "memory usage: 3.7 MB\n"
     ]
    }
   ],
   "source": [
    "df['stm_prioriteit'].info()\n",
    "prioriteit_dummies = pd.get_dummies(df['stm_prioriteit'], prefix='prio').reset_index(drop=True)\n",
    "prioriteit_dummies.info()"
   ]
  },
  {
   "cell_type": "markdown",
   "metadata": {},
   "source": [
    "## stm_oorz_code"
   ]
  },
  {
   "cell_type": "code",
   "execution_count": 61,
   "metadata": {},
   "outputs": [],
   "source": [
    "df = df.dropna(subset=['stm_oorz_code'])\n",
    "df['stm_oorz_code'] = df['stm_oorz_code'].astype('category')"
   ]
  },
  {
   "cell_type": "code",
   "execution_count": 62,
   "metadata": {},
   "outputs": [
    {
     "data": {
      "text/plain": [
       "stm_oorz_code\n",
       "221.0    102929\n",
       "218.0     77136\n",
       "215.0     67878\n",
       "135.0     34928\n",
       "151.0     31304\n",
       "          ...  \n",
       "205.0        33\n",
       "180.0         6\n",
       "51.0          1\n",
       "139.0         1\n",
       "33.0          1\n",
       "Name: count, Length: 74, dtype: int64"
      ]
     },
     "execution_count": 62,
     "metadata": {},
     "output_type": "execute_result"
    }
   ],
   "source": [
    "df['stm_oorz_code'].value_counts()"
   ]
  },
  {
   "cell_type": "code",
   "execution_count": 63,
   "metadata": {},
   "outputs": [
    {
     "name": "stdout",
     "output_type": "stream",
     "text": [
      "<class 'pandas.core.frame.DataFrame'>\n",
      "RangeIndex: 631399 entries, 0 to 631398\n",
      "Data columns (total 74 columns):\n",
      " #   Column           Non-Null Count   Dtype\n",
      "---  ------           --------------   -----\n",
      " 0   oorz_code_33.0   631399 non-null  bool \n",
      " 1   oorz_code_51.0   631399 non-null  bool \n",
      " 2   oorz_code_130.0  631399 non-null  bool \n",
      " 3   oorz_code_131.0  631399 non-null  bool \n",
      " 4   oorz_code_132.0  631399 non-null  bool \n",
      " 5   oorz_code_133.0  631399 non-null  bool \n",
      " 6   oorz_code_134.0  631399 non-null  bool \n",
      " 7   oorz_code_135.0  631399 non-null  bool \n",
      " 8   oorz_code_136.0  631399 non-null  bool \n",
      " 9   oorz_code_139.0  631399 non-null  bool \n",
      " 10  oorz_code_140.0  631399 non-null  bool \n",
      " 11  oorz_code_141.0  631399 non-null  bool \n",
      " 12  oorz_code_142.0  631399 non-null  bool \n",
      " 13  oorz_code_143.0  631399 non-null  bool \n",
      " 14  oorz_code_144.0  631399 non-null  bool \n",
      " 15  oorz_code_145.0  631399 non-null  bool \n",
      " 16  oorz_code_146.0  631399 non-null  bool \n",
      " 17  oorz_code_147.0  631399 non-null  bool \n",
      " 18  oorz_code_148.0  631399 non-null  bool \n",
      " 19  oorz_code_149.0  631399 non-null  bool \n",
      " 20  oorz_code_150.0  631399 non-null  bool \n",
      " 21  oorz_code_151.0  631399 non-null  bool \n",
      " 22  oorz_code_154.0  631399 non-null  bool \n",
      " 23  oorz_code_180.0  631399 non-null  bool \n",
      " 24  oorz_code_181.0  631399 non-null  bool \n",
      " 25  oorz_code_182.0  631399 non-null  bool \n",
      " 26  oorz_code_183.0  631399 non-null  bool \n",
      " 27  oorz_code_184.0  631399 non-null  bool \n",
      " 28  oorz_code_185.0  631399 non-null  bool \n",
      " 29  oorz_code_186.0  631399 non-null  bool \n",
      " 30  oorz_code_187.0  631399 non-null  bool \n",
      " 31  oorz_code_188.0  631399 non-null  bool \n",
      " 32  oorz_code_189.0  631399 non-null  bool \n",
      " 33  oorz_code_201.0  631399 non-null  bool \n",
      " 34  oorz_code_202.0  631399 non-null  bool \n",
      " 35  oorz_code_203.0  631399 non-null  bool \n",
      " 36  oorz_code_204.0  631399 non-null  bool \n",
      " 37  oorz_code_205.0  631399 non-null  bool \n",
      " 38  oorz_code_206.0  631399 non-null  bool \n",
      " 39  oorz_code_207.0  631399 non-null  bool \n",
      " 40  oorz_code_208.0  631399 non-null  bool \n",
      " 41  oorz_code_209.0  631399 non-null  bool \n",
      " 42  oorz_code_210.0  631399 non-null  bool \n",
      " 43  oorz_code_211.0  631399 non-null  bool \n",
      " 44  oorz_code_212.0  631399 non-null  bool \n",
      " 45  oorz_code_213.0  631399 non-null  bool \n",
      " 46  oorz_code_214.0  631399 non-null  bool \n",
      " 47  oorz_code_215.0  631399 non-null  bool \n",
      " 48  oorz_code_218.0  631399 non-null  bool \n",
      " 49  oorz_code_219.0  631399 non-null  bool \n",
      " 50  oorz_code_220.0  631399 non-null  bool \n",
      " 51  oorz_code_221.0  631399 non-null  bool \n",
      " 52  oorz_code_222.0  631399 non-null  bool \n",
      " 53  oorz_code_223.0  631399 non-null  bool \n",
      " 54  oorz_code_224.0  631399 non-null  bool \n",
      " 55  oorz_code_225.0  631399 non-null  bool \n",
      " 56  oorz_code_226.0  631399 non-null  bool \n",
      " 57  oorz_code_227.0  631399 non-null  bool \n",
      " 58  oorz_code_228.0  631399 non-null  bool \n",
      " 59  oorz_code_229.0  631399 non-null  bool \n",
      " 60  oorz_code_230.0  631399 non-null  bool \n",
      " 61  oorz_code_231.0  631399 non-null  bool \n",
      " 62  oorz_code_233.0  631399 non-null  bool \n",
      " 63  oorz_code_234.0  631399 non-null  bool \n",
      " 64  oorz_code_235.0  631399 non-null  bool \n",
      " 65  oorz_code_239.0  631399 non-null  bool \n",
      " 66  oorz_code_240.0  631399 non-null  bool \n",
      " 67  oorz_code_241.0  631399 non-null  bool \n",
      " 68  oorz_code_242.0  631399 non-null  bool \n",
      " 69  oorz_code_250.0  631399 non-null  bool \n",
      " 70  oorz_code_294.0  631399 non-null  bool \n",
      " 71  oorz_code_298.0  631399 non-null  bool \n",
      " 72  oorz_code_299.0  631399 non-null  bool \n",
      " 73  oorz_code_999.0  631399 non-null  bool \n",
      "dtypes: bool(74)\n",
      "memory usage: 44.6 MB\n"
     ]
    }
   ],
   "source": [
    "oorz_code_dummies = pd.get_dummies(df['stm_oorz_code'], prefix='oorz_code').reset_index(drop=True)\n",
    "oorz_code_dummies.info()"
   ]
  },
  {
   "cell_type": "markdown",
   "metadata": {},
   "source": [
    "## stm_techn_gst"
   ]
  },
  {
   "cell_type": "code",
   "execution_count": 64,
   "metadata": {},
   "outputs": [
    {
     "data": {
      "text/plain": [
       "stm_techn_gst\n",
       "S    240904\n",
       "B    150280\n",
       "E     55796\n",
       "T     55161\n",
       "P     54958\n",
       "K     36003\n",
       "O     29481\n",
       "G      3943\n",
       "X      2591\n",
       "I      1518\n",
       "M       472\n",
       "        175\n",
       "A       115\n",
       "R         2\n",
       "Name: count, dtype: int64"
      ]
     },
     "execution_count": 64,
     "metadata": {},
     "output_type": "execute_result"
    }
   ],
   "source": [
    "df = df.dropna(subset=['stm_techn_gst'])\n",
    "df['stm_techn_gst'].astype('category')\n",
    "df['stm_techn_gst'].value_counts()"
   ]
  },
  {
   "cell_type": "code",
   "execution_count": 65,
   "metadata": {},
   "outputs": [
    {
     "data": {
      "text/plain": [
       "stm_techn_gst\n",
       "     53.658667\n",
       "A    82.987391\n",
       "B    52.317090\n",
       "E    52.452405\n",
       "G    44.505237\n",
       "I    52.729600\n",
       "K    56.266019\n",
       "M    68.906285\n",
       "O    34.789580\n",
       "P    43.723682\n",
       "R    89.008333\n",
       "S    51.513205\n",
       "T    60.571257\n",
       "X    39.306600\n",
       "Name: anm_tot_fh, dtype: float64"
      ]
     },
     "execution_count": 65,
     "metadata": {},
     "output_type": "execute_result"
    }
   ],
   "source": [
    "mean_per_tech_field = df.groupby('stm_techn_gst')['anm_tot_fh'].mean()\n",
    "mean_per_tech_field"
   ]
  },
  {
   "cell_type": "code",
   "execution_count": 66,
   "metadata": {},
   "outputs": [
    {
     "data": {
      "image/png": "[encoded data removed]",
      "text/plain": [
       "<Figure size 432x288 with 1 Axes>"
      ]
     },
     "metadata": {
      "needs_background": "light"
     },
     "output_type": "display_data"
    }
   ],
   "source": [
    "sns.boxplot(x='stm_techn_gst', y='anm_tot_fh', data=df, order=mean_per_tech_field.index)\n",
    "\n",
    "plt.xlabel('Techniek veld')\n",
    "plt.ylabel('anm_tot_fh in minuten')\n",
    "\n",
    "plt.show()"
   ]
  },
  {
   "cell_type": "code",
   "execution_count": 73,
   "metadata": {},
   "outputs": [
    {
     "name": "stdout",
     "output_type": "stream",
     "text": [
      "<class 'pandas.core.frame.DataFrame'>\n",
      "Index: 631399 entries, 50093930 to 99999999\n",
      "Data columns (total 14 columns):\n",
      " #   Column        Non-Null Count   Dtype\n",
      "---  ------        --------------   -----\n",
      " 0   techn_veld_   631399 non-null  bool \n",
      " 1   techn_veld_A  631399 non-null  bool \n",
      " 2   techn_veld_B  631399 non-null  bool \n",
      " 3   techn_veld_E  631399 non-null  bool \n",
      " 4   techn_veld_G  631399 non-null  bool \n",
      " 5   techn_veld_I  631399 non-null  bool \n",
      " 6   techn_veld_K  631399 non-null  bool \n",
      " 7   techn_veld_M  631399 non-null  bool \n",
      " 8   techn_veld_O  631399 non-null  bool \n",
      " 9   techn_veld_P  631399 non-null  bool \n",
      " 10  techn_veld_R  631399 non-null  bool \n",
      " 11  techn_veld_S  631399 non-null  bool \n",
      " 12  techn_veld_T  631399 non-null  bool \n",
      " 13  techn_veld_X  631399 non-null  bool \n",
      "dtypes: bool(14)\n",
      "memory usage: 13.2 MB\n"
     ]
    }
   ],
   "source": [
    "techn_veld_dummies = pd.get_dummies(df['stm_techn_gst'], prefix='techn_veld')#.reset_index(drop=True)\n",
    "techn_veld_dummies.info()"
   ]
  },
  {
   "cell_type": "code",
   "execution_count": 68,
   "metadata": {},
   "outputs": [],
   "source": [
    "# all_dummies = pd.concat([prioriteit_dummies, techn_veld_dummies, oorz_code_dummies], axis=1)\n",
    "# all_dummies.info()"
   ]
  },
  {
   "cell_type": "code",
   "execution_count": 75,
   "metadata": {},
   "outputs": [],
   "source": [
    "model_df = pd.concat([df[['anm_tot_fh']], techn_veld_dummies], axis=1)"
   ]
  },
  {
   "cell_type": "code",
   "execution_count": null,
   "metadata": {},
   "outputs": [],
   "source": []
  }
 ],
 "metadata": {
  "kernelspec": {
   "display_name": "base",
   "language": "python",
   "name": "python3"
  },
  "language_info": {
   "codemirror_mode": {
    "name": "ipython",
    "version": 3
   },
   "file_extension": ".py",
   "mimetype": "text/x-python",
   "name": "python",
   "nbconvert_exporter": "python",
   "pygments_lexer": "ipython3",
   "version": "3.8.8"
  }
 },
 "nbformat": 4,
 "nbformat_minor": 2
}
