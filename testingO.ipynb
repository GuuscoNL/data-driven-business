{
 "cells": [
  {
   "cell_type": "code",
   "execution_count": null,
   "metadata": {},
   "outputs": [],
   "source": [
    "%%capture\n",
    "%run \"main.ipynb\"\n",
    "import seaborn as sns\n",
    "import matplotlib.pyplot as plt\n",
    "from collections import Counter"
   ]
  },
  {
   "cell_type": "code",
   "execution_count": null,
   "metadata": {},
   "outputs": [],
   "source": [
    "def cumulatively_categorise(column,threshold=0.75):\n",
    "    threshold_value=int(threshold*len(column))\n",
    "    categories_list=[]\n",
    "    s=0\n",
    "    counts=Counter(column)\n",
    "    for i,j in counts.most_common():\n",
    "        s+=dict(counts)[i]\n",
    "        categories_list.append(i)\n",
    "        if s>=threshold_value:\n",
    "            break\n",
    "    categories_list.append('Other')\n",
    "    new_column=column.apply(lambda x: x if x in categories_list else 'Other')\n",
    "    return new_column"
   ]
  },
  {
   "cell_type": "markdown",
   "metadata": {},
   "source": [
    "## stm_prioriteit"
   ]
  },
  {
   "cell_type": "code",
   "execution_count": null,
   "metadata": {},
   "outputs": [],
   "source": [
    "# NA's verwijderen omdat het er weinig zijn\n",
    "df = df.dropna(subset=['stm_prioriteit'])\n",
    "\n",
    "# veranderen van float naar categorie datatype\n",
    "df['stm_prioriteit'] = df['stm_prioriteit'].astype('category')\n",
    "\n",
    "df['stm_prioriteit'].value_counts()"
   ]
  },
  {
   "cell_type": "markdown",
   "metadata": {},
   "source": [
    "De gemiddelde duur is wel degelijk verschillend bij de verschillende prioriteits klasses, zoals te zien in de output van de cel hieronder."
   ]
  },
  {
   "cell_type": "code",
   "execution_count": null,
   "metadata": {},
   "outputs": [],
   "source": [
    "mean_per_prio_lvl = df.groupby('stm_prioriteit')['anm_tot_fh'].mean()\n",
    "mean_per_prio_lvl"
   ]
  },
  {
   "cell_type": "code",
   "execution_count": null,
   "metadata": {},
   "outputs": [],
   "source": [
    "sns.boxplot(x='stm_prioriteit', y='anm_tot_fh', data=df, order=mean_per_prio_lvl.index)\n",
    "\n",
    "plt.xlabel('Priority Level')\n",
    "plt.ylabel('anm_tot_fh in minutes')\n",
    "\n",
    "plt.show()"
   ]
  },
  {
   "cell_type": "code",
   "execution_count": null,
   "metadata": {},
   "outputs": [],
   "source": [
    "df['stm_prioriteit'].info()\n",
    "prioriteit_dummies = pd.get_dummies(df['stm_prioriteit'], prefix='prio')\n",
    "prioriteit_dummies.info()"
   ]
  },
  {
   "cell_type": "markdown",
   "metadata": {},
   "source": [
    "## stm_oorz_code"
   ]
  },
  {
   "cell_type": "code",
   "execution_count": null,
   "metadata": {},
   "outputs": [],
   "source": [
    "df = df.dropna(subset=['stm_oorz_code'])\n",
    "df['stm_oorz_code'] = df['stm_oorz_code'].astype('category')"
   ]
  },
  {
   "cell_type": "code",
   "execution_count": null,
   "metadata": {},
   "outputs": [],
   "source": [
    "df['stm_oorz_code'].value_counts()"
   ]
  },
  {
   "cell_type": "code",
   "execution_count": null,
   "metadata": {},
   "outputs": [],
   "source": [
    "oorz_code_dummies = pd.get_dummies(df['stm_oorz_code'], prefix='oorz_code')\n",
    "oorz_code_dummies.info()"
   ]
  },
  {
   "cell_type": "markdown",
   "metadata": {},
   "source": [
    "## stm_techn_gst"
   ]
  },
  {
   "cell_type": "code",
   "execution_count": null,
   "metadata": {},
   "outputs": [],
   "source": [
    "df = df.dropna(subset=['stm_techn_gst'])\n",
    "df['stm_techn_gst'].astype('category')\n",
    "df['stm_techn_gst'].value_counts()"
   ]
  },
  {
   "cell_type": "markdown",
   "metadata": {},
   "source": [
    "Het aantal categorieën wordt gereduceerd voordat er dummies gemaakt worden omdat het aantal kolommen ander te groot wordt"
   ]
  },
  {
   "cell_type": "code",
   "execution_count": null,
   "metadata": {},
   "outputs": [],
   "source": [
    "df['stm_techn_gst'] = cumulatively_categorise(df['stm_techn_gst'], threshold=0.9)\n",
    "df['stm_techn_gst'].value_counts()"
   ]
  },
  {
   "cell_type": "code",
   "execution_count": null,
   "metadata": {},
   "outputs": [],
   "source": [
    "mean_per_tech_field = df.groupby('stm_techn_gst')['anm_tot_fh'].mean()\n",
    "mean_per_tech_field"
   ]
  },
  {
   "cell_type": "code",
   "execution_count": null,
   "metadata": {},
   "outputs": [],
   "source": [
    "sns.boxplot(x='stm_techn_gst', y='anm_tot_fh', data=df, order=mean_per_tech_field.index)\n",
    "\n",
    "plt.xlabel('Techniek veld')\n",
    "plt.ylabel('anm_tot_fh in minuten')\n",
    "\n",
    "plt.show()"
   ]
  },
  {
   "cell_type": "code",
   "execution_count": null,
   "metadata": {},
   "outputs": [],
   "source": [
    "techn_veld_dummies = pd.get_dummies(df['stm_techn_gst'], prefix='techn_veld')\n",
    "techn_veld_dummies.info()"
   ]
  },
  {
   "cell_type": "markdown",
   "metadata": {},
   "source": [
    "## stm_geo_mld"
   ]
  },
  {
   "cell_type": "code",
   "execution_count": null,
   "metadata": {},
   "outputs": [],
   "source": [
    "df = df.dropna(subset=['stm_geo_mld'])\n",
    "df['stm_geo_mld'].astype('category')\n",
    "df['stm_geo_mld'].value_counts()"
   ]
  },
  {
   "cell_type": "code",
   "execution_count": null,
   "metadata": {},
   "outputs": [],
   "source": [
    "geo_code_dummies = pd.get_dummies(df['stm_geo_mld'], prefix='geo_code')\n",
    "geo_code_dummies.info()"
   ]
  },
  {
   "cell_type": "markdown",
   "metadata": {},
   "source": [
    "## stm_contractgeb_mld"
   ]
  },
  {
   "cell_type": "code",
   "execution_count": null,
   "metadata": {},
   "outputs": [],
   "source": [
    "df = df.dropna(subset=['stm_contractgeb_mld'])\n",
    "df['stm_contractgeb_mld'].astype('category')\n",
    "df['stm_contractgeb_mld'].value_counts()"
   ]
  },
  {
   "cell_type": "code",
   "execution_count": null,
   "metadata": {},
   "outputs": [],
   "source": [
    "contractgebied_dummies = pd.get_dummies(df['stm_contractgeb_mld'], prefix='contractgebied')\n",
    "contractgebied_dummies.info()"
   ]
  },
  {
   "cell_type": "code",
   "execution_count": null,
   "metadata": {},
   "outputs": [],
   "source": [
    "df = df.reset_index(drop=True)\n",
    "techn_veld_dummies = techn_veld_dummies.reset_index(drop=True)\n",
    "oorz_code_dummies = oorz_code_dummies.reset_index(drop=True)\n",
    "prioriteit_dummies = prioriteit_dummies.reset_index(drop=True)\n",
    "geo_code_dummies = geo_code_dummies.reset_index(drop=True)\n",
    "contractgebied_dummies = contractgebied_dummies.reset_index(drop=True)\n",
    "\n",
    "features_to_use = [\n",
    "    techn_veld_dummies\n",
    "    # oorz_code_dummies, \n",
    "    # prioriteit_dummies, \n",
    "    # geo_code_dummies, \n",
    "    # contractgebied_dummies\n",
    "    ]\n",
    "\n",
    "model_df = pd.concat([df['anm_tot_fh'], *features_to_use], axis=1)\n",
    "model_df = model_df.dropna()\n",
    "model_df.sample(20)"
   ]
  },
  {
   "cell_type": "code",
   "execution_count": null,
   "metadata": {},
   "outputs": [],
   "source": []
  }
 ],
 "metadata": {
  "kernelspec": {
   "display_name": "base",
   "language": "python",
   "name": "python3"
  },
  "language_info": {
   "codemirror_mode": {
    "name": "ipython",
    "version": 3
   },
   "file_extension": ".py",
   "mimetype": "text/x-python",
   "name": "python",
   "nbconvert_exporter": "python",
   "pygments_lexer": "ipython3",
   "version": "3.8.8"
  }
 },
 "nbformat": 4,
 "nbformat_minor": 2
}
