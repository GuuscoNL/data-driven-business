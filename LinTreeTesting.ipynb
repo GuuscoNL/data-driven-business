{
 "cells": [
  {
   "cell_type": "code",
   "execution_count": null,
   "metadata": {},
   "outputs": [],
   "source": [
    "# importeren gebruikte libraries\n",
    "from lineartree import LinearTreeRegressor\n",
    "from sklearn.linear_model import LinearRegression\n",
    "from sklearn.metrics import mean_squared_error, r2_score\n",
    "import pandas as pd\n",
    "from math import sqrt\n",
    "from tqdm import tqdm\n",
    "import numpy as np\n",
    "import matplotlib.pyplot as plt\n",
    "from sklearn.model_selection import cross_val_score"
   ]
  },
  {
   "cell_type": "code",
   "execution_count": null,
   "metadata": {},
   "outputs": [],
   "source": [
    "model_df = pd.read_pickle(\"data/ole_model_df.pkl\")\n",
    "train_df = pd.read_pickle(\"data/ole_train_df.pkl\")\n",
    "test_df = pd.read_pickle(\"data/ole_test_df.pkl\")\n",
    "\n",
    "X_train = train_df.drop('progfh_inv_tot_fh', axis=1)\n",
    "y_train = train_df['progfh_inv_tot_fh']\n",
    "\n",
    "X_test = test_df.drop('progfh_inv_tot_fh', axis=1)\n",
    "y_test = test_df['progfh_inv_tot_fh']\n",
    "\n",
    "X = pd.concat([X_train, X_test], axis=0)\n",
    "y = pd.concat([y_train, y_test], axis=0)\n",
    "\n",
    "X_train.head()"
   ]
  },
  {
   "cell_type": "code",
   "execution_count": null,
   "metadata": {},
   "outputs": [],
   "source": [
    "def calculate_baseline(df):\n",
    "    baseline = df['progfh_inv_tot_fh'].mean()\n",
    "\n",
    "    y_pred = [baseline] * len(df)\n",
    "    y_true = df['progfh_inv_tot_fh']\n",
    "\n",
    "    baseline_rmse = sqrt(mean_squared_error(y_true, y_pred))\n",
    "    baseline_r2 = r2_score(y_true, y_pred)\n",
    "\n",
    "    return baseline_rmse, baseline_r2\n",
    "\n",
    "baseline_rmse, baseline_r2 = calculate_baseline(model_df)"
   ]
  },
  {
   "cell_type": "code",
   "execution_count": null,
   "metadata": {},
   "outputs": [],
   "source": [
    "\n",
    "def get_best_leaf_rmse(clf: LinearTreeRegressor) -> float:\n",
    "    return min([sqrt(val['loss']) for val in clf.summary(only_leaves=True).values()])\n"
   ]
  },
  {
   "cell_type": "code",
   "execution_count": null,
   "metadata": {},
   "outputs": [],
   "source": [
    "def find_best_hyperparameters(\n",
    "        max_depths: list, \n",
    "        min_samples_leafs: list, \n",
    "        X_train: pd.DataFrame,\n",
    "        y_train: pd.DataFrame,\n",
    "        X_test: pd.DataFrame\n",
    "        ) -> dict:\n",
    "    \"\"\"\n",
    "    Deze functie vindt de beste hyperparameters voor de DecisionTreeRegressor.\n",
    "    \"\"\"\n",
    "    best_rmse = 100000\n",
    "    best_hyperparameters = {}\n",
    "\n",
    "    for max_depth in tqdm(max_depths):\n",
    "            for min_samples_leaf in min_samples_leafs:\n",
    "                clf = LinearTreeRegressor(\n",
    "                    base_estimator=LinearRegression(),\n",
    "                    linear_features=[0],\n",
    "                    max_depth=max_depth,\n",
    "                    min_samples_leaf=min_samples_leaf,\n",
    "                    criterion='rmse',\n",
    "                    n_jobs=-1\n",
    "                )\n",
    "                clf.fit(X_train, y_train)\n",
    "                y_pred = clf.predict(X_test)\n",
    "                rmse = get_best_leaf_rmse(clf)\n",
    "                if rmse < best_rmse:\n",
    "                    best_rmse = rmse\n",
    "                    best_hyperparameters = {\n",
    "                        'max_depth': max_depth,\n",
    "                        'min_samples_leaf': min_samples_leaf\n",
    "                    }\n",
    "    \n",
    "    return best_hyperparameters\n",
    "\n",
    "find_best_hyperparameters(\n",
    "    max_depths=[i for i in range(1, 11)],\n",
    "    min_samples_leafs=[250 , 500, 750],\n",
    "    X_train=X_train,\n",
    "    y_train=y_train,\n",
    "    X_test=X_test\n",
    ")"
   ]
  },
  {
   "cell_type": "code",
   "execution_count": null,
   "metadata": {},
   "outputs": [],
   "source": [
    "_parameters = {\n",
    "    'base_estimator': LinearRegression(),   \n",
    "    'linear_features': [0],\n",
    "    'min_samples_leaf': 250,\n",
    "    'criterion': 'rmse',\n",
    "    'n_jobs': -1\n",
    "}"
   ]
  },
  {
   "cell_type": "code",
   "execution_count": null,
   "metadata": {},
   "outputs": [],
   "source": [
    "depths = range(1, 16) \n",
    "\n",
    "train_rmse, test_rmse = [], []\n",
    "train_r2, test_r2 = [], []\n",
    "\n",
    "# Train DTR model met verschillende max_depths\n",
    "for depth in tqdm(depths):\n",
    "    regressor = LinearTreeRegressor(\n",
    "        **_parameters,\n",
    "        max_depth=depth\n",
    "        )\n",
    "    regressor.fit(X_train, y_train)\n",
    "\n",
    "    # Voorspellingen op de train set\n",
    "    train_predictions = regressor.predict(X_train)\n",
    "    train_rmse.append(sqrt(mean_squared_error(y_train, train_predictions)))\n",
    "    train_r2.append(r2_score(y_train, train_predictions))\n",
    "\n",
    "    # Voorspellingen op de test set\n",
    "    test_predictions = regressor.predict(X_test)\n",
    "    test_rmse.append(sqrt(mean_squared_error(y_test, test_predictions)))\n",
    "    test_r2.append(r2_score(y_test, test_predictions))"
   ]
  },
  {
   "cell_type": "code",
   "execution_count": null,
   "metadata": {},
   "outputs": [],
   "source": [
    "fig, (ax1, ax2) = plt.subplots(1, 2, figsize=(16, 6))\n",
    "\n",
    "# Plot RMSE\n",
    "ax1.plot(depths, train_rmse, marker='o', linestyle='-', color='b', label='Train RMSE')\n",
    "ax1.plot(depths, test_rmse, marker='o', linestyle='-', color='r', label='Test RMSE')\n",
    "ax1.set_title('Depth vs. RMSE voor Decision Tree Regressor')\n",
    "ax1.set_xlabel('Max Depth')\n",
    "ax1.set_ylabel('RMSE')\n",
    "ax1.set_xticks(depths)\n",
    "ax1.grid(True)\n",
    "ax1.legend()\n",
    "\n",
    "# Plot R2 score\n",
    "ax2.plot(depths, train_r2, marker='o', linestyle='-', color='b', label='Train R2')\n",
    "ax2.plot(depths, test_r2, marker='o', linestyle='-', color='r', label='Test R2')\n",
    "ax2.set_title('Depth vs. R2 voor Decision Tree Regressor')\n",
    "ax2.set_xlabel('Max Depth')\n",
    "ax2.set_ylabel('R2')\n",
    "ax2.set_xticks(depths)\n",
    "ax2.grid(True)\n",
    "ax2.legend()\n",
    "\n",
    "plt.show()\n"
   ]
  },
  {
   "cell_type": "code",
   "execution_count": null,
   "metadata": {},
   "outputs": [],
   "source": [
    "max_depth = 8\n",
    "regressor = LinearTreeRegressor(\n",
    "    **_parameters, \n",
    "    max_depth=max_depth\n",
    "    )\n",
    "\n",
    "regressor.fit(X_train, y_train)\n",
    "\n",
    "y_pred = regressor.predict(X_test)\n",
    "\n",
    "rmse = sqrt(mean_squared_error(y_test, y_pred))\n",
    "r2 = r2_score(y_test, y_pred)\n",
    "\n",
    "print(\"Root Mean Squared Error: \", rmse)\n",
    "print(\"R-squared (R2) Score: \", r2)\n",
    "\n",
    "print('Baseline RMSE: ', baseline_rmse)\n",
    "print('Baseline R2: ', baseline_r2)"
   ]
  },
  {
   "cell_type": "code",
   "execution_count": null,
   "metadata": {},
   "outputs": [],
   "source": [
    "regressor.plot_model(feature_names=list(X_train.columns), max_depth=5)"
   ]
  },
  {
   "cell_type": "code",
   "execution_count": null,
   "metadata": {},
   "outputs": [],
   "source": [
    "summ = regressor.summary(feature_names=list(X.columns), only_leaves=True)\n",
    "summ"
   ]
  },
  {
   "cell_type": "code",
   "execution_count": null,
   "metadata": {},
   "outputs": [],
   "source": [
    "NUM_FOLDS = 5\n",
    "cross_val_scores = cross_val_score(regressor, X, y, cv=NUM_FOLDS, scoring='neg_root_mean_squared_error')\n",
    "\n",
    "print('Cross validation RMSE scores: ', -cross_val_scores)\n",
    "print('Mean of cross validation RMSE scores: ', -cross_val_scores.mean())"
   ]
  },
  {
   "cell_type": "code",
   "execution_count": null,
   "metadata": {},
   "outputs": [],
   "source": [
    "# Bereken de correlatie tussen progfh_inv_tot_fh en de andere numerieke features\n",
    "corr = model_df[['progfh_inv_tot_fh', 'stm_progfh_in_duur', 'oorz_code_enc', 'geo_code_enc', 'contractgb_enc', 'techn_veld_enc']].corr()['progfh_inv_tot_fh']\n",
    "corr"
   ]
  },
  {
   "cell_type": "code",
   "execution_count": null,
   "metadata": {},
   "outputs": [],
   "source": [
    "summ[9]['models'].coef_"
   ]
  },
  {
   "cell_type": "code",
   "execution_count": null,
   "metadata": {},
   "outputs": [],
   "source": []
  }
 ],
 "metadata": {
  "kernelspec": {
   "display_name": "PROG",
   "language": "python",
   "name": "python3"
  },
  "language_info": {
   "codemirror_mode": {
    "name": "ipython",
    "version": 3
   },
   "file_extension": ".py",
   "mimetype": "text/x-python",
   "name": "python",
   "nbconvert_exporter": "python",
   "pygments_lexer": "ipython3",
   "version": "3.10.6"
  }
 },
 "nbformat": 4,
 "nbformat_minor": 2
}
