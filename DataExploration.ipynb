{
 "cells": [
  {
   "cell_type": "markdown",
   "id": "c57edad3",
   "metadata": {},
   "source": [
    "# Data exploration"
   ]
  },
  {
   "cell_type": "markdown",
   "id": "ca4a6686",
   "metadata": {},
   "source": [
    "Dit notebook zal worden gebruikt voor het vinden van interessante features."
   ]
  },
  {
   "cell_type": "code",
   "execution_count": 13,
   "id": "e20c2bd7",
   "metadata": {},
   "outputs": [],
   "source": [
    "# imported libraries\n",
    "import pandas as pd\n",
    "import numpy as np\n",
    "import matplotlib.pyplot as plt\n",
    "import warnings\n",
    "from sklearn.preprocessing import TargetEncoder\n",
    "warnings.simplefilter(action='ignore', category=FutureWarning)"
   ]
  },
  {
   "cell_type": "code",
   "execution_count": 14,
   "id": "5cb262c1",
   "metadata": {},
   "outputs": [],
   "source": [
    "# Kolommen die niet met n.v.t. of \"?\" werden aangegeven in de data dictionary.\n",
    "# Zulke kolommen mochten wij negeren (volgens het interview)\n",
    "cols_to_use= [\n",
    " '#stm_sap_meldnr',\n",
    " 'stm_mon_nr',\n",
    " 'stm_vl_post',\n",
    " 'stm_sap_meld_ddt',\n",
    " 'stm_sap_meldtekst_lang',\n",
    " 'stm_sap_meldtekst',\n",
    " 'stm_geo_mld',\n",
    " 'stm_equipm_nr_mld',\n",
    " 'stm_equipm_soort_mld',\n",
    " 'stm_equipm_omschr_mld',\n",
    " 'stm_km_van_mld',\n",
    " 'stm_km_tot_mld',\n",
    " 'stm_prioriteit',\n",
    " 'stm_aanngeb_ddt',\n",
    " 'stm_oh_pg_gst',\n",
    " 'stm_geo_gst',\n",
    " 'stm_equipm_nr_gst',\n",
    " 'stm_equipm_soort_gst',\n",
    " 'stm_equipm_omschr_gst',\n",
    " 'stm_km_van_gst',\n",
    " 'stm_km_tot_gst',\n",
    " 'stm_oorz_groep',\n",
    " 'stm_oorz_code',\n",
    " 'stm_oorz_tkst',\n",
    " 'stm_fh_ddt',\n",
    " 'stm_fh_status',\n",
    " 'stm_sap_storeind_ddt',\n",
    " 'stm_tao_indicator',\n",
    " 'stm_tao_indicator_vorige',\n",
    " 'stm_tao_soort_mutatie',\n",
    " 'stm_tao_telling_mutatie',\n",
    " 'stm_tao_beinvloedbaar_indicator',\n",
    " 'stm_sap_melddatum',\n",
    " 'stm_sap_meldtijd',\n",
    " 'stm_contractgeb_mld',\n",
    " 'stm_techn_mld',\n",
    " 'stm_contractgeb_gst',\n",
    " 'stm_techn_gst',\n",
    " 'stm_aanngeb_dd',\n",
    " 'stm_aanngeb_tijd',\n",
    " 'stm_aanntpl_dd',\n",
    " 'stm_aanntpl_tijd',\n",
    " 'stm_progfh_in_datum',\n",
    " 'stm_progfh_in_tijd',\n",
    " 'stm_progfh_in_invoer_dat',\n",
    " 'stm_progfh_in_invoer_tijd',\n",
    " 'stm_progfh_in_duur',\n",
    " 'stm_progfh_gw_tijd',\n",
    " 'stm_progfh_gw_lwd_datum',\n",
    " 'stm_progfh_gw_lwd_tijd',\n",
    " 'stm_progfh_gw_duur',\n",
    " 'stm_progfh_gw_teller',\n",
    " 'stm_fh_dd',\n",
    " 'stm_fh_tijd',\n",
    " 'stm_fh_duur',\n",
    " 'stm_sap_storeinddatum',\n",
    " 'stm_sap_storeindtijd',\n",
    " 'stm_oorz_tekst_kort',\n",
    " 'stm_pplg_van',\n",
    " 'stm_pplg_naar',\n",
    " 'stm_dstrglp_van',\n",
    " 'stm_dstrglp_naar']"
   ]
  },
  {
   "cell_type": "code",
   "execution_count": 15,
   "id": "a7efe856",
   "metadata": {},
   "outputs": [],
   "source": [
    "df = pd.read_csv(\"data/sap_storing_data_hu_project.csv\", index_col=0, usecols=cols_to_use, engine='pyarrow')"
   ]
  },
  {
   "cell_type": "code",
   "execution_count": 16,
   "id": "01500909",
   "metadata": {},
   "outputs": [
    {
     "data": {
      "text/html": [
       "<div>\n",
       "<style scoped>\n",
       "    .dataframe tbody tr th:only-of-type {\n",
       "        vertical-align: middle;\n",
       "    }\n",
       "\n",
       "    .dataframe tbody tr th {\n",
       "        vertical-align: top;\n",
       "    }\n",
       "\n",
       "    .dataframe thead th {\n",
       "        text-align: right;\n",
       "    }\n",
       "</style>\n",
       "<table border=\"1\" class=\"dataframe\">\n",
       "  <thead>\n",
       "    <tr style=\"text-align: right;\">\n",
       "      <th></th>\n",
       "      <th>stm_sap_meld_ddt</th>\n",
       "      <th>stm_sap_meldtekst_lang</th>\n",
       "      <th>stm_geo_mld</th>\n",
       "      <th>stm_fh_duur</th>\n",
       "      <th>stm_progfh_in_duur</th>\n",
       "      <th>stm_oorz_tekst_kort</th>\n",
       "    </tr>\n",
       "    <tr>\n",
       "      <th>#stm_sap_meldnr</th>\n",
       "      <th></th>\n",
       "      <th></th>\n",
       "      <th></th>\n",
       "      <th></th>\n",
       "      <th></th>\n",
       "      <th></th>\n",
       "    </tr>\n",
       "  </thead>\n",
       "  <tbody>\n",
       "    <tr>\n",
       "      <th>80605111</th>\n",
       "      <td>02/03/2011 15:50:00</td>\n",
       "      <td>Br-Hrt : Sp-HG km 3.0 knik in het spoor 'aanw'.</td>\n",
       "      <td>55</td>\n",
       "      <td>27.0</td>\n",
       "      <td>6</td>\n",
       "      <td></td>\n",
       "    </tr>\n",
       "    <tr>\n",
       "      <th>80386085</th>\n",
       "      <td>04/12/2006 13:30:00</td>\n",
       "      <td>Aml wsl 41 uit controle (eenmalig)</td>\n",
       "      <td>606</td>\n",
       "      <td>211.0</td>\n",
       "      <td>83</td>\n",
       "      <td></td>\n",
       "    </tr>\n",
       "    <tr>\n",
       "      <th>80736442</th>\n",
       "      <td>27/09/2013 18:19:00</td>\n",
       "      <td>Akm : Thv Boornbrug zijn de borden   tractie ...</td>\n",
       "      <td>9</td>\n",
       "      <td>3936.0</td>\n",
       "      <td>60</td>\n",
       "      <td></td>\n",
       "    </tr>\n",
       "    <tr>\n",
       "      <th>80780963</th>\n",
       "      <td>27/09/2014 02:03:00</td>\n",
       "      <td>Zaanstraat : geen water sporen 29 en 30 waars...</td>\n",
       "      <td>917</td>\n",
       "      <td>176.0</td>\n",
       "      <td>90</td>\n",
       "      <td></td>\n",
       "    </tr>\n",
       "    <tr>\n",
       "      <th>80409432</th>\n",
       "      <td>26/05/2007 20:30:00</td>\n",
       "      <td>Mt : Hacousto A1 gestoord</td>\n",
       "      <td>520</td>\n",
       "      <td>4035.0</td>\n",
       "      <td>45</td>\n",
       "      <td></td>\n",
       "    </tr>\n",
       "    <tr>\n",
       "      <th>80745665</th>\n",
       "      <td>07/12/2013 12:59:00</td>\n",
       "      <td>Ht-Vga-Btl : Ovw-melder gestoord. Kontakt opn...</td>\n",
       "      <td>515</td>\n",
       "      <td>62.0</td>\n",
       "      <td>50</td>\n",
       "      <td></td>\n",
       "    </tr>\n",
       "    <tr>\n",
       "      <th>80932768</th>\n",
       "      <td>27/03/2019 20:21:35</td>\n",
       "      <td>IVS10 Ech : Weerstation gestoord.</td>\n",
       "      <td>155</td>\n",
       "      <td>908.0</td>\n",
       "      <td>908</td>\n",
       "      <td>.</td>\n",
       "    </tr>\n",
       "    <tr>\n",
       "      <th>50089002</th>\n",
       "      <td>06/06/2009 11:45:00</td>\n",
       "      <td>AMFVA-BKDA: Verdwaalde man langs het spoor aa...</td>\n",
       "      <td>90.0</td>\n",
       "      <td>0.0</td>\n",
       "      <td>99999999</td>\n",
       "      <td>Verdwaalde man langs het spoor aangespro</td>\n",
       "    </tr>\n",
       "    <tr>\n",
       "      <th>80604395</th>\n",
       "      <td>25/02/2011 11:04:00</td>\n",
       "      <td>2+Elst : achtergebleven tobs,in wsl sectie 406T</td>\n",
       "      <td>510</td>\n",
       "      <td>91.0</td>\n",
       "      <td>151</td>\n",
       "      <td></td>\n",
       "    </tr>\n",
       "    <tr>\n",
       "      <th>80879826</th>\n",
       "      <td>13/02/2017 10:32:31</td>\n",
       "      <td>Ndb : 2 klokken in de hal defect en 1 op het s...</td>\n",
       "      <td>87</td>\n",
       "      <td>4528.0</td>\n",
       "      <td>0</td>\n",
       "      <td>hersteld door ForeyeT en eijsbouts</td>\n",
       "    </tr>\n",
       "    <tr>\n",
       "      <th>50128163</th>\n",
       "      <td>24/05/2014 13:56:00</td>\n",
       "      <td>Hmbv/Hmh : Spelend kind 3 à 4 jaar op het per...</td>\n",
       "      <td>55.0</td>\n",
       "      <td>0.0</td>\n",
       "      <td>99999999</td>\n",
       "      <td>Status gewijzigd van Concept naar Compl</td>\n",
       "    </tr>\n",
       "    <tr>\n",
       "      <th>80356410</th>\n",
       "      <td>21/04/2006 00:49:00</td>\n",
       "      <td>Rm : Wl-91A/B LL n.i.c. Logboeknr  RBV  :    ...</td>\n",
       "      <td>519.0</td>\n",
       "      <td>106.0</td>\n",
       "      <td>109</td>\n",
       "      <td>Stekker in WAK geisoleerd.</td>\n",
       "    </tr>\n",
       "    <tr>\n",
       "      <th>80745586</th>\n",
       "      <td>06/12/2013 17:05:00</td>\n",
       "      <td>Asd: Omroep Asd niet te verstaan. BNS geeft a...</td>\n",
       "      <td>586</td>\n",
       "      <td>195.0</td>\n",
       "      <td>105</td>\n",
       "      <td></td>\n",
       "    </tr>\n",
       "    <tr>\n",
       "      <th>80719364</th>\n",
       "      <td>23/05/2013 13:32:00</td>\n",
       "      <td>Dv : Thv km 14.3 naast wsl 85A staat een kast...</td>\n",
       "      <td>503</td>\n",
       "      <td>125.0</td>\n",
       "      <td>29</td>\n",
       "      <td></td>\n",
       "    </tr>\n",
       "    <tr>\n",
       "      <th>70294794</th>\n",
       "      <td>06/08/2017 19:12:32</td>\n",
       "      <td>Bp-Gka : Ovw 57.7 boom afgereden, rechts.</td>\n",
       "      <td>2</td>\n",
       "      <td>142.0</td>\n",
       "      <td>128</td>\n",
       "      <td></td>\n",
       "    </tr>\n",
       "    <tr>\n",
       "      <th>80346915</th>\n",
       "      <td>01/02/2006 00:39:55</td>\n",
       "      <td>KFH railrem sporen 135 t/m 141 gestoord Logbo...</td>\n",
       "      <td>924</td>\n",
       "      <td>59.0</td>\n",
       "      <td>15</td>\n",
       "      <td>Softwarefout, systeem gestoord en niet m</td>\n",
       "    </tr>\n",
       "    <tr>\n",
       "      <th>80681812</th>\n",
       "      <td>29/08/2012 10:34:00</td>\n",
       "      <td>Amr : noodlasplaten controleren gehele gebied...</td>\n",
       "      <td>620</td>\n",
       "      <td>16.0</td>\n",
       "      <td>179354</td>\n",
       "      <td></td>\n",
       "    </tr>\n",
       "    <tr>\n",
       "      <th>80667330</th>\n",
       "      <td>17/05/2012 22:49:00</td>\n",
       "      <td>Vga : Sectie 306AT t.o.b.s.(1x) [ANALYSE-geen]</td>\n",
       "      <td>515</td>\n",
       "      <td>928.0</td>\n",
       "      <td>72</td>\n",
       "      <td></td>\n",
       "    </tr>\n",
       "    <tr>\n",
       "      <th>80665900</th>\n",
       "      <td>07/05/2012 04:10:00</td>\n",
       "      <td>Zl : Hacousto lijn 7 ( Dl-Emn ) gestoord met ...</td>\n",
       "      <td>603</td>\n",
       "      <td>294.0</td>\n",
       "      <td>99999999</td>\n",
       "      <td></td>\n",
       "    </tr>\n",
       "    <tr>\n",
       "      <th>70367319</th>\n",
       "      <td>03/05/2018 17:54:53</td>\n",
       "      <td>Gr-Ldm : Sectie 65A-DT t.o.b.s. Ovw. in de sto...</td>\n",
       "      <td>118</td>\n",
       "      <td>29.0</td>\n",
       "      <td>28</td>\n",
       "      <td>Storing is er uit.</td>\n",
       "    </tr>\n",
       "  </tbody>\n",
       "</table>\n",
       "</div>"
      ],
      "text/plain": [
       "                    stm_sap_meld_ddt  \\\n",
       "#stm_sap_meldnr                        \n",
       "80605111         02/03/2011 15:50:00   \n",
       "80386085         04/12/2006 13:30:00   \n",
       "80736442         27/09/2013 18:19:00   \n",
       "80780963         27/09/2014 02:03:00   \n",
       "80409432         26/05/2007 20:30:00   \n",
       "80745665         07/12/2013 12:59:00   \n",
       "80932768         27/03/2019 20:21:35   \n",
       "50089002         06/06/2009 11:45:00   \n",
       "80604395         25/02/2011 11:04:00   \n",
       "80879826         13/02/2017 10:32:31   \n",
       "50128163         24/05/2014 13:56:00   \n",
       "80356410         21/04/2006 00:49:00   \n",
       "80745586         06/12/2013 17:05:00   \n",
       "80719364         23/05/2013 13:32:00   \n",
       "70294794         06/08/2017 19:12:32   \n",
       "80346915         01/02/2006 00:39:55   \n",
       "80681812         29/08/2012 10:34:00   \n",
       "80667330         17/05/2012 22:49:00   \n",
       "80665900         07/05/2012 04:10:00   \n",
       "70367319         03/05/2018 17:54:53   \n",
       "\n",
       "                                            stm_sap_meldtekst_lang  \\\n",
       "#stm_sap_meldnr                                                      \n",
       "80605111           Br-Hrt : Sp-HG km 3.0 knik in het spoor 'aanw'.   \n",
       "80386085                        Aml wsl 41 uit controle (eenmalig)   \n",
       "80736442          Akm : Thv Boornbrug zijn de borden   tractie ...   \n",
       "80780963          Zaanstraat : geen water sporen 29 en 30 waars...   \n",
       "80409432                                 Mt : Hacousto A1 gestoord   \n",
       "80745665          Ht-Vga-Btl : Ovw-melder gestoord. Kontakt opn...   \n",
       "80932768                         IVS10 Ech : Weerstation gestoord.   \n",
       "50089002          AMFVA-BKDA: Verdwaalde man langs het spoor aa...   \n",
       "80604395           2+Elst : achtergebleven tobs,in wsl sectie 406T   \n",
       "80879826         Ndb : 2 klokken in de hal defect en 1 op het s...   \n",
       "50128163          Hmbv/Hmh : Spelend kind 3 à 4 jaar op het per...   \n",
       "80356410          Rm : Wl-91A/B LL n.i.c. Logboeknr  RBV  :    ...   \n",
       "80745586          Asd: Omroep Asd niet te verstaan. BNS geeft a...   \n",
       "80719364          Dv : Thv km 14.3 naast wsl 85A staat een kast...   \n",
       "70294794                 Bp-Gka : Ovw 57.7 boom afgereden, rechts.   \n",
       "80346915          KFH railrem sporen 135 t/m 141 gestoord Logbo...   \n",
       "80681812          Amr : noodlasplaten controleren gehele gebied...   \n",
       "80667330            Vga : Sectie 306AT t.o.b.s.(1x) [ANALYSE-geen]   \n",
       "80665900          Zl : Hacousto lijn 7 ( Dl-Emn ) gestoord met ...   \n",
       "70367319         Gr-Ldm : Sectie 65A-DT t.o.b.s. Ovw. in de sto...   \n",
       "\n",
       "                stm_geo_mld  stm_fh_duur stm_progfh_in_duur  \\\n",
       "#stm_sap_meldnr                                               \n",
       "80605111                 55         27.0                  6   \n",
       "80386085                606        211.0                 83   \n",
       "80736442                  9       3936.0                 60   \n",
       "80780963                917        176.0                 90   \n",
       "80409432                520       4035.0                 45   \n",
       "80745665                515         62.0                 50   \n",
       "80932768                155        908.0                908   \n",
       "50089002               90.0          0.0           99999999   \n",
       "80604395                510         91.0                151   \n",
       "80879826                 87       4528.0                  0   \n",
       "50128163               55.0          0.0           99999999   \n",
       "80356410              519.0        106.0                109   \n",
       "80745586                586        195.0                105   \n",
       "80719364                503        125.0                 29   \n",
       "70294794                  2        142.0                128   \n",
       "80346915                924         59.0                 15   \n",
       "80681812                620         16.0             179354   \n",
       "80667330                515        928.0                 72   \n",
       "80665900                603        294.0           99999999   \n",
       "70367319                118         29.0                 28   \n",
       "\n",
       "                                      stm_oorz_tekst_kort  \n",
       "#stm_sap_meldnr                                            \n",
       "80605111                                                   \n",
       "80386085                                                   \n",
       "80736442                                                   \n",
       "80780963                                                   \n",
       "80409432                                                   \n",
       "80745665                                                   \n",
       "80932768                                                .  \n",
       "50089002         Verdwaalde man langs het spoor aangespro  \n",
       "80604395                                                   \n",
       "80879826               hersteld door ForeyeT en eijsbouts  \n",
       "50128163          Status gewijzigd van Concept naar Compl  \n",
       "80356410                       Stekker in WAK geisoleerd.  \n",
       "80745586                                                   \n",
       "80719364                                                   \n",
       "70294794                                                   \n",
       "80346915         Softwarefout, systeem gestoord en niet m  \n",
       "80681812                                                   \n",
       "80667330                                                   \n",
       "80665900                                                   \n",
       "70367319                               Storing is er uit.  "
      ]
     },
     "execution_count": 16,
     "metadata": {},
     "output_type": "execute_result"
    }
   ],
   "source": [
    "df[['stm_sap_meld_ddt', 'stm_sap_meldtekst_lang','stm_geo_mld', 'stm_fh_duur', 'stm_progfh_in_duur', 'stm_oorz_tekst_kort']].sample(20)"
   ]
  },
  {
   "cell_type": "markdown",
   "id": "e685b596",
   "metadata": {},
   "source": [
    "## Target variabele aanmaken"
   ]
  },
  {
   "cell_type": "markdown",
   "id": "fc224050",
   "metadata": {},
   "source": [
    "Target variabele anm_tot_fh, welke de duur vanaf dat de aannemer ter plaatse is, tot het daadwerkelijke functieherstel. \\\n",
    "Dit is een van de betere keuzes voor de target variabele. \\\n",
    "Neem alle tijdstippen in de dataset: \\\n",
    "Melding komt binnen: Te vroeg, hier is nog maar weinig informatie. \\\n",
    "Aannemer gebeld: Gebeurt vlak nadat de melding binnenkomt. Dit is nog steeds vroeg. \\\n",
    "De aannemer is ten plaatse: Liever een latere prognose, wanneer de aannemer weet wat er aan de hand is. \\\n",
    "Prognose: Dit is de prognose van de aannemer. Interessant maar niet voor target. \\\n",
    "Invoer prognose: Dit zou het ideale punt zijn waarop wij een voorspelling geven. Dit vindt vaker (zie later in het notebook) laat in het proces, en rond functieherstel plaats. Vaak ook erna. \\\n",
    "Functieherstel: Dit is wat we willen weten. \\\n",
    "Einde storing: Dit is later dan wat we willen weten, dus niet relevant. \\\n",
    "Uitgebreide uitleg voor deze keuze is elders te vinden. \\\n",
    "**Conclusie: Wij nemen het tijdsverschil tussen aannemer aankomst en functieherstel**"
   ]
  },
  {
   "cell_type": "code",
   "execution_count": 17,
   "id": "e715a777",
   "metadata": {},
   "outputs": [],
   "source": [
    "# Convert columns to datetime type\n",
    "df['stm_aanntpl_tijd'] = pd.to_datetime(df['stm_aanntpl_tijd'], format='%H:%M:%S', errors='coerce')\n",
    "df['stm_aanntpl_dd'] = pd.to_datetime(df['stm_aanntpl_dd'], format='%d/%m/%Y', errors='coerce')\n",
    "df['stm_fh_ddt'] = pd.to_datetime(df['stm_fh_ddt'], format='%d/%m/%Y %H:%M:%S', errors='coerce')\n",
    "\n",
    "# Combine date and time columns to a datetime column\n",
    "df['stm_aanntpl_tijd'] = df['stm_aanntpl_tijd'].astype('str')\n",
    "df['stm_aanntpl_dd'] = df['stm_aanntpl_dd'].astype('str')\n",
    "df[\"aanntpl_ddt\"] = df[\"stm_aanntpl_dd\"] + \" \" + df[\"stm_aanntpl_tijd\"].apply(lambda x: x.split(' ')[-1])\n",
    "df['aanntpl_ddt'] = pd.to_datetime(df['aanntpl_ddt'], format='%Y-%m-%d %H:%M:%S', errors='coerce')\n",
    "df = df.dropna(subset=['aanntpl_ddt'])"
   ]
  },
  {
   "cell_type": "code",
   "execution_count": 18,
   "id": "7e0f6203",
   "metadata": {},
   "outputs": [],
   "source": [
    "# Maak een kolom met de duur van de aannemer ter plaatse tot functieherstel\n",
    "df['anm_tot_fh'] = df['stm_fh_ddt'] - df['aanntpl_ddt']\n",
    "df['anm_tot_fh'] = df['anm_tot_fh'].apply(lambda x: x.seconds/60 + x.days * (24*60))"
   ]
  },
  {
   "cell_type": "code",
   "execution_count": 19,
   "id": "0880146a",
   "metadata": {},
   "outputs": [],
   "source": [
    "# Dit haalt zo'n 6000 rijen uit de database, tot 683985\n",
    "df = df.dropna(subset=['anm_tot_fh'])"
   ]
  },
  {
   "cell_type": "markdown",
   "id": "dcb3040f",
   "metadata": {},
   "source": [
    "We halen negatieve waardes voor de targetvariabele uit de dataset. \\\n",
    "Deze zijn voor ons model, wat de functiehersteltijd wilt berekenen als de aannemer\n",
    "ter plaatse is gekomen niet relevant. Het probleem is dan namelijk al opgelost. \\\n",
    "\\\n",
    "Verder is ons verteld dat wij storingen met een verwachte functieherstelduur van korter\n",
    "dan 5 minuten of langer dan 8 uur mogen weglaten. \\ \n",
    "Deze storingen zijn óf zodanig snel opgelost dat deze niet nuttig zijn om een voorspelling voor te doen, \\\n",
    "óf zodanig lang, dat het treinverkeer toch niet snel zal rijden, en het beter is om af te wachten."
   ]
  },
  {
   "cell_type": "code",
   "execution_count": 20,
   "id": "7d7bca77",
   "metadata": {},
   "outputs": [],
   "source": [
    "# We halen negatieve waardes voor de targetvariabele uit de data\n",
    "df = df[df['anm_tot_fh'] >= 0]\n",
    "# We halen prognoses voor korter dan 5 minuten en langer dan 8 uur uit de data\n",
    "df = df[(df['anm_tot_fh'] >= 5) & (df['anm_tot_fh'] <= 480)]"
   ]
  },
  {
   "cell_type": "markdown",
   "id": "83d45d73",
   "metadata": {},
   "source": [
    "Door het aanmaken van de target variabele, NaN's en outliers eruit te halen, komen wij uit op 544583 resultaten."
   ]
  },
  {
   "cell_type": "markdown",
   "id": "2149d54e",
   "metadata": {},
   "source": [
    "### Duplicates\n",
    "Zijn er duplicate in het model (mbt de index)"
   ]
  },
  {
   "cell_type": "code",
   "execution_count": 21,
   "id": "a8928f5a",
   "metadata": {},
   "outputs": [
    {
     "data": {
      "text/plain": [
       "194625"
      ]
     },
     "execution_count": 21,
     "metadata": {},
     "output_type": "execute_result"
    }
   ],
   "source": [
    "sum(df.index.duplicated())"
   ]
  },
  {
   "cell_type": "code",
   "execution_count": 22,
   "id": "06eb3c1c",
   "metadata": {},
   "outputs": [
    {
     "data": {
      "text/plain": [
       "41699"
      ]
     },
     "execution_count": 22,
     "metadata": {},
     "output_type": "execute_result"
    }
   ],
   "source": [
    "sum(df.duplicated())"
   ]
  },
  {
   "cell_type": "code",
   "execution_count": 24,
   "id": "45bfa950",
   "metadata": {},
   "outputs": [],
   "source": [
    "df = df[~df.index.duplicated(keep='first')]"
   ]
  },
  {
   "cell_type": "markdown",
   "id": "9067d353",
   "metadata": {},
   "source": [
    "Het verwijderen van rijen waarvan het #stm_sap_meldnr al eerder in de dataset is voorgekomen, reduceert de dataset tot 350.000."
   ]
  },
  {
   "cell_type": "markdown",
   "id": "8dce3c14",
   "metadata": {},
   "source": [
    "### Functie voor het verwijderen van outliers"
   ]
  },
  {
   "cell_type": "code",
   "execution_count": null,
   "id": "3caf6b79",
   "metadata": {},
   "outputs": [],
   "source": [
    "def remove_outlier(df_in, col_name, k=3):\n",
    "    \"\"\"Removes rows in the dataframe which values in the given column are more than the given k (or 3) times\n",
    "    the interquartile range removed from the 25 and/or 75 quantile.\"\"\"\n",
    "    q1 = df_in[col_name].quantile(0.25)\n",
    "    q3 = df_in[col_name].quantile(0.75)\n",
    "    iqr = q3 - q1 \n",
    "    fence_low  = q1 - k * iqr\n",
    "    fence_high = q3 + k * iqr\n",
    "    df_out = df_in.loc[(df_in[col_name] > fence_low) & (df_in[col_name] < fence_high)]\n",
    "    return df_out"
   ]
  },
  {
   "cell_type": "markdown",
   "id": "f80795b0",
   "metadata": {},
   "source": [
    "## Data exploration"
   ]
  },
  {
   "cell_type": "markdown",
   "id": "f3970ebc",
   "metadata": {},
   "source": [
    "#stm_sap_meldnr: De index. Niet een feature \\\n",
    "stm_mon_nr: Monitoringsnummer. Ziet er niet interessant uit. \\\n",
    "stm_vl_post:  \\\n",
    "stm_sap_meld_ddt:  \\\n",
    "stm_sap_meldtekst_lang:  \\\n",
    "stm_sap_meldtekst:  \\\n",
    "stm_geo_mld, stm_geo_gst: De geocode van de storing. Nader onderzoeken. \\\n",
    "stm_equipm_nr_mld \\\n",
    "stm_equipm_soort_mld \\\n",
    "stm_equipm_omschr_mld \\\n",
    "stm_km_van_mld, stm_km_van_gst \\\n",
    "stm_km_tot_mld, stm_km_tot_gst \\\n",
    "stm_prioriteit: Prioriteit van de storing. Interessante kolom. \\\n",
    "stm_aanngeb_ddt \\\n",
    "stm_oh_pg_gst \\\n",
    "stm_equipm_nr_gst \\\n",
    "stm_equipm_soort_gst \\\n",
    "stm_equipm_omschr_gst \\\n",
    "stm_oorz_groep: De oorzaakgroep. Wat is de oorzaak. Klinkt interessant. \\\n",
    "stm_oorz_code: De oorzaakcode. Wat is er mis. Klinkt veelbelovend. \\\n",
    "stm_oorz_tkst \\\n",
    "stm_fh_ddt \\\n",
    "stm_fh_status \\\n",
    "stm_sap_storeind_ddt \\\n",
    "stm_tao_indicator \\\n",
    "stm_tao_indicator_vorige \\\n",
    "stm_tao_soort_mutatie \\\n",
    "stm_tao_telling_mutatie \\\n",
    "stm_tao_beinvloedbaar_indicator \\\n",
    "stm_sap_melddatum \\\n",
    "stm_sap_meldtijd \\\n",
    "stm_contractgeb_mld, stm_contractgeb_gst: Contractgebied storing (aannemer). Klinkt interessant. \\\n",
    "stm_techn_mld, stm_techn_gst: Technieklabel storing. Klinkt interessant. \\\n",
    "stm_aanngeb_dd, stm_aanngeb_tijd: Datum/tijd aannemer gebeld. Buiten target. \\\n",
    "stm_aanntpl_dd, stm_aanntpl_tijd: Begin van duur target variabele. Geen feature. \\\n",
    "stm_progfh_in_datum, stm_progfh_in_tijd: Initiële datum/tijd prognose functieherstel. Zeer interessant. \\\n",
    "stm_progfh_in_invoer_dat, stm_progfh_in_invoer_tijd: Invoer tijd/datum initiële prognose? Interessant. \\\n",
    "stm_progfh_in_duur: Prognose initiële functieherstel. Zeer interessant. \\\n",
    "stm_progfh_gw_tijd, stm_progfh_gw_lwd_datum: Gewijzigde tijd/datum prognose \\\n",
    "stm_progfh_gw_lwd_tijd \\\n",
    "stm_progfh_gw_duur: Duur van de gewijzigde prognose, \\\n",
    "stm_progfh_gw_teller: Hoe vaak is de prognose van de aannemer gewijzigd. Enigzins interessant, moeilijk bruikbaar. \\\n",
    "stm_fh_dd, stm_fh_tijd: Datum/tijd functieherstel. Target valt hierbinnen. Niet interessant. \\\n",
    "stm_fh_duur: Duur vanaf melding tot functieherstel in minuten. Target is pas vanaf ter plaatse. Niet interessant. \\\n",
    "stm_sap_storeinddatum, stm_sap_storeindtijd: Datum/tijd einde storing. Dit is verder dan functieherstel, dus niet interessant. \\\n",
    "stm_oorz_tekst_kort \\\n",
    "stm_pplg_van \\\n",
    "stm_pplg_naar \\\n",
    "stm_dstrglp_van \\\n",
    "stm_dstrglp_naar \\"
   ]
  },
  {
   "cell_type": "markdown",
   "id": "3d35a47a",
   "metadata": {},
   "source": [
    "### stm_progfh_in_duur"
   ]
  },
  {
   "cell_type": "code",
   "execution_count": null,
   "id": "f62043ff",
   "metadata": {},
   "outputs": [],
   "source": [
    "# Remove nonsense values\n",
    "dfprog = df\n",
    "dfprog['stm_progfh_in_duur'] = df['stm_progfh_in_duur'].str.extract('(\\d+)', expand=False)\n",
    "dfprog['stm_progfh_in_duur'] = dfprog['stm_progfh_in_duur'].astype('int32')\n",
    "dfprog = dfprog[dfprog.stm_progfh_in_duur != 99999999]\n",
    "dfprog = dfprog[dfprog.stm_progfh_in_duur != 0]"
   ]
  },
  {
   "cell_type": "code",
   "execution_count": null,
   "id": "b7f73f21",
   "metadata": {},
   "outputs": [],
   "source": [
    "dfprog = remove_outlier(dfprog, 'stm_progfh_in_duur')"
   ]
  },
  {
   "cell_type": "code",
   "execution_count": null,
   "id": "209b5472",
   "metadata": {},
   "outputs": [],
   "source": [
    "plt.scatter(dfprog['stm_progfh_in_duur'], dfprog['anm_tot_fh'], s=0.3, alpha=0.1)\n",
    "plt.title('Initiële prognose aannemer, functieherstelduur')\n",
    "plt.xlabel('stm_progfh_in_duur')\n",
    "plt.ylabel('anm_tot_fh')\n",
    "# plt.plot(np.arange(0,500), np.repeat(60, 500))\n",
    "# plt.plot(np.arange(0, 500), np.arange(0, 500), color='red')\n",
    "plt.show()"
   ]
  },
  {
   "cell_type": "code",
   "execution_count": null,
   "id": "0cbbf0ec",
   "metadata": {},
   "outputs": [],
   "source": [
    "df.corr(numeric_only=True)['anm_tot_fh']"
   ]
  },
  {
   "cell_type": "code",
   "execution_count": null,
   "id": "70cd79ba",
   "metadata": {},
   "outputs": [],
   "source": [
    "# pd.options.display.max_rows = 1000\n",
    "with pd.option_context(\"display.max_rows\", 100):\n",
    "    print(df['stm_oorz_code'].value_counts())"
   ]
  },
  {
   "cell_type": "code",
   "execution_count": null,
   "id": "cb4b9658",
   "metadata": {},
   "outputs": [],
   "source": [
    "# Convert columns to datetime type\n",
    "df['stm_progfh_in_invoer_tijd'] = pd.to_datetime(df['stm_progfh_in_invoer_tijd'], format='%H:%M:%S', errors='coerce')\n",
    "df['stm_progfh_in_invoer_dat'] = pd.to_datetime(df['stm_progfh_in_invoer_dat'], format='%d/%m/%Y', errors='coerce')\n",
    "df['stm_fh_ddt'] = pd.to_datetime(df['stm_fh_ddt'], format='%d/%m/%Y %H:%M:%S', errors='coerce')\n",
    "\n",
    "# Combine date and time columns to a datetime column\n",
    "df['stm_progfh_in_invoer_tijd'] = df['stm_progfh_in_invoer_tijd'].astype('str')\n",
    "df['stm_progfh_in_invoer_dat'] = df['stm_progfh_in_invoer_dat'].astype('str')\n",
    "df[\"stm_progfh_in_invoer_ddt\"] = df[\"stm_progfh_in_invoer_dat\"] + \" \" + df[\"stm_progfh_in_invoer_tijd\"].apply(lambda x: x.split(' ')[-1])\n",
    "df['stm_progfh_in_invoer_ddt'] = pd.to_datetime(df['stm_progfh_in_invoer_ddt'], format='%Y-%m-%d %H:%M:%S', errors='coerce')\n",
    "df = df.dropna(subset=['stm_progfh_in_invoer_ddt'])"
   ]
  },
  {
   "cell_type": "code",
   "execution_count": null,
   "id": "dbe7d836",
   "metadata": {},
   "outputs": [],
   "source": [
    "df['duur_tot_prog'] = df['stm_progfh_in_invoer_ddt'] - df['aanntpl_ddt']\n",
    "df['duur_tot_prog'] = df['duur_tot_prog'].apply(lambda x: x.seconds/60 + x.days * (24*60))"
   ]
  },
  {
   "cell_type": "code",
   "execution_count": null,
   "id": "912366ee",
   "metadata": {},
   "outputs": [],
   "source": [
    "df['prog_tov_fh_tijdstip'] = df['duur_tot_prog'] / df['anm_tot_fh']"
   ]
  },
  {
   "cell_type": "code",
   "execution_count": null,
   "id": "6fea56ce",
   "metadata": {},
   "outputs": [],
   "source": [
    "# plt.boxplot(df[(df.prog_tov_fh_tijdstip < 4) & (df.prog_tov_fh_tijdstip > 0)]['prog_tov_fh_tijdstip'])\n",
    "plt.boxplot(df['prog_tov_fh_tijdstip'])"
   ]
  },
  {
   "cell_type": "code",
   "execution_count": null,
   "id": "61cc328d",
   "metadata": {},
   "outputs": [],
   "source": [
    "df['stm_progfh_in_duur'].sample(20)"
   ]
  },
  {
   "cell_type": "markdown",
   "id": "d3ec0c70",
   "metadata": {},
   "source": [
    "### stm_oorz_groep"
   ]
  },
  {
   "cell_type": "code",
   "execution_count": null,
   "id": "d0b667a0",
   "metadata": {},
   "outputs": [],
   "source": [
    "df['stm_oorz_groep'].unique()"
   ]
  },
  {
   "cell_type": "code",
   "execution_count": null,
   "id": "abad2dac",
   "metadata": {},
   "outputs": [],
   "source": [
    "boxplot_data = [df[df.stm_oorz_groep == value]['anm_tot_fh'] for value in df['stm_oorz_groep'].unique()]\n",
    "\n",
    "fig, ax = plt.subplots()\n",
    "ax.boxplot(boxplot_data)\n",
    "ax.set_xticklabels(df['stm_oorz_groep'].unique())\n",
    "ax.set_ylabel('anm_tot_fh')\n",
    "plt.show()"
   ]
  },
  {
   "cell_type": "code",
   "execution_count": null,
   "id": "6bdd2d24",
   "metadata": {},
   "outputs": [],
   "source": [
    "for value in ['ONR-RIB', 'ONR-DERD', 'TECHONV', 'WEER']:\n",
    "    print(df[df.stm_oorz_groep == value]['anm_tot_fh'].quantile([0.25, 0.5, 0.75]))"
   ]
  },
  {
   "cell_type": "markdown",
   "id": "2fb15834",
   "metadata": {},
   "source": [
    "### stm_geo_mld"
   ]
  },
  {
   "cell_type": "code",
   "execution_count": null,
   "id": "423a5b2e",
   "metadata": {},
   "outputs": [],
   "source": [
    "median_time = []\n",
    "for value in df['stm_geo_mld'].unique():\n",
    "    median_time.append(df[(df.stm_geo_mld == value) & (df.stm_oorz_code == 225)]['anm_tot_fh'].median())\n",
    "\n",
    "median_time = [x for x in median_time if str(x) != 'nan']\n",
    "\n",
    "plt.boxplot(median_time)\n",
    "plt.title('anm_tot_fh per geocode voor oorzaakcode 225')\n",
    "plt.ylabel('Mediaan anm_tot_fh per geocode')"
   ]
  },
  {
   "cell_type": "markdown",
   "id": "8b31e3fe",
   "metadata": {},
   "source": [
    "### stm_contractgeb_mld"
   ]
  },
  {
   "cell_type": "code",
   "execution_count": null,
   "id": "b0a6f8a1",
   "metadata": {},
   "outputs": [],
   "source": [
    "contract_time = []\n",
    "for cont in df['stm_contractgeb_mld'].unique():\n",
    "    contract_time.append(df[(df.stm_contractgeb_mld == cont) & (df.stm_oorz_code == 225)]['anm_tot_fh'].median())\n",
    "\n",
    "contract_time = [x for x in contract_time if str(x) != 'nan']\n",
    "\n",
    "plt.boxplot(contract_time)\n",
    "plt.title('anm_tot_fh per contractgebied voor oorzaakcode 225')\n",
    "plt.ylabel('Mediaan anm_tot_fh per contractgebied')\n",
    "plt.show()\n",
    "print('')"
   ]
  },
  {
   "cell_type": "markdown",
   "id": "d5da873d",
   "metadata": {},
   "source": [
    "### stm_prioriteit"
   ]
  },
  {
   "cell_type": "code",
   "execution_count": null,
   "id": "98aa8775",
   "metadata": {},
   "outputs": [],
   "source": [
    "boxplot_data = [df[df.stm_prioriteit == value]['anm_tot_fh'] for value in [1,2,4,5,8,9]]\n",
    "\n",
    "fig, ax = plt.subplots()\n",
    "ax.boxplot(boxplot_data)\n",
    "ax.set_xticklabels([1,2,4,5,8,9])\n",
    "ax.set_xlabel('Priority label')\n",
    "ax.set_ylabel('anm_tot_fh')\n",
    "plt.title('Boxplots for different priority values')\n",
    "plt.show()"
   ]
  },
  {
   "cell_type": "markdown",
   "id": "da11edc7",
   "metadata": {},
   "source": [
    "### stm_techn_mld"
   ]
  },
  {
   "cell_type": "code",
   "execution_count": null,
   "id": "5d764810",
   "metadata": {},
   "outputs": [],
   "source": [
    "boxplot_data = [df[df.stm_techn_mld == value]['anm_tot_fh'] for value in df['stm_techn_mld'].unique()]\n",
    "\n",
    "fig, ax = plt.subplots()\n",
    "ax.boxplot(boxplot_data)\n",
    "ax.set_xticklabels(df['stm_techn_mld'].unique())\n",
    "ax.set_xlabel('Techniekveld label')\n",
    "ax.set_ylabel('Duur aannemer gearriveerd tot functieherstel')\n",
    "plt.title('Boxplots for different techniekveld labels')\n",
    "plt.show()"
   ]
  },
  {
   "cell_type": "markdown",
   "id": "7232b886",
   "metadata": {},
   "source": [
    "### stm_oorzaak_code"
   ]
  },
  {
   "cell_type": "code",
   "execution_count": null,
   "id": "ec5a0fda",
   "metadata": {},
   "outputs": [],
   "source": [
    "len(df['stm_oorz_code'].unique())"
   ]
  },
  {
   "cell_type": "code",
   "execution_count": null,
   "id": "fa35be91",
   "metadata": {},
   "outputs": [],
   "source": [
    "boxplot_data = [df[df.stm_oorz_code == value]['anm_tot_fh'] for value in df['stm_oorz_code'].unique()]\n",
    "\n",
    "fig, ax = plt.subplots()\n",
    "ax.boxplot(boxplot_data)\n",
    "ax.set_xticklabels(df['stm_oorz_code'].unique())\n",
    "ax.set_xlabel('Oorzaak code')\n",
    "ax.set_ylabel('anm_tot_fh')\n",
    "plt.title('Boxplots for different oorzaakcodes')\n",
    "plt.show()"
   ]
  }
 ],
 "metadata": {
  "kernelspec": {
   "display_name": "Python 3 (ipykernel)",
   "language": "python",
   "name": "python3"
  },
  "language_info": {
   "codemirror_mode": {
    "name": "ipython",
    "version": 3
   },
   "file_extension": ".py",
   "mimetype": "text/x-python",
   "name": "python",
   "nbconvert_exporter": "python",
   "pygments_lexer": "ipython3",
   "version": "3.11.4"
  }
 },
 "nbformat": 4,
 "nbformat_minor": 5
}
