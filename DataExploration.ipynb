{
 "cells": [
  {
   "cell_type": "markdown",
   "id": "6ccf29f8",
   "metadata": {},
   "source": [
    "# Data exploration"
   ]
  },
  {
   "cell_type": "markdown",
   "id": "dd82b8ff",
   "metadata": {},
   "source": [
    "Dit notebook zal worden gebruikt voor het vinden van interessante features."
   ]
  },
  {
   "cell_type": "code",
   "execution_count": null,
   "id": "b2d09705",
   "metadata": {},
   "outputs": [],
   "source": [
    "# imported libraries\n",
    "import pandas as pd\n",
    "import numpy as np\n",
    "import matplotlib.pyplot as plt\n",
    "import warnings\n",
    "warnings.simplefilter(action='ignore', category=FutureWarning)"
   ]
  },
  {
   "cell_type": "code",
   "execution_count": null,
   "id": "f9e67076",
   "metadata": {},
   "outputs": [],
   "source": [
    "# Kolommen die niet met n.v.t. of \"?\" werden aangegeven in de data dictionary.\n",
    "# Zulke kolommen mochten wij negeren (volgens het interview)\n",
    "cols_to_use= [\n",
    " '#stm_sap_meldnr',\n",
    " 'stm_mon_nr',\n",
    " 'stm_vl_post',\n",
    " 'stm_sap_meld_ddt',\n",
    " 'stm_sap_meldtekst_lang',\n",
    " 'stm_sap_meldtekst',\n",
    " 'stm_geo_mld',\n",
    " 'stm_equipm_nr_mld',\n",
    " 'stm_equipm_soort_mld',\n",
    " 'stm_equipm_omschr_mld',\n",
    " 'stm_km_van_mld',\n",
    " 'stm_km_tot_mld',\n",
    " 'stm_prioriteit',\n",
    " 'stm_aanngeb_ddt',\n",
    " 'stm_oh_pg_gst',\n",
    " 'stm_geo_gst',\n",
    " 'stm_equipm_nr_gst',\n",
    " 'stm_equipm_soort_gst',\n",
    " 'stm_equipm_omschr_gst',\n",
    " 'stm_km_van_gst',\n",
    " 'stm_km_tot_gst',\n",
    " 'stm_oorz_groep',\n",
    " 'stm_oorz_code',\n",
    " 'stm_oorz_tkst',\n",
    " 'stm_fh_ddt',\n",
    " 'stm_fh_status',\n",
    " 'stm_sap_storeind_ddt',\n",
    " 'stm_tao_indicator',\n",
    " 'stm_tao_indicator_vorige',\n",
    " 'stm_tao_soort_mutatie',\n",
    " 'stm_tao_telling_mutatie',\n",
    " 'stm_tao_beinvloedbaar_indicator',\n",
    " 'stm_sap_melddatum',\n",
    " 'stm_sap_meldtijd',\n",
    " 'stm_contractgeb_mld',\n",
    " 'stm_techn_mld',\n",
    " 'stm_contractgeb_gst',\n",
    " 'stm_techn_gst',\n",
    " 'stm_aanngeb_dd',\n",
    " 'stm_aanngeb_tijd',\n",
    " 'stm_aanntpl_dd',\n",
    " 'stm_aanntpl_tijd',\n",
    " 'stm_progfh_in_datum',\n",
    " 'stm_progfh_in_tijd',\n",
    " 'stm_progfh_in_invoer_dat',\n",
    " 'stm_progfh_in_invoer_tijd',\n",
    " 'stm_progfh_in_duur',\n",
    " 'stm_progfh_gw_tijd',\n",
    " 'stm_progfh_gw_lwd_datum',\n",
    " 'stm_progfh_gw_lwd_tijd',\n",
    " 'stm_progfh_gw_duur',\n",
    " 'stm_progfh_gw_teller',\n",
    " 'stm_fh_dd',\n",
    " 'stm_fh_tijd',\n",
    " 'stm_fh_duur',\n",
    " 'stm_sap_storeinddatum',\n",
    " 'stm_sap_storeindtijd',\n",
    " 'stm_oorz_tekst_kort',\n",
    " 'stm_pplg_van',\n",
    " 'stm_pplg_naar',\n",
    " 'stm_dstrglp_van',\n",
    " 'stm_dstrglp_naar']"
   ]
  },
  {
   "cell_type": "code",
   "execution_count": null,
   "id": "566a9403",
   "metadata": {},
   "outputs": [],
   "source": [
    "df = pd.read_csv(\"data/sap_storing_data_hu_project.csv\", index_col=0, usecols=cols_to_use, engine='pyarrow')"
   ]
  },
  {
   "cell_type": "markdown",
   "id": "6f52c2ec",
   "metadata": {},
   "source": [
    "## Target variabele aanmaken"
   ]
  },
  {
   "cell_type": "markdown",
   "id": "56c0bdfd",
   "metadata": {},
   "source": [
    "Target variabele anm_tot_fh, welke de duur vanaf dat de aannemer ter plaatse is, tot het daadwerkelijke functieherstel."
   ]
  },
  {
   "cell_type": "code",
   "execution_count": null,
   "id": "a66189da",
   "metadata": {},
   "outputs": [],
   "source": [
    "# Convert columns to datetime type\n",
    "df['stm_aanntpl_tijd'] = pd.to_datetime(df['stm_aanntpl_tijd'], format='%H:%M:%S', errors='coerce')\n",
    "df['stm_aanntpl_dd'] = pd.to_datetime(df['stm_aanntpl_dd'], format='%d/%m/%Y', errors='coerce')\n",
    "df['stm_fh_ddt'] = pd.to_datetime(df['stm_fh_ddt'], format='%d/%m/%Y %H:%M:%S', errors='coerce')\n",
    "\n",
    "# Combine date and time columns to a datetime column\n",
    "df['stm_aanntpl_tijd'] = df['stm_aanntpl_tijd'].astype('str')\n",
    "df['stm_aanntpl_dd'] = df['stm_aanntpl_dd'].astype('str')\n",
    "df[\"aanntpl_ddt\"] = df[\"stm_aanntpl_dd\"] + \" \" + df[\"stm_aanntpl_tijd\"].apply(lambda x: x.split(' ')[-1])\n",
    "df['aanntpl_ddt'] = pd.to_datetime(df['aanntpl_ddt'], format='%Y-%m-%d %H:%M:%S', errors='coerce')\n",
    "df = df.dropna(subset=['aanntpl_ddt'])"
   ]
  },
  {
   "cell_type": "code",
   "execution_count": null,
   "id": "b910a992",
   "metadata": {},
   "outputs": [],
   "source": [
    "# Maak een kolom met de duur van de aannemer ter plaatse tot functieherstel\n",
    "df['anm_tot_fh'] = df['stm_fh_ddt'] - df['aanntpl_ddt']\n",
    "df['anm_tot_fh'] = df['anm_tot_fh'].apply(lambda x: x.seconds/60 + x.days * (24*60))\n",
    "df = df.dropna(subset=['anm_tot_fh'])"
   ]
  },
  {
   "cell_type": "markdown",
   "id": "1ad5faf9",
   "metadata": {},
   "source": [
    "We halen negatieve waardes voor de targetvariabele uit de dataset. \\\n",
    "Deze zijn voor ons model, wat de functiehersteltijd wilt berekenen als de aannemer\n",
    "ter plaatse is gekomen niet relevant. Het probleem is dan namelijk al opgelost. \\\n",
    "\\\n",
    "Verder is ons verteld dat wij storingen met een verwachte functieherstelduur van korter\n",
    "dan 5 minuten of langer dan 8 uur mogen weglaten. \\ \n",
    "Deze storingen zijn óf zodanig snel opgelost dat deze niet nuttig zijn om een voorspelling voor te doen, \\\n",
    "óf zodanig lang, dat het treinverkeer toch niet snel zal rijden, en het beter is om af te wachten."
   ]
  },
  {
   "cell_type": "code",
   "execution_count": null,
   "id": "33ff2421",
   "metadata": {},
   "outputs": [],
   "source": [
    "# We halen negatieve waardes voor de targetvariabele uit de data\n",
    "df = df[df['anm_tot_fh'] >= 0]\n",
    "# We halen prognoses voor korter dan 5 minuten en langer dan 8 uur uit de data\n",
    "df = df[(df['anm_tot_fh'] >= 5) & (df['anm_tot_fh'] <= 480)]"
   ]
  },
  {
   "cell_type": "code",
   "execution_count": null,
   "id": "daf9a798",
   "metadata": {},
   "outputs": [],
   "source": [
    "def remove_outlier(df_in, col_name, k=3):\n",
    "    q1 = df_in[col_name].quantile(0.25)\n",
    "    q3 = df_in[col_name].quantile(0.75)\n",
    "    iqr = q3 - q1 \n",
    "    fence_low  = q1 - k * iqr\n",
    "    fence_high = q3 + k * iqr\n",
    "    df_out = df_in.loc[(df_in[col_name] > fence_low) & (df_in[col_name] < fence_high)]\n",
    "    return df_out"
   ]
  },
  {
   "cell_type": "markdown",
   "id": "30b9c61d",
   "metadata": {},
   "source": [
    "## Data exploration"
   ]
  },
  {
   "cell_type": "markdown",
   "id": "53dd9efb",
   "metadata": {},
   "source": [
    "### stm_progfh_in_duur"
   ]
  },
  {
   "cell_type": "code",
   "execution_count": null,
   "id": "6cf1baca",
   "metadata": {},
   "outputs": [],
   "source": [
    "# Remove nonsense values\n",
    "dfprog = df\n",
    "dfprog['stm_progfh_in_duur'] = df['stm_progfh_in_duur'].str.extract('(\\d+)', expand=False)\n",
    "dfprog['stm_progfh_in_duur'] = dfprog['stm_progfh_in_duur'].astype('int32')\n",
    "dfprog = dfprog[dfprog.stm_progfh_in_duur != 99999999]\n",
    "dfprog = dfprog[dfprog.stm_progfh_in_duur != 0]"
   ]
  },
  {
   "cell_type": "code",
   "execution_count": null,
   "id": "4b02d2a1",
   "metadata": {},
   "outputs": [],
   "source": [
    "dfprog = remove_outlier(dfprog, 'stm_progfh_in_duur')"
   ]
  },
  {
   "cell_type": "code",
   "execution_count": null,
   "id": "5ce7ebc4",
   "metadata": {},
   "outputs": [],
   "source": [
    "plt.scatter(dfprog['stm_progfh_in_duur'], dfprog['anm_tot_fh'], s=0.3, alpha=0.1)\n",
    "plt.title('Initiële prognose aannemer, functieherstelduur')\n",
    "plt.xlabel('stm_progfh_in_duur')\n",
    "plt.ylabel('anm_tot_fh')\n",
    "# plt.plot(np.arange(0,500), np.repeat(60, 500))\n",
    "# plt.plot(np.arange(0, 500), np.arange(0, 500), color='red')\n",
    "plt.show()"
   ]
  },
  {
   "cell_type": "code",
   "execution_count": null,
   "id": "7dcb1b4a",
   "metadata": {},
   "outputs": [],
   "source": [
    "df.corr(numeric_only=True)['anm_tot_fh']"
   ]
  },
  {
   "cell_type": "code",
   "execution_count": null,
   "id": "8781213a",
   "metadata": {},
   "outputs": [],
   "source": [
    "# pd.options.display.max_rows = 1000\n",
    "with pd.option_context(\"display.max_rows\", 100):\n",
    "    print(df['stm_oorz_code'].value_counts())"
   ]
  },
  {
   "cell_type": "markdown",
   "id": "2f7fa43d",
   "metadata": {},
   "source": [
    "### stm_oorz_groep"
   ]
  },
  {
   "cell_type": "code",
   "execution_count": null,
   "id": "9f8fd5ae",
   "metadata": {},
   "outputs": [],
   "source": [
    "df['stm_oorz_groep'].unique()"
   ]
  },
  {
   "cell_type": "code",
   "execution_count": null,
   "id": "f2cf826a",
   "metadata": {},
   "outputs": [],
   "source": [
    "boxplot_data = [df[df.stm_oorz_groep == value]['anm_tot_fh'] for value in df['stm_oorz_groep'].unique()]\n",
    "\n",
    "fig, ax = plt.subplots()\n",
    "ax.boxplot(boxplot_data)\n",
    "ax.set_xticklabels(df['stm_oorz_groep'].unique())\n",
    "ax.set_ylabel('anm_tot_fh')\n",
    "plt.show()"
   ]
  },
  {
   "cell_type": "code",
   "execution_count": null,
   "id": "7dec816c",
   "metadata": {},
   "outputs": [],
   "source": [
    "for value in ['ONR-RIB', 'ONR-DERD', 'TECHONV', 'WEER']:\n",
    "    print(df[df.stm_oorz_groep == value]['anm_tot_fh'].quantile([0.25, 0.5, 0.75]))"
   ]
  },
  {
   "cell_type": "markdown",
   "id": "f5273e03",
   "metadata": {},
   "source": [
    "### stm_geo_mld"
   ]
  },
  {
   "cell_type": "code",
   "execution_count": null,
   "id": "9ba98250",
   "metadata": {},
   "outputs": [],
   "source": [
    "median_time = []\n",
    "for value in df['stm_geo_mld'].unique():\n",
    "    median_time.append(df[(df.stm_geo_mld == value) & (df.stm_oorz_code == 225)]['anm_tot_fh'].median())\n",
    "\n",
    "median_time = [x for x in median_time if str(x) != 'nan']\n",
    "\n",
    "plt.boxplot(median_time)\n",
    "plt.title('anm_tot_fh per geocode voor oorzaakcode 225')\n",
    "plt.ylabel('Mediaan anm_tot_fh per geocode')"
   ]
  },
  {
   "cell_type": "markdown",
   "id": "77202313",
   "metadata": {},
   "source": [
    "### stm_contractgeb_mld"
   ]
  },
  {
   "cell_type": "code",
   "execution_count": null,
   "id": "174c42e4",
   "metadata": {},
   "outputs": [],
   "source": [
    "contract_time = []\n",
    "for cont in df['stm_contractgeb_mld'].unique():\n",
    "    contract_time.append(df[(df.stm_contractgeb_mld == cont) & (df.stm_oorz_code == 225)]['anm_tot_fh'].median())\n",
    "\n",
    "contract_time = [x for x in contract_time if str(x) != 'nan']\n",
    "\n",
    "plt.boxplot(contract_time)\n",
    "plt.title('anm_tot_fh per contractgebied voor oorzaakcode 225')\n",
    "plt.ylabel('Mediaan anm_tot_fh per contractgebied')\n",
    "plt.show()\n",
    "print('')"
   ]
  },
  {
   "cell_type": "markdown",
   "id": "e8c6da99",
   "metadata": {},
   "source": [
    "### stm_prioriteit"
   ]
  },
  {
   "cell_type": "code",
   "execution_count": null,
   "id": "2a1ac678",
   "metadata": {},
   "outputs": [],
   "source": [
    "boxplot_data = [df[df.stm_prioriteit == value]['anm_tot_fh'] for value in [1,2,4,5,8,9]]\n",
    "\n",
    "fig, ax = plt.subplots()\n",
    "ax.boxplot(boxplot_data)\n",
    "ax.set_xticklabels([1,2,4,5,8,9])\n",
    "ax.set_xlabel('Priority label')\n",
    "ax.set_ylabel('anm_tot_fh')\n",
    "plt.title('Boxplots for different priority values')\n",
    "plt.show()"
   ]
  },
  {
   "cell_type": "markdown",
   "id": "1af499f0",
   "metadata": {},
   "source": [
    "### stm_techn_mld"
   ]
  },
  {
   "cell_type": "code",
   "execution_count": null,
   "id": "dddec0e6",
   "metadata": {},
   "outputs": [],
   "source": [
    "boxplot_data = [df[df.stm_techn_mld == value]['anm_tot_fh'] for value in df['stm_techn_mld'].unique()]\n",
    "\n",
    "fig, ax = plt.subplots()\n",
    "ax.boxplot(boxplot_data)\n",
    "ax.set_xticklabels(df['stm_techn_mld'].unique())\n",
    "ax.set_xlabel('Techniekveld label')\n",
    "ax.set_ylabel('anm_tot_fh')\n",
    "plt.title('Boxplots for different techniekveld labels')\n",
    "plt.show()"
   ]
  },
  {
   "cell_type": "markdown",
   "id": "6bf85086",
   "metadata": {},
   "source": [
    "## DataPrep klad"
   ]
  },
  {
   "cell_type": "markdown",
   "id": "10035262",
   "metadata": {},
   "source": [
    "### geo_score column"
   ]
  },
  {
   "cell_type": "code",
   "execution_count": null,
   "id": "ab64db7e",
   "metadata": {},
   "outputs": [],
   "source": [
    "# For how many different geocodes we perform this operation\n",
    "len(df['stm_geo_mld'].unique()), len(median_time)"
   ]
  },
  {
   "cell_type": "code",
   "execution_count": null,
   "id": "a2d1c715",
   "metadata": {},
   "outputs": [],
   "source": [
    "# geocode to score dictionary\n",
    "geo_dict = {}\n",
    "for geocode in df['stm_geo_mld'].unique():\n",
    "    geo_dict[geocode] = (df[(df.stm_geo_mld == geocode) & (df.stm_oorz_code == 225)]['anm_tot_fh'].median())/max(median_time)"
   ]
  },
  {
   "cell_type": "code",
   "execution_count": null,
   "id": "576a8ddf",
   "metadata": {},
   "outputs": [],
   "source": [
    "df['geo_score'] = df['stm_geo_mld'].apply(lambda x: geo_dict[x])"
   ]
  },
  {
   "cell_type": "markdown",
   "id": "951fe126",
   "metadata": {},
   "source": [
    "### contractgeb_score"
   ]
  },
  {
   "cell_type": "code",
   "execution_count": null,
   "id": "fc81cc9d",
   "metadata": {},
   "outputs": [],
   "source": [
    "len(df['stm_contractgeb_mld'].unique()), len(contract_time)"
   ]
  },
  {
   "cell_type": "code",
   "execution_count": null,
   "id": "66f12c88",
   "metadata": {},
   "outputs": [],
   "source": [
    "# contractgebied to score dictionary\n",
    "contrgb_dict = {}\n",
    "for contr_geb in df['stm_contractgeb_mld'].unique():\n",
    "    contrgb_dict[contr_geb] = (df[(df.stm_contractgeb_mld == contr_geb) & (df.stm_oorz_code == 225)]['anm_tot_fh'].median())/max(contract_time)"
   ]
  },
  {
   "cell_type": "code",
   "execution_count": null,
   "id": "1a8f2f2d",
   "metadata": {},
   "outputs": [],
   "source": [
    "df['contractgeb_score'] = df['stm_contractgeb_mld'].apply(lambda x: contrgb_dict[x] if str(x) != 'nan' else np.nan)"
   ]
  },
  {
   "cell_type": "code",
   "execution_count": null,
   "id": "d7ae760d",
   "metadata": {},
   "outputs": [],
   "source": [
    "df[['stm_contractgeb_mld', 'contractgeb_score']].sample(20)"
   ]
  },
  {
   "cell_type": "code",
   "execution_count": null,
   "id": "492bd257",
   "metadata": {},
   "outputs": [],
   "source": [
    "df['stm_contractgeb_mld'].isna().sum()"
   ]
  },
  {
   "cell_type": "markdown",
   "id": "219e85f2",
   "metadata": {},
   "source": [
    "### stm_oorz_groep"
   ]
  },
  {
   "cell_type": "code",
   "execution_count": null,
   "id": "95ce68e7",
   "metadata": {},
   "outputs": [],
   "source": [
    "df['stm_oorz_groep'].isna().sum()"
   ]
  },
  {
   "cell_type": "code",
   "execution_count": null,
   "id": "33eb9851",
   "metadata": {},
   "outputs": [],
   "source": [
    "orz_dict = {'TECHONV':0, '':0, 'ONR-RIB':0, 'ONR-DERD':1, 'WEER':0}\n",
    "df['oorz_groep_cluster'] = df['stm_oorz_groep'].apply(lambda x: orz_dict[x])"
   ]
  },
  {
   "cell_type": "markdown",
   "id": "2ab05f60",
   "metadata": {},
   "source": [
    "### stm_prioriteit"
   ]
  },
  {
   "cell_type": "markdown",
   "id": "ea54dc7f",
   "metadata": {},
   "source": [
    "Willen we dit doen?"
   ]
  },
  {
   "cell_type": "markdown",
   "id": "9ef59501",
   "metadata": {},
   "source": [
    "### stm_techn_mld"
   ]
  },
  {
   "cell_type": "code",
   "execution_count": null,
   "id": "9fed219e",
   "metadata": {},
   "outputs": [],
   "source": [
    "techncl_dict = {'':1, 'S':1,'B':1,'K':1,'E':1,'T':1,'X':1,'I':1, \n",
    "                'P':0,'O':0,'G':0,\n",
    "                'M':2,'A':2, \n",
    "                'H':3}\n",
    "df['techn_cluster'] = df['stm_techn_mld'].apply(lambda x: techncl_dict[x])"
   ]
  }
 ],
 "metadata": {
  "kernelspec": {
   "display_name": "Python 3 (ipykernel)",
   "language": "python",
   "name": "python3"
  },
  "language_info": {
   "codemirror_mode": {
    "name": "ipython",
    "version": 3
   },
   "file_extension": ".py",
   "mimetype": "text/x-python",
   "name": "python",
   "nbconvert_exporter": "python",
   "pygments_lexer": "ipython3",
   "version": "3.11.4"
  }
 },
 "nbformat": 4,
 "nbformat_minor": 5
}
