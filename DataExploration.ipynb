{
 "cells": [
  {
   "cell_type": "markdown",
   "id": "1984c530",
   "metadata": {},
   "source": [
    "# Data exploration"
   ]
  },
  {
   "cell_type": "markdown",
   "id": "6afac177",
   "metadata": {},
   "source": [
    "Dit notebook zal worden gebruikt voor het vinden van interessante features."
   ]
  },
  {
   "cell_type": "code",
   "execution_count": null,
   "id": "f7a864c6",
   "metadata": {},
   "outputs": [],
   "source": [
    "# imported libraries\n",
    "import pandas as pd\n",
    "import numpy as np\n",
    "import matplotlib.pyplot as plt\n",
    "import warnings\n",
    "warnings.simplefilter(action='ignore', category=FutureWarning)"
   ]
  },
  {
   "cell_type": "code",
   "execution_count": null,
   "id": "2dc6bd9b",
   "metadata": {},
   "outputs": [],
   "source": [
    "# Kolommen die niet met n.v.t. of \"?\" werden aangegeven in de data dictionary.\n",
    "# Zulke kolommen mochten wij negeren (volgens het interview)\n",
    "cols_to_use= [\n",
    " '#stm_sap_meldnr',\n",
    " 'stm_mon_nr',\n",
    " 'stm_vl_post',\n",
    " 'stm_sap_meld_ddt',\n",
    " 'stm_sap_meldtekst_lang',\n",
    " 'stm_sap_meldtekst',\n",
    " 'stm_geo_mld',\n",
    " 'stm_geo_mld_uit_functiepl',\n",
    " 'stm_equipm_nr_mld',\n",
    " 'stm_equipm_soort_mld',\n",
    " 'stm_equipm_omschr_mld',\n",
    " 'stm_km_van_mld',\n",
    " 'stm_km_tot_mld',\n",
    " 'stm_prioriteit',\n",
    " 'stm_status_melding_sap',\n",
    " 'stm_aanngeb_ddt',\n",
    " 'stm_oh_pg_gst',\n",
    " 'stm_geo_gst',\n",
    " 'stm_geo_gst_uit_functiepl',\n",
    " 'stm_equipm_nr_gst',\n",
    " 'stm_equipm_soort_gst',\n",
    " 'stm_equipm_omschr_gst',\n",
    " 'stm_km_van_gst',\n",
    " 'stm_km_tot_gst',\n",
    " 'stm_oorz_groep',\n",
    " 'stm_oorz_code',\n",
    " 'stm_oorz_tkst',\n",
    " 'stm_fh_ddt',\n",
    " 'stm_fh_status',\n",
    " 'stm_sap_storeind_ddt',\n",
    " 'stm_tao_indicator',\n",
    " 'stm_tao_indicator_vorige',\n",
    " 'stm_tao_soort_mutatie',\n",
    " 'stm_tao_telling_mutatie',\n",
    " 'stm_tao_beinvloedbaar_indicator',\n",
    " 'stm_evb',\n",
    " 'stm_sap_melddatum',\n",
    " 'stm_sap_meldtijd',\n",
    " 'stm_contractgeb_mld',\n",
    " 'stm_functiepl_mld',\n",
    " 'stm_techn_mld',\n",
    " 'stm_contractgeb_gst',\n",
    " 'stm_functiepl_gst',\n",
    " 'stm_techn_gst',\n",
    " 'stm_aanngeb_dd',\n",
    " 'stm_aanngeb_tijd',\n",
    " 'stm_aanntpl_dd',\n",
    " 'stm_aanntpl_tijd',\n",
    " 'stm_arbeid',\n",
    " 'stm_progfh_in_datum',\n",
    " 'stm_progfh_in_tijd',\n",
    " 'stm_progfh_in_invoer_dat',\n",
    " 'stm_progfh_in_invoer_tijd',\n",
    " 'stm_progfh_in_duur',\n",
    " 'stm_progfh_gw_tijd',\n",
    " 'stm_progfh_gw_lwd_datum',\n",
    " 'stm_progfh_gw_lwd_tijd',\n",
    " 'stm_progfh_gw_duur',\n",
    " 'stm_progfh_gw_teller',\n",
    " 'stm_afspr_aanvangdd',\n",
    " 'stm_afspr_aanvangtijd',\n",
    " 'stm_fh_dd',\n",
    " 'stm_fh_tijd',\n",
    " 'stm_fh_duur',\n",
    " 'stm_reactie_duur',\n",
    " 'stm_sap_storeinddatum',\n",
    " 'stm_sap_storeindtijd',\n",
    " 'stm_oorz_tekst_kort',\n",
    " 'stm_pplg_van',\n",
    " 'stm_pplg_naar',\n",
    " 'stm_dstrglp_van',\n",
    " 'stm_dstrglp_naar']"
   ]
  },
  {
   "cell_type": "code",
   "execution_count": null,
   "id": "9fc21a6e",
   "metadata": {},
   "outputs": [],
   "source": [
    "df = pd.read_csv(\"data/sap_storing_data_hu_project.csv\", index_col=0, usecols=cols_to_use, engine='pyarrow')\n",
    "df.sample(20)"
   ]
  },
  {
   "cell_type": "markdown",
   "id": "0bc47330",
   "metadata": {},
   "source": [
    "## Target variabele aanmaken"
   ]
  },
  {
   "cell_type": "markdown",
   "id": "ac7fa64b",
   "metadata": {},
   "source": [
    "Target variabele anm_tot_fh, welke de duur vanaf dat de aannemer ter plaatse is, tot het daadwerkelijke functieherstel."
   ]
  },
  {
   "cell_type": "code",
   "execution_count": null,
   "id": "9a729e10",
   "metadata": {},
   "outputs": [],
   "source": [
    "# Convert columns to datetime type\n",
    "df['stm_aanntpl_tijd'] = pd.to_datetime(df['stm_aanntpl_tijd'], format='%H:%M:%S', errors='coerce')\n",
    "df['stm_aanntpl_dd'] = pd.to_datetime(df['stm_aanntpl_dd'], format='%d/%m/%Y', errors='coerce')\n",
    "df['stm_fh_ddt'] = pd.to_datetime(df['stm_fh_ddt'], format='%d/%m/%Y %H:%M:%S', errors='coerce')\n",
    "\n",
    "# Combine date and time columns to a datetime column\n",
    "df['stm_aanntpl_tijd'] = df['stm_aanntpl_tijd'].astype('str')\n",
    "df['stm_aanntpl_dd'] = df['stm_aanntpl_dd'].astype('str')\n",
    "df[\"aanntpl_ddt\"] = df[\"stm_aanntpl_dd\"] + \" \" + df[\"stm_aanntpl_tijd\"].apply(lambda x: x.split(' ')[-1])\n",
    "df['aanntpl_ddt'] = pd.to_datetime(df['aanntpl_ddt'], format='%Y-%m-%d %H:%M:%S', errors='coerce')\n",
    "df = df.dropna(subset=['aanntpl_ddt'])\n",
    "len(df)"
   ]
  },
  {
   "cell_type": "code",
   "execution_count": null,
   "id": "ca569db7",
   "metadata": {},
   "outputs": [],
   "source": [
    "# Maak een kolom met de duur van de aannemer ter plaatse tot functieherstel\n",
    "df['anm_tot_fh'] = df['stm_fh_ddt'] - df['aanntpl_ddt']\n",
    "df['anm_tot_fh'] = df['anm_tot_fh'].apply(lambda x: x.seconds/60 + x.days * (24*60))\n",
    "df = df.dropna(subset=['anm_tot_fh'])\n",
    "len(df)"
   ]
  },
  {
   "cell_type": "markdown",
   "id": "d95733b9",
   "metadata": {},
   "source": [
    "We halen negatieve waardes voor de targetvariabele uit de dataset. \\\n",
    "Deze zijn voor ons model, wat de functiehersteltijd wilt berekenen als de aannemer\n",
    "ter plaatse is gekomen niet relevant. Het probleem is dan namelijk al opgelost. \\\n",
    "\\\n",
    "Verder is ons verteld dat wij storingen met een verwachte functieherstelduur van korter\n",
    "dan 5 minuten of langer dan 8 uur mogen weglaten. \\ \n",
    "Deze storingen zijn óf zodanig snel opgelost dat deze niet nuttig zijn om een voorspelling voor te doen, \\\n",
    "óf zodanig lang, dat het treinverkeer toch niet snel zal rijden, en het beter is om af te wachten."
   ]
  },
  {
   "cell_type": "code",
   "execution_count": null,
   "id": "9b1d66b9",
   "metadata": {},
   "outputs": [],
   "source": [
    "# We halen negatieve waardes voor de targetvariabele uit de data\n",
    "df = df[df['anm_tot_fh'] >= 0]\n",
    "# We halen prognoses voor korter dan 5 minuten en langer dan 8 uur uit de data\n",
    "df = df[(df['anm_tot_fh'] >= 5) & (df['anm_tot_fh'] <= 480)]"
   ]
  },
  {
   "cell_type": "code",
   "execution_count": null,
   "id": "ee3e8f29",
   "metadata": {},
   "outputs": [],
   "source": [
    "def remove_outlier(df_in, col_name, k=3):\n",
    "    q1 = df_in[col_name].quantile(0.25)\n",
    "    q3 = df_in[col_name].quantile(0.75)\n",
    "    iqr = q3 - q1 \n",
    "    fence_low  = q1 - k * iqr\n",
    "    fence_high = q3 + k * iqr\n",
    "    df_out = df_in.loc[(df_in[col_name] > fence_low) & (df_in[col_name] < fence_high)]\n",
    "    return df_out"
   ]
  },
  {
   "cell_type": "markdown",
   "id": "c335da29",
   "metadata": {},
   "source": [
    "## Data exploration"
   ]
  },
  {
   "cell_type": "markdown",
   "id": "a2d4d8f6",
   "metadata": {},
   "source": [
    "### stm_progfh_in_duur"
   ]
  },
  {
   "cell_type": "code",
   "execution_count": null,
   "id": "6888f100",
   "metadata": {},
   "outputs": [],
   "source": [
    "# Remove nonsense values\n",
    "dfprog = df\n",
    "dfprog['stm_progfh_in_duur'] = df['stm_progfh_in_duur'].str.extract('(\\d+)', expand=False)\n",
    "dfprog['stm_progfh_in_duur'] = dfprog['stm_progfh_in_duur'].astype('int32')\n",
    "dfprog = dfprog[dfprog.stm_progfh_in_duur != 99999999]\n",
    "dfprog = dfprog[dfprog.stm_progfh_in_duur != 0]"
   ]
  },
  {
   "cell_type": "code",
   "execution_count": null,
   "id": "6374ca8f",
   "metadata": {},
   "outputs": [],
   "source": [
    "dfprog = remove_outlier(dfprog, 'stm_progfh_in_duur')"
   ]
  },
  {
   "cell_type": "code",
   "execution_count": null,
   "id": "e6c7f743",
   "metadata": {},
   "outputs": [],
   "source": [
    "plt.scatter(dfprog['anm_tot_fh'], dfprog['stm_progfh_in_duur'], s=0.3, alpha=0.1)\n",
    "plt.title('')\n",
    "plt.xlabel('anm_tot_fh')\n",
    "plt.ylabel('stm_progfh_in_duur')\n",
    "# plt.plot(np.arange(0, 500), np.arange(0, 500), color='red')\n",
    "# plt.show()"
   ]
  },
  {
   "cell_type": "code",
   "execution_count": null,
   "id": "41d3957e",
   "metadata": {},
   "outputs": [],
   "source": [
    "df.corr()['anm_tot_fh']"
   ]
  },
  {
   "cell_type": "markdown",
   "id": "b44bef5f",
   "metadata": {},
   "source": [
    "### stm_oorz_groep"
   ]
  },
  {
   "cell_type": "code",
   "execution_count": null,
   "id": "5aa813f6",
   "metadata": {},
   "outputs": [],
   "source": [
    "df['stm_oorz_groep'].unique()"
   ]
  },
  {
   "cell_type": "code",
   "execution_count": null,
   "id": "65d54be1",
   "metadata": {},
   "outputs": [],
   "source": [
    "for value in ['ONR-RIB', 'ONR-DERD', 'TECHONV', 'WEER']:\n",
    "    plt.boxplot(df[df.stm_oorz_groep == value]['anm_tot_fh'])\n",
    "    plt.show()"
   ]
  },
  {
   "cell_type": "code",
   "execution_count": null,
   "id": "b3141caa",
   "metadata": {},
   "outputs": [],
   "source": [
    "for value in ['ONR-RIB', 'ONR-DERD', 'TECHONV', 'WEER']:\n",
    "    print(df[df.stm_oorz_groep == value]['anm_tot_fh'].quantile([0.25, 0.5, 0.75]))"
   ]
  },
  {
   "cell_type": "markdown",
   "id": "90705723",
   "metadata": {},
   "source": []
  },
  {
   "cell_type": "code",
   "execution_count": null,
   "id": "c1bf15ee",
   "metadata": {},
   "outputs": [],
   "source": [
    "median_time = []\n",
    "for value in df['stm_geo_mld'].unique():\n",
    "    median_time.append(df[(df.stm_geo_mld == value) & (df.stm_oorz_code == 221)]['anm_tot_fh'].median())\n",
    "\n",
    "median_time = [x for x in median_time if str(x) != 'nan']\n",
    "\n",
    "plt.boxplot(median_time)"
   ]
  },
  {
   "cell_type": "code",
   "execution_count": null,
   "id": "fdb57e7a",
   "metadata": {},
   "outputs": [],
   "source": [
    "df['stm_oorz_code'].value_counts()"
   ]
  },
  {
   "cell_type": "code",
   "execution_count": null,
   "id": "a73a90f0",
   "metadata": {},
   "outputs": [],
   "source": []
  }
 ],
 "metadata": {
  "kernelspec": {
   "display_name": "Python 3 (ipykernel)",
   "language": "python",
   "name": "python3"
  },
  "language_info": {
   "codemirror_mode": {
    "name": "ipython",
    "version": 3
   },
   "file_extension": ".py",
   "mimetype": "text/x-python",
   "name": "python",
   "nbconvert_exporter": "python",
   "pygments_lexer": "ipython3",
   "version": "3.11.4"
  }
 },
 "nbformat": 4,
 "nbformat_minor": 5
}
