{
 "cells": [
  {
   "cell_type": "code",
   "execution_count": null,
   "metadata": {},
   "outputs": [],
   "source": [
    "# imported libraries\n",
    "import pandas as pd\n",
    "import warnings\n",
    "import matplotlib.pyplot as plt\n",
    "from sklearn.preprocessing import TargetEncoder\n",
    "import numpy as np\n",
    "import json\n",
    "warnings.simplefilter(action='ignore', category=FutureWarning)"
   ]
  },
  {
   "cell_type": "code",
   "execution_count": null,
   "metadata": {},
   "outputs": [],
   "source": [
    "cols_to_use = [\n",
    "    '#stm_sap_meldnr',\n",
    "    'stm_geo_mld',\n",
    "    'stm_prioriteit',\n",
    "    'stm_geo_gst',\n",
    "    'stm_oorz_groep',\n",
    "    'stm_oorz_code',\n",
    "    'stm_fh_ddt',\n",
    "    'stm_contractgeb_mld',\n",
    "    'stm_techn_mld',\n",
    "    'stm_progfh_in_duur',\n",
    "    'stm_progfh_in_invoer_dat',\n",
    "    'stm_progfh_in_invoer_tijd',\n",
    "]\n",
    "\n",
    "df = pd.read_csv(\"data/sap_storing_data_hu_project.csv\", index_col=0, usecols=cols_to_use, engine='pyarrow')\n",
    "df = df[~df.index.duplicated(keep='first')] # remove duplicate indices\n",
    "df.head()"
   ]
  },
  {
   "cell_type": "markdown",
   "metadata": {},
   "source": [
    "# Target variable prep"
   ]
  },
  {
   "cell_type": "markdown",
   "metadata": {},
   "source": [
    "Prepareren 'stm_progfh_in_invoer_dat' hier staan namelijk waardes in die soms geen '/' hebbem. Dat ziet eruit als volgt: YYYYMMDD, in plaats van: YYYY/MM/DD"
   ]
  },
  {
   "cell_type": "code",
   "execution_count": null,
   "metadata": {},
   "outputs": [],
   "source": [
    "df['stm_progfh_in_invoer_dat'].sample(15)"
   ]
  },
  {
   "cell_type": "code",
   "execution_count": null,
   "metadata": {},
   "outputs": [],
   "source": [
    "df = df.dropna(subset=['stm_progfh_in_invoer_dat'])\n",
    "\n",
    "def fix_date_format(val):\n",
    "    if '/' not in str(val):\n",
    "        val = f\"{val[:4]}/{val[4:6]}/{val[6:8]}\"\n",
    "    return val\n",
    "\n",
    "df['stm_progfh_in_invoer_dat'] = df['stm_progfh_in_invoer_dat'].apply(fix_date_format)\n",
    "df['stm_progfh_in_invoer_dat'] = pd.to_datetime(df['stm_progfh_in_invoer_dat'], format='mixed', errors='raise')\n",
    "df['stm_progfh_in_invoer_dat'].sample(15)"
   ]
  },
  {
   "cell_type": "code",
   "execution_count": null,
   "metadata": {},
   "outputs": [],
   "source": [
    "# Drop NaN values van 'stm_progfh_in_invoer_tijd'\n",
    "df = df.dropna(subset=['stm_progfh_in_invoer_tijd'])\n",
    "df['stm_progfh_in_invoer_tijd'].info()"
   ]
  },
  {
   "cell_type": "code",
   "execution_count": null,
   "metadata": {},
   "outputs": [],
   "source": [
    "# Combineer datum en tijd tot 1 variabele\n",
    "df['progfh_inv_ddt'] = df['stm_progfh_in_invoer_dat'].astype(str) + ' ' + df['stm_progfh_in_invoer_tijd'].astype(str)\n",
    "# Gebruik ISO8601 format om datetime te parsen\n",
    "df['progfh_inv_ddt'] = pd.to_datetime(df['progfh_inv_ddt'], format='ISO8601', errors='raise')\n",
    "df['progfh_inv_ddt'].info()"
   ]
  },
  {
   "cell_type": "code",
   "execution_count": null,
   "metadata": {},
   "outputs": [],
   "source": [
    "df['progfh_inv_ddt'].sample(20)"
   ]
  },
  {
   "cell_type": "code",
   "execution_count": null,
   "metadata": {},
   "outputs": [],
   "source": [
    "# Gebruik 'mixed' format om datetime te parsen, omdat sommige data niet in ISO8601 format is\n",
    "# Soms is het format YYYY-MM-DD HH:MM:SS, en soms MM/DD/YYYY HH:MM:SS.\n",
    "df['stm_fh_ddt'] = pd.to_datetime(df['stm_fh_ddt'], format='mixed', errors='raise')\n",
    "df = df.dropna(subset=['stm_fh_ddt'])\n",
    "df['stm_fh_ddt'].info() "
   ]
  },
  {
   "cell_type": "code",
   "execution_count": null,
   "metadata": {},
   "outputs": [],
   "source": [
    "df['stm_fh_ddt'].sample(20)"
   ]
  },
  {
   "cell_type": "markdown",
   "metadata": {},
   "source": [
    "Maak een nieuwe kolom 'progfh_inv_tot_fh' dit wordt de target variabele. Dit is de tijd vanaf invoer prognose tot functie herstel.\n",
    "\n",
    "Verwijder alle waardes kleiner dan 5 min of groter dan 480 min (8 uur)."
   ]
  },
  {
   "cell_type": "code",
   "execution_count": null,
   "metadata": {},
   "outputs": [],
   "source": [
    "df['progfh_inv_tot_fh'] = pd.to_timedelta(df['stm_fh_ddt'] - df['progfh_inv_ddt']).dt.total_seconds()\n",
    "# change from seconds to minutes\n",
    "df['progfh_inv_tot_fh'] = df['progfh_inv_tot_fh'] / 60\n",
    "# only keep values >= 5 and <= 480\n",
    "df = df[(df['progfh_inv_tot_fh'] >= 5) & (df['progfh_inv_tot_fh'] <= 480)]\n",
    "df['progfh_inv_tot_fh'].info()"
   ]
  },
  {
   "cell_type": "code",
   "execution_count": null,
   "metadata": {},
   "outputs": [],
   "source": [
    "df['progfh_inv_tot_fh'].plot.hist(bins=100, figsize=(20, 10))\n",
    "plt.ylabel('Frequency')\n",
    "plt.xlabel('Invoer prognose tot functie herstel in minuten')\n",
    "plt.show()"
   ]
  },
  {
   "cell_type": "markdown",
   "metadata": {},
   "source": [
    "---\n",
    "\n",
    "# Feature variables prep"
   ]
  },
  {
   "cell_type": "code",
   "execution_count": null,
   "metadata": {},
   "outputs": [],
   "source": [
    "\n",
    "def rare_category(series: pd.Series, other_size=0.01, new_category='Other'):\n",
    "    \"\"\"\n",
    "    Takes a categorical pandas Series object and returns another Series object\n",
    "    but all values that occur very rarely are put in one category.\n",
    "    \n",
    "    Parameters:\n",
    "    series (pandas.Series): The categorical pandas Series object\n",
    "    other_size (float): The size of the 'Other' category as a fraction of the total number of values. Default is 0.01.\n",
    "    new_category (str): The name of the new category for rare values. Default is 'Rare'.\n",
    "    \n",
    "    Returns:\n",
    "    pandas.Series: The new categorical pandas Series object with rare values replaced by new_category.\n",
    "    \"\"\"\n",
    "    counts = series.value_counts(normalize=True)\n",
    "    rare_values = counts[counts.cumsum() > 1 - other_size].index.tolist()\n",
    "    return series.apply(lambda x: new_category if x in rare_values else x)"
   ]
  },
  {
   "cell_type": "code",
   "execution_count": null,
   "metadata": {},
   "outputs": [],
   "source": [
    "df = df.dropna(subset=['stm_progfh_in_duur'])\n",
    "\n",
    "\"\"\"\n",
    "==============================================================================================================================\n",
    "*** WARNING ***\n",
    "Er zijn ~1000 waardes in progfh_duur die een '-' teken erachter hebben staan. Voor nu worden deze waardes verwijderd.\n",
    "==============================================================================================================================\n",
    "\"\"\"\n",
    "\n",
    "count = 0\n",
    "for val in df['stm_progfh_in_duur']:\n",
    "    try: \n",
    "        int(val)\n",
    "    except ValueError:\n",
    "        df = df[df['stm_progfh_in_duur'] != val]\n",
    "        count += 1\n",
    "print(f\"Removed {count} values from stm_progfh_in_duur column\")\n",
    "\n",
    "df['stm_progfh_in_duur'] = df['stm_progfh_in_duur'].astype(int)\n",
    "df = df[df['stm_progfh_in_duur'] < (48*60)]\n",
    "df['stm_progfh_in_duur'].info()"
   ]
  },
  {
   "cell_type": "code",
   "execution_count": null,
   "metadata": {},
   "outputs": [],
   "source": [
    "df['stm_progfh_in_duur'].plot(kind='hist', bins=100, figsize=(20, 10))\n",
    "plt.show()"
   ]
  },
  {
   "cell_type": "markdown",
   "metadata": {},
   "source": [
    "## NaN values"
   ]
  },
  {
   "cell_type": "code",
   "execution_count": null,
   "metadata": {},
   "outputs": [],
   "source": [
    "# PRIORITEIT\n",
    "df = df.dropna(subset=['stm_prioriteit'])\n",
    "\n",
    "# GEO CODE\n",
    "df = df[df.stm_geo_mld != '']\n",
    "df = df.dropna(subset=['stm_geo_mld'])\n",
    "df['stm_geo_mld'] = df['stm_geo_mld'].astype(float).astype(int).astype(str)\n",
    "\n",
    "# OORZ CODE\n",
    "df['stm_oorz_code'] = df['stm_oorz_code'].fillna(221).astype(int).astype(str)\n",
    "\n",
    "# TECHN VELD\n",
    "df['stm_techn_mld'] = df['stm_techn_mld'].replace('', 'X')\n",
    "df['stm_techn_mld'] = df['stm_techn_mld'].fillna('X')\n",
    "\n",
    "# CONTRACT GEBIED\n",
    "df['stm_contractgeb_mld'] = df['stm_contractgeb_mld'].fillna(999)\n",
    "df['stm_contractgeb_mld'] = df['stm_contractgeb_mld'].astype(float).astype(int).astype(str)\n",
    "\n",
    "# OORZ GROEP\n",
    "df['stm_oorz_groep'] = df['stm_oorz_groep'].replace('', 'ONBK', regex=True)\n",
    "df['stm_oorz_groep'] = df['stm_oorz_groep'].fillna('ONBK')\n",
    "\n",
    "df.info()\n"
   ]
  },
  {
   "cell_type": "markdown",
   "metadata": {},
   "source": [
    "## Dummies"
   ]
  },
  {
   "cell_type": "code",
   "execution_count": null,
   "metadata": {},
   "outputs": [],
   "source": [
    "# Dummies voor techniekveld\n",
    "techn_veld_dummies = pd.get_dummies(df['stm_techn_mld'], prefix='techn_veld')\n",
    "df = df.join(techn_veld_dummies)\n",
    "\n",
    "# Dummies voor oorz groep\n",
    "oorz_groep_dummies = pd.get_dummies(df['stm_oorz_groep'], prefix='oorzgr')\n",
    "df = df.join(oorz_groep_dummies)"
   ]
  },
  {
   "cell_type": "markdown",
   "metadata": {},
   "source": [
    "## Target encoding"
   ]
  },
  {
   "cell_type": "code",
   "execution_count": null,
   "metadata": {},
   "outputs": [],
   "source": [
    "df['stm_oorz_code'] = rare_category(df['stm_oorz_code'], other_size=0.05)\n",
    "df['stm_geo_mld'] = rare_category(df['stm_geo_mld'], other_size=0.05)\n",
    "df['stm_contractgeb_mld'] = rare_category(df['stm_contractgeb_mld'], other_size=0.05)"
   ]
  },
  {
   "cell_type": "code",
   "execution_count": null,
   "metadata": {},
   "outputs": [],
   "source": [
    "# Voor random state 33/37 zijn alle unieke waardes waarvoor wij target encoding gebruiken gerepresenteerd.\n",
    "# df_train is 80% van de dataset\n",
    "df_train = df.sample(frac = 0.8, random_state=33)\n",
    "# df_test is de overige 20%\n",
    "df_test = df.drop(df_train.index)"
   ]
  },
  {
   "cell_type": "code",
   "execution_count": null,
   "metadata": {},
   "outputs": [],
   "source": [
    "# Setup TargetEncoder\n",
    "# Onze target is een duur in minuten, dus continue\n",
    "tEnc = TargetEncoder(target_type=\"continuous\", random_state=42)\n",
    "y = df_train['progfh_inv_tot_fh']"
   ]
  },
  {
   "cell_type": "markdown",
   "metadata": {},
   "source": [
    "### stm_oorz_code"
   ]
  },
  {
   "cell_type": "code",
   "execution_count": null,
   "metadata": {},
   "outputs": [],
   "source": [
    "# Fit het model op een feature in de traindata en maak een kolom aan met de geëncodeerde waardes\n",
    "X = np.array(df_train['stm_oorz_code']).reshape(-1, 1)\n",
    "tEnc.fit(X,y)\n",
    "df_train['oorz_code_enc'] = tEnc.transform(X)"
   ]
  },
  {
   "cell_type": "code",
   "execution_count": null,
   "metadata": {},
   "outputs": [],
   "source": [
    "# Een dictionary met de encodings (voor het dashboard)\n",
    "oorzc_dict = {}\n",
    "for i in range(len(tEnc.categories_[0])):\n",
    "    cat, enc = tEnc.categories_[0][i], tEnc.encodings_[0][i]\n",
    "    oorzc_dict[cat] = enc"
   ]
  },
  {
   "cell_type": "code",
   "execution_count": null,
   "metadata": {},
   "outputs": [],
   "source": [
    "# In de testdata dezelfde kolom aanmaken met de encodings van de traindata\n",
    "df_test['oorz_code_enc'] = df_test['stm_oorz_code'].apply(lambda x : oorzc_dict[x])"
   ]
  },
  {
   "cell_type": "markdown",
   "metadata": {},
   "source": [
    "### stm_geo_mld"
   ]
  },
  {
   "cell_type": "code",
   "execution_count": null,
   "metadata": {},
   "outputs": [],
   "source": [
    "# Fit het model op een feature in de traindata en maak een kolom aan met de geëncodeerde waardes\n",
    "X = np.array(df_train['stm_geo_mld']).reshape(-1, 1)\n",
    "tEnc.fit(X,y)\n",
    "df_train['geo_code_enc'] = tEnc.transform(X)"
   ]
  },
  {
   "cell_type": "code",
   "execution_count": null,
   "metadata": {},
   "outputs": [],
   "source": [
    "# Een dictionary met de encodings (voor het dashboard)\n",
    "geo_dict = {}\n",
    "for i in range(len(tEnc.categories_[0])):\n",
    "    cat, enc = tEnc.categories_[0][i], tEnc.encodings_[0][i]\n",
    "    geo_dict[cat] = enc"
   ]
  },
  {
   "cell_type": "code",
   "execution_count": null,
   "metadata": {},
   "outputs": [],
   "source": [
    "# In de testdata dezelfde kolom aanmaken met de encodings van de traindata\n",
    "df_test['geo_code_enc'] = df_test['stm_geo_mld'].apply(lambda x : geo_dict[x])"
   ]
  },
  {
   "cell_type": "markdown",
   "metadata": {},
   "source": [
    "### stm_contractgeb_mld"
   ]
  },
  {
   "cell_type": "code",
   "execution_count": null,
   "metadata": {},
   "outputs": [],
   "source": [
    "# Fit het model op een feature in de traindata en maak een kolom aan met de geëncodeerde waardes\n",
    "X = np.array(df_train['stm_contractgeb_mld']).reshape(-1, 1)\n",
    "tEnc.fit(X,y)\n",
    "df_train['contractgb_enc'] = tEnc.transform(X)"
   ]
  },
  {
   "cell_type": "code",
   "execution_count": null,
   "metadata": {},
   "outputs": [],
   "source": [
    "# Een dictionary met de encodings (voor het dashboard)\n",
    "contrgb_dict = {}\n",
    "for i in range(len(tEnc.categories_[0])):\n",
    "    cat, enc = tEnc.categories_[0][i], tEnc.encodings_[0][i]\n",
    "    contrgb_dict[cat] = enc\n",
    "# contrgb_dict"
   ]
  },
  {
   "cell_type": "code",
   "execution_count": null,
   "metadata": {},
   "outputs": [],
   "source": [
    "# In de testdata dezelfde kolom aanmaken met de encodings van de traindata\n",
    "df_test['contractgb_enc'] = df_test['stm_contractgeb_mld'].apply(lambda x : contrgb_dict[x])"
   ]
  },
  {
   "cell_type": "markdown",
   "metadata": {},
   "source": [
    "### stm_techn_mld"
   ]
  },
  {
   "cell_type": "code",
   "execution_count": null,
   "metadata": {},
   "outputs": [],
   "source": [
    "# Fit het model op een feature in de traindata en maak een kolom aan met de geëncodeerde waardes\n",
    "X = np.array(df_train['stm_techn_mld']).reshape(-1, 1)\n",
    "tEnc.fit(X,y)\n",
    "df_train['techn_veld_enc'] = tEnc.transform(X)"
   ]
  },
  {
   "cell_type": "code",
   "execution_count": null,
   "metadata": {},
   "outputs": [],
   "source": [
    "# Een dictionary met de encodings (voor het dashboard)\n",
    "techn_dict = {}\n",
    "for i in range(len(tEnc.categories_[0])):\n",
    "    cat, enc = tEnc.categories_[0][i], tEnc.encodings_[0][i]\n",
    "    techn_dict[cat] = enc"
   ]
  },
  {
   "cell_type": "code",
   "execution_count": null,
   "metadata": {},
   "outputs": [],
   "source": [
    "# In de testdata dezelfde kolom aanmaken met de encodings van de traindata\n",
    "df_test['techn_veld_enc'] = df_test['stm_techn_mld'].apply(lambda x : techn_dict[x])"
   ]
  },
  {
   "cell_type": "code",
   "execution_count": null,
   "metadata": {},
   "outputs": [],
   "source": [
    "df_train.info()"
   ]
  },
  {
   "cell_type": "code",
   "execution_count": null,
   "metadata": {},
   "outputs": [],
   "source": [
    "df_train = df_train.reset_index(drop=True)\n",
    "prioriteit = df_train['stm_prioriteit'].reset_index(drop=True)\n",
    "oorz_code_enc = df_train['oorz_code_enc'].reset_index(drop=True)\n",
    "geo_code_enc = df_train['geo_code_enc'].reset_index(drop=True)\n",
    "contractgb_enc = df_train['contractgb_enc'].reset_index(drop=True)\n",
    "techn_enc = df_train['techn_veld_enc'].reset_index(drop=True)\n",
    "fh_prog = df_train['stm_progfh_in_duur'].reset_index(drop=True)\n",
    "techn_veld_dummies = df_train[\n",
    "      ['techn_veld_A', 'techn_veld_B', 'techn_veld_E', 'techn_veld_G', \n",
    "       'techn_veld_I', 'techn_veld_K', 'techn_veld_M', 'techn_veld_O', \n",
    "       'techn_veld_P', 'techn_veld_S', 'techn_veld_T', 'techn_veld_X']].reset_index(drop=True)\n",
    "oorz_groep_dummies = df_train[['oorzgr_ONBK',\n",
    "       'oorzgr_ONR-DERD', 'oorzgr_ONR-RIB', 'oorzgr_TECHONV', 'oorzgr_WEER']].reset_index(drop=True)\n",
    "\n",
    "features_to_use = [\n",
    "       fh_prog,\n",
    "       oorz_code_enc,\n",
    "       geo_code_enc,\n",
    "       contractgb_enc,\n",
    "       techn_enc,\n",
    "       prioriteit,\n",
    "       techn_veld_dummies,\n",
    "       oorz_groep_dummies\n",
    "       ]\n",
    "\n",
    "train_df = pd.concat([df_train['progfh_inv_tot_fh'], *features_to_use], axis=1)\n",
    "train_df.head()"
   ]
  },
  {
   "cell_type": "code",
   "execution_count": null,
   "metadata": {},
   "outputs": [],
   "source": [
    "train_df.to_pickle(\"data/ole_train_df.pkl\")"
   ]
  },
  {
   "cell_type": "code",
   "execution_count": null,
   "metadata": {},
   "outputs": [],
   "source": [
    "df_test = df_test.reset_index(drop=True)\n",
    "prioriteit = df_test['stm_prioriteit'].reset_index(drop=True)\n",
    "oorz_code_enc = df_test['oorz_code_enc'].reset_index(drop=True)\n",
    "geo_code_enc = df_test['geo_code_enc'].reset_index(drop=True)\n",
    "contractgb_enc = df_test['contractgb_enc'].reset_index(drop=True)\n",
    "techn_enc = df_test['techn_veld_enc'].reset_index(drop=True)\n",
    "fh_prog = df_test['stm_progfh_in_duur'].reset_index(drop=True)\n",
    "techn_veld_dummies = df_test[\n",
    "      ['techn_veld_A', 'techn_veld_B', 'techn_veld_E', 'techn_veld_G', \n",
    "       'techn_veld_I', 'techn_veld_K', 'techn_veld_M', 'techn_veld_O', \n",
    "       'techn_veld_P', 'techn_veld_S', 'techn_veld_T', 'techn_veld_X']].reset_index(drop=True)\n",
    "oorz_groep_dummies = df_test[['oorzgr_ONBK',\n",
    "       'oorzgr_ONR-DERD', 'oorzgr_ONR-RIB', 'oorzgr_TECHONV', 'oorzgr_WEER']].reset_index(drop=True)\n",
    "\n",
    "features_to_use = [\n",
    "       fh_prog,\n",
    "       oorz_code_enc,\n",
    "       geo_code_enc,\n",
    "       contractgb_enc,\n",
    "       techn_enc,\n",
    "       prioriteit,\n",
    "       techn_veld_dummies,\n",
    "       oorz_groep_dummies\n",
    "       ]\n",
    "\n",
    "test_df = pd.concat([df_test['progfh_inv_tot_fh'], *features_to_use], axis=1)\n",
    "test_df.head()"
   ]
  },
  {
   "cell_type": "code",
   "execution_count": null,
   "metadata": {},
   "outputs": [],
   "source": [
    "test_df.to_pickle(\"data/ole_test_df.pkl\")"
   ]
  },
  {
   "cell_type": "code",
   "execution_count": null,
   "metadata": {},
   "outputs": [],
   "source": [
    "model_df = pd.concat([train_df, test_df], axis=0)\n",
    "model_df.to_pickle(\"data/ole_model_df.pkl\")\n",
    "model_df.info()"
   ]
  },
  {
   "cell_type": "code",
   "execution_count": null,
   "metadata": {},
   "outputs": [],
   "source": [
    "# Dictionary van de dictionaries\n",
    "encodings = {\n",
    "    'oorz_code': oorzc_dict,\n",
    "    'geo_code': geo_dict,\n",
    "    'contractgb': contrgb_dict,\n",
    "    'techn_veld': techn_dict\n",
    "}\n",
    "with open('data/feature_encodings.json', 'w') as outfile:\n",
    "    json.dump(encodings, outfile)"
   ]
  },
  {
   "cell_type": "code",
   "execution_count": null,
   "metadata": {},
   "outputs": [],
   "source": []
  }
 ],
 "metadata": {
  "kernelspec": {
   "display_name": "PROG",
   "language": "python",
   "name": "python3"
  },
  "language_info": {
   "codemirror_mode": {
    "name": "ipython",
    "version": 3
   },
   "file_extension": ".py",
   "mimetype": "text/x-python",
   "name": "python",
   "nbconvert_exporter": "python",
   "pygments_lexer": "ipython3",
   "version": "3.10.6"
  }
 },
 "nbformat": 4,
 "nbformat_minor": 2
}
