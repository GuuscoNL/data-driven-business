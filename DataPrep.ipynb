{
 "cells": [
  {
   "cell_type": "code",
   "execution_count": null,
   "metadata": {},
   "outputs": [],
   "source": [
    "%%capture\n",
    "%run \"main.ipynb\"\n",
    "import seaborn as sns\n",
    "import matplotlib.pyplot as plt\n",
    "from collections import Counter\n",
    "from sklearn.preprocessing import TargetEncoder\n",
    "import numpy as np"
   ]
  },
  {
   "cell_type": "code",
   "execution_count": null,
   "metadata": {},
   "outputs": [],
   "source": [
    "def cumulatively_categorise(column,threshold=0.75):\n",
    "    threshold_value=int(threshold*len(column))\n",
    "    categories_list=[]\n",
    "    s=0\n",
    "    counts=Counter(column)\n",
    "    for i,j in counts.most_common():\n",
    "        s+=dict(counts)[i]\n",
    "        categories_list.append(i)\n",
    "        if s>=threshold_value:\n",
    "            break\n",
    "    categories_list.append('Other')\n",
    "    new_column=column.apply(lambda x: x if x in categories_list else 'Other')\n",
    "    return pd.Series(new_column)"
   ]
  },
  {
   "cell_type": "markdown",
   "metadata": {},
   "source": [
    "# Data cleaning"
   ]
  },
  {
   "cell_type": "code",
   "execution_count": null,
   "metadata": {},
   "outputs": [],
   "source": [
    "# NA's verwijderen omdat het er weinig zijn\n",
    "df = df.dropna(subset=['stm_prioriteit'])"
   ]
  },
  {
   "cell_type": "code",
   "execution_count": null,
   "metadata": {},
   "outputs": [],
   "source": [
    "# stm_geo_mld\n",
    "df = df[df.stm_geo_mld != '']\n",
    "df['stm_geo_mld'] = df['stm_geo_mld'].astype(float).astype(int)\n",
    "# stm_oorz_code\n",
    "df['stm_oorz_code'] = df['stm_oorz_code'].fillna(221).astype(int) # 221 is the most 'other' categorie"
   ]
  },
  {
   "cell_type": "markdown",
   "metadata": {},
   "source": [
    "# Data preparation"
   ]
  },
  {
   "cell_type": "code",
   "execution_count": null,
   "metadata": {},
   "outputs": [],
   "source": [
    "# Setup TargetEncoder\n",
    "tEnc = TargetEncoder()\n",
    "y = df['anm_tot_fh']"
   ]
  },
  {
   "cell_type": "markdown",
   "metadata": {},
   "source": [
    "## stm_prioriteit"
   ]
  },
  {
   "cell_type": "code",
   "execution_count": null,
   "metadata": {},
   "outputs": [],
   "source": [
    "mean_per_prio_lvl = df.groupby('stm_prioriteit')['anm_tot_fh'].mean()\n",
    "mean_per_prio_lvl"
   ]
  },
  {
   "cell_type": "code",
   "execution_count": null,
   "metadata": {},
   "outputs": [],
   "source": [
    "sns.boxplot(x='stm_prioriteit', y='anm_tot_fh', data=df, order=mean_per_prio_lvl.index)\n",
    "\n",
    "plt.xlabel('Priority Level')\n",
    "plt.ylabel('anm_tot_fh in minutes')\n",
    "\n",
    "plt.show()"
   ]
  },
  {
   "cell_type": "code",
   "execution_count": null,
   "metadata": {},
   "outputs": [],
   "source": [
    "df['stm_prioriteit'].info()\n",
    "prioriteit_dummies = pd.get_dummies(df['stm_prioriteit'], prefix='prio')\n",
    "prioriteit_dummies.info()"
   ]
  },
  {
   "cell_type": "markdown",
   "metadata": {},
   "source": [
    "## stm_oorz_code"
   ]
  },
  {
   "cell_type": "code",
   "execution_count": null,
   "metadata": {},
   "outputs": [],
   "source": [
    "X = np.array(df['stm_oorz_groep']).reshape(-1, 1)\n",
    "tEnc.fit(X,y)\n",
    "df['oorz_code_enc'] = tEnc.transform(X)"
   ]
  },
  {
   "cell_type": "code",
   "execution_count": null,
   "metadata": {},
   "outputs": [],
   "source": [
    "X = np.array(df['stm_geo_mld']).reshape(-1, 1)\n",
    "tEnc.fit(X,y)\n",
    "df['geo_code_enc'] = tEnc.transform(X)"
   ]
  },
  {
   "cell_type": "code",
   "execution_count": null,
   "metadata": {},
   "outputs": [],
   "source": [
    "X = np.array(df['stm_contractgeb_mld']).reshape(-1, 1)\n",
    "tEnc.fit(X,y)\n",
    "df['contractgb_enc'] = tEnc.transform(X)"
   ]
  },
  {
   "cell_type": "code",
   "execution_count": null,
   "metadata": {},
   "outputs": [],
   "source": [
    "X = np.array(df['stm_techn_mld']).reshape(-1, 1)\n",
    "tEnc.fit(X,y)\n",
    "df['techn_enc'] = tEnc.transform(X)"
   ]
  },
  {
   "cell_type": "markdown",
   "metadata": {},
   "source": [
    "## stm_oorz_groep"
   ]
  },
  {
   "cell_type": "code",
   "execution_count": null,
   "metadata": {},
   "outputs": [],
   "source": [
    "# orz_dict = {'TECHONV':0, '':0, 'ONR-RIB':0, 'ONR-DERD':1, 'WEER':0}\n",
    "# df['oorz_groep_cluster'] = df['stm_oorz_groep'].apply(lambda x: orz_dict[x])"
   ]
  },
  {
   "cell_type": "code",
   "execution_count": null,
   "metadata": {},
   "outputs": [],
   "source": [
    "# X = np.array(df['stm_oorz_groep']).reshape(-1, 1)\n",
    "# tEnc.fit(X,y)\n",
    "# df['oorzgr_enc'] = tEnc.transform(X)"
   ]
  },
  {
   "cell_type": "markdown",
   "metadata": {},
   "source": [
    "## stm_techn_mld"
   ]
  },
  {
   "cell_type": "code",
   "execution_count": null,
   "metadata": {},
   "outputs": [],
   "source": [
    "# # techncl_dict = {'':1, 'S':1,'B':1,'K':1,'E':1,'T':1,'X':1,'I':1, \n",
    "# #                 'P':0,'O':0,'G':0,\n",
    "# #                 'M':2,'A':2, \n",
    "# #                 'H':3}\n",
    "# # df['techn_cluster'] = df['stm_techn_mld'].apply(lambda x: techncl_dict[x])\n",
    "# df['techn_cluster0'] = df['stm_techn_mld'].apply(lambda x: 1 if x in ['','S','B','K','E','T','X','I'] else 0)\n",
    "# df['techn_cluster1'] = df['stm_techn_mld'].apply(lambda x: 1 if x in ['P','O','G'] else 0)\n",
    "# df['techn_cluster2'] = df['stm_techn_mld'].apply(lambda x: 1 if x in ['M','A'] else 0)\n",
    "# df['techn_cluster3'] = df['stm_techn_mld'].apply(lambda x: 1 if x in ['H'] else 0)"
   ]
  },
  {
   "cell_type": "code",
   "execution_count": null,
   "metadata": {},
   "outputs": [],
   "source": [
    "df = df.reset_index(drop=True)\n",
    "# techn_veld_dummies = techn_veld_dummies.reset_index(drop=True)\n",
    "# oorz_code_dummies = oorz_code_dummies.reset_index(drop=True)\n",
    "prioriteit_dummies = prioriteit_dummies.reset_index(drop=True)\n",
    "# geo_code_dummies = geo_code_dummies.reset_index(drop=True)\n",
    "# contractgebied_dummies = contractgebied_dummies.reset_index(drop=True)\n",
    "# oorz_code_median = df['oorz_code_median'].reset_index(drop=True)\n",
    "# geo_score = df['geo_score'].reset_index(drop=True)\n",
    "# contractgeb_score = df['contractgeb_score'].reset_index(drop=True)\n",
    "# oorz_groep_cluster = df['oorz_groep_cluster'].reset_index(drop=True)\n",
    "# techn_cluster0 = df['techn_cluster0'].reset_index(drop=True)\n",
    "# techn_cluster1 = df['techn_cluster1'].reset_index(drop=True)\n",
    "# techn_cluster2 = df['techn_cluster2'].reset_index(drop=True)\n",
    "# techn_cluster3 = df['techn_cluster3'].reset_index(drop=True)\n",
    "\n",
    "# prio_enc = df['prio_enc'].reset_index(drop=True)\n",
    "oorz_code_enc = df['oorz_code_enc'].reset_index(drop=True)\n",
    "geo_code_enc = df['geo_code_enc'].reset_index(drop=True)\n",
    "contractgb_enc = df['contractgb_enc'].reset_index(drop=True)\n",
    "techn_enc = df['techn_enc'].reset_index(drop=True)\n",
    "# oorzgr_enc = df['oorzgr_enc'].reset_index(drop=True)\n",
    "\n",
    "features_to_use = [\n",
    "    prioriteit_dummies,\n",
    "    oorz_code_enc,\n",
    "    geo_code_enc,\n",
    "    contractgb_enc,\n",
    "#     oorzgr_enc,\n",
    "    techn_enc\n",
    "]\n",
    "\n",
    "model_df = pd.concat([df['anm_tot_fh'], *features_to_use], axis=1)\n",
    "# model_df = model_df.dropna()\n",
    "model_df.sample(20)"
   ]
  },
  {
   "cell_type": "code",
   "execution_count": null,
   "metadata": {},
   "outputs": [],
   "source": [
    "model_df.info()"
   ]
  },
  {
   "cell_type": "code",
   "execution_count": null,
   "metadata": {},
   "outputs": [],
   "source": [
    "model_df.to_csv(\"data/model_df.csv\")"
   ]
  },
  {
   "cell_type": "code",
   "execution_count": null,
   "metadata": {},
   "outputs": [],
   "source": []
  }
 ],
 "metadata": {
  "kernelspec": {
   "display_name": "Python 3 (ipykernel)",
   "language": "python",
   "name": "python3"
  },
  "language_info": {
   "codemirror_mode": {
    "name": "ipython",
    "version": 3
   },
   "file_extension": ".py",
   "mimetype": "text/x-python",
   "name": "python",
   "nbconvert_exporter": "python",
   "pygments_lexer": "ipython3",
   "version": "3.11.4"
  }
 },
 "nbformat": 4,
 "nbformat_minor": 2
}
