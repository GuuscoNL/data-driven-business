{
 "cells": [
  {
   "cell_type": "code",
   "execution_count": null,
   "metadata": {},
   "outputs": [],
   "source": [
    "%%capture\n",
    "%run \"main.ipynb\"\n",
    "import seaborn as sns\n",
    "import matplotlib.pyplot as plt\n",
    "from collections import Counter\n",
    "import numpy as np"
   ]
  },
  {
   "cell_type": "code",
   "execution_count": null,
   "metadata": {},
   "outputs": [],
   "source": [
    "def cumulatively_categorise(column: pd.Series,threshold: float = 0.75) -> pd.Series:\n",
    "    \"\"\"\n",
    "    Maak een \"Other\" kolom aan voor de klasses in een variabele die minder vaak voor komen\n",
    "\n",
    "    Parameters:\n",
    "    - column (pd.Series): De kolom waarvan het aantal klasses gereduceerd moet worden\n",
    "    - threshold (float, optional): 1 - threshold = de grootte van de \"Other\" klasse in de feature\n",
    "\n",
    "    Returns:\n",
    "    - pd.Series: Een nieuwe kolom waarvan het aantal klasses gereduceerd is\n",
    "    \"\"\"\n",
    "    threshold_value=int(threshold*len(column))\n",
    "    categories_list=[]\n",
    "    s=0\n",
    "    counts=Counter(column)\n",
    "    for i,j in counts.most_common():\n",
    "        s+=dict(counts)[i]\n",
    "        categories_list.append(i)\n",
    "        if s>=threshold_value:\n",
    "            break\n",
    "    categories_list.append('Other')\n",
    "    new_column=column.apply(lambda x: x if x in categories_list else 'Other')\n",
    "    return pd.Series(new_column)"
   ]
  },
  {
   "cell_type": "markdown",
   "metadata": {},
   "source": [
    "## stm_prioriteit"
   ]
  },
  {
   "cell_type": "code",
   "execution_count": null,
   "metadata": {},
   "outputs": [],
   "source": [
    "# NA's verwijderen omdat het er weinig zijn\n",
    "df = df.dropna(subset=['stm_prioriteit'])\n",
    "\n",
    "# veranderen van float naar categorie datatype\n",
    "# df['stm_prioriteit'] = df['stm_prioriteit'].astype('category')\n",
    "\n",
    "# df['stm_prioriteit'].value_counts()"
   ]
  },
  {
   "cell_type": "markdown",
   "metadata": {},
   "source": [
    "De gemiddelde duur is wel degelijk verschillend bij de verschillende prioriteits klasses, zoals te zien in de output van de cel hieronder."
   ]
  },
  {
   "cell_type": "code",
   "execution_count": null,
   "metadata": {},
   "outputs": [],
   "source": [
    "mean_per_prio_lvl = df.groupby('stm_prioriteit')['anm_tot_fh'].mean()\n",
    "mean_per_prio_lvl"
   ]
  },
  {
   "cell_type": "code",
   "execution_count": null,
   "metadata": {},
   "outputs": [],
   "source": [
    "sns.boxplot(x='stm_prioriteit', y='anm_tot_fh', data=df, order=mean_per_prio_lvl.index)\n",
    "\n",
    "plt.xlabel('Priority Level')\n",
    "plt.ylabel('anm_tot_fh in minutes')\n",
    "\n",
    "plt.show()"
   ]
  },
  {
   "cell_type": "code",
   "execution_count": null,
   "metadata": {},
   "outputs": [],
   "source": [
    "df['stm_prioriteit'].info()\n",
    "prioriteit_dummies = pd.get_dummies(df['stm_prioriteit'], prefix='prio')\n",
    "prioriteit_dummies.info()"
   ]
  },
  {
   "cell_type": "markdown",
   "metadata": {},
   "source": [
    "## stm_oorz_code"
   ]
  },
  {
   "cell_type": "code",
   "execution_count": null,
   "metadata": {},
   "outputs": [],
   "source": [
    "df = df.dropna(subset=['stm_oorz_code'])\n",
    "df['stm_oorz_code'] = df['stm_oorz_code'].astype('category')"
   ]
  },
  {
   "cell_type": "code",
   "execution_count": null,
   "metadata": {},
   "outputs": [],
   "source": [
    "df['stm_oorz_code'].value_counts()"
   ]
  },
  {
   "cell_type": "code",
   "execution_count": null,
   "metadata": {},
   "outputs": [],
   "source": [
    "df['stm_oorz_code'] = cumulatively_categorise(df['stm_oorz_code'], threshold=0.8)\n",
    "# remove .0\n",
    "df['stm_oorz_code'] = df['stm_oorz_code'].astype(str).replace('\\.0', '', regex=True)\n",
    "df['stm_oorz_code'].value_counts()"
   ]
  },
  {
   "cell_type": "code",
   "execution_count": null,
   "metadata": {},
   "outputs": [],
   "source": [
    "oorz_code_dummies = pd.get_dummies(df['stm_oorz_code'], prefix='oorz_code')\n",
    "oorz_code_dummies.info()"
   ]
  },
  {
   "cell_type": "code",
   "execution_count": null,
   "metadata": {},
   "outputs": [],
   "source": [
    "# make dictionary for oorzaakcode median\n",
    "oorzcd_dict = {}\n",
    "for oorzc in df['stm_oorz_code'].unique():\n",
    "    oorzcd_dict[oorzc] = (df[df.stm_oorz_code == oorzc]['anm_tot_fh'].median())\n",
    "# Make column with median scores\n",
    "df['oorz_code_median'] = df['stm_oorz_code'].apply(lambda x: oorzcd_dict[x] if str(x) != 'nan' else np.nan)"
   ]
  },
  {
   "cell_type": "markdown",
   "metadata": {},
   "source": [
    "## stm_techn_mld"
   ]
  },
  {
   "cell_type": "code",
   "execution_count": null,
   "metadata": {},
   "outputs": [],
   "source": [
    "df = df.dropna(subset=['stm_techn_mld'])\n",
    "df['stm_techn_mld'].astype('category')\n",
    "df['stm_techn_mld'].value_counts()"
   ]
  },
  {
   "cell_type": "code",
   "execution_count": null,
   "metadata": {},
   "outputs": [],
   "source": [
    "df['stm_techn_mld'] = df['stm_techn_mld'].replace('', 'X')"
   ]
  },
  {
   "cell_type": "markdown",
   "metadata": {},
   "source": [
    "Het aantal categorieën wordt gereduceerd voordat er dummies gemaakt worden omdat het aantal kolommen ander te groot wordt"
   ]
  },
  {
   "cell_type": "code",
   "execution_count": null,
   "metadata": {},
   "outputs": [],
   "source": [
    "df['stm_techn_mld'] = cumulatively_categorise(df['stm_techn_mld'], threshold=0.9)\n",
    "df['stm_techn_mld'].value_counts()"
   ]
  },
  {
   "cell_type": "code",
   "execution_count": null,
   "metadata": {},
   "outputs": [],
   "source": [
    "mean_per_tech_field = df.groupby('stm_techn_mld')['anm_tot_fh'].mean()\n",
    "mean_per_tech_field"
   ]
  },
  {
   "cell_type": "code",
   "execution_count": null,
   "metadata": {},
   "outputs": [],
   "source": [
    "sns.boxplot(x='stm_techn_mld', y='anm_tot_fh', data=df, order=mean_per_tech_field.index)\n",
    "\n",
    "plt.xlabel('Techniek veld')\n",
    "plt.ylabel('anm_tot_fh in minuten')\n",
    "\n",
    "plt.show()"
   ]
  },
  {
   "cell_type": "code",
   "execution_count": null,
   "metadata": {},
   "outputs": [],
   "source": [
    "techn_veld_dummies = pd.get_dummies(df['stm_techn_mld'], prefix='techn_veld')\n",
    "techn_veld_dummies.info()"
   ]
  },
  {
   "cell_type": "markdown",
   "metadata": {},
   "source": [
    "## stm_geo_mld"
   ]
  },
  {
   "cell_type": "code",
   "execution_count": null,
   "metadata": {},
   "outputs": [],
   "source": [
    "df = df.dropna(subset=['stm_geo_mld'])\n",
    "df['stm_geo_mld'].astype('category')\n",
    "df['stm_geo_mld'].value_counts()"
   ]
  },
  {
   "cell_type": "code",
   "execution_count": null,
   "metadata": {},
   "outputs": [],
   "source": [
    "df['stm_geo_mld'] = cumulatively_categorise(df['stm_geo_mld'], threshold=0.7)\n",
    "df['stm_geo_mld'].value_counts()"
   ]
  },
  {
   "cell_type": "code",
   "execution_count": null,
   "metadata": {},
   "outputs": [],
   "source": [
    "geo_code_dummies = pd.get_dummies(df['stm_geo_mld'], prefix='geo_code')\n",
    "geo_code_dummies.info()"
   ]
  },
  {
   "cell_type": "code",
   "execution_count": null,
   "metadata": {},
   "outputs": [],
   "source": [
    "# geocode to score dictionary\n",
    "geo_dict = {}\n",
    "for geocode in df['stm_geo_mld'].unique():\n",
    "    geo_dict[geocode] = (df[(df.stm_geo_mld == geocode) & (df.stm_oorz_code == 225)]['anm_tot_fh'].median())\n",
    "# make column with the score for each geo code\n",
    "df['geo_score'] = df['stm_geo_mld'].apply(lambda x: geo_dict[x]/max(geo_dict.values()))"
   ]
  },
  {
   "cell_type": "markdown",
   "metadata": {},
   "source": [
    "## stm_contractgeb_mld"
   ]
  },
  {
   "cell_type": "code",
   "execution_count": null,
   "metadata": {},
   "outputs": [],
   "source": [
    "df = df.dropna(subset=['stm_contractgeb_mld'])\n",
    "df['stm_contractgeb_mld'].astype('category')\n",
    "df['stm_contractgeb_mld'].value_counts()"
   ]
  },
  {
   "cell_type": "code",
   "execution_count": null,
   "metadata": {},
   "outputs": [],
   "source": [
    "df['stm_contractgeb_mld'] = cumulatively_categorise(df['stm_contractgeb_mld'], threshold=0.9)\n",
    "df['stm_contractgeb_mld'].unique()"
   ]
  },
  {
   "cell_type": "code",
   "execution_count": null,
   "metadata": {},
   "outputs": [],
   "source": [
    "contractgebied_dummies = pd.get_dummies(df['stm_contractgeb_mld'], prefix='contractgebied')\n",
    "contractgebied_dummies.info()"
   ]
  },
  {
   "cell_type": "code",
   "execution_count": null,
   "metadata": {},
   "outputs": [],
   "source": [
    "# contractgebied to score dictionary\n",
    "# contrgb_dict = {}\n",
    "# for contr_geb in df['stm_contractgeb_mld'].unique():\n",
    "#     contrgb_dict[contr_geb] = (df[(df.stm_contractgeb_mld == contr_geb) & (df.stm_oorz_code == 225)]['anm_tot_fh'].median())\n",
    "# # make column with the score for each contractgebied\n",
    "# max_ctr = max([x for x in sorted(contrgb_dict.values()) if str(x) != 'nan'])\n",
    "# df['contractgeb_score'] = df['stm_contractgeb_mld'].apply(lambda x: contrgb_dict[x]/max_ctr if str(x) != 'nan' else np.nan)"
   ]
  },
  {
   "cell_type": "markdown",
   "metadata": {},
   "source": [
    "## stm_oorz_groep"
   ]
  },
  {
   "cell_type": "code",
   "execution_count": null,
   "metadata": {},
   "outputs": [],
   "source": [
    "# orz_dict = {'TECHONV':0, '':0, 'ONR-RIB':0, 'ONR-DERD':1, 'WEER':0}\n",
    "# df['oorz_groep_cluster'] = df['stm_oorz_groep'].apply(lambda x: orz_dict[x])"
   ]
  },
  {
   "cell_type": "markdown",
   "metadata": {},
   "source": [
    "## stm_techn_mld"
   ]
  },
  {
   "cell_type": "code",
   "execution_count": null,
   "metadata": {},
   "outputs": [],
   "source": [
    "# techncl_dict = {'':1, 'S':1,'B':1,'K':1,'E':1,'T':1,'X':1,'I':1, \n",
    "#                 'P':0,'O':0,'G':0,\n",
    "#                 'M':2,'A':2, \n",
    "#                 'H':3}\n",
    "# df['techn_cluster'] = df['stm_techn_mld'].apply(lambda x: techncl_dict[x])\n",
    "# df['techn_cluster0'] = df['stm_techn_mld'].apply(lambda x: 1 if x in ['','S','B','K','E','T','X','I'] else 0)\n",
    "# df['techn_cluster1'] = df['stm_techn_mld'].apply(lambda x: 1 if x in ['P','O','G'] else 0)\n",
    "# df['techn_cluster2'] = df['stm_techn_mld'].apply(lambda x: 1 if x in ['M','A'] else 0)\n",
    "# df['techn_cluster3'] = df['stm_techn_mld'].apply(lambda x: 1 if x in ['H'] else 0)"
   ]
  },
  {
   "cell_type": "code",
   "execution_count": null,
   "metadata": {},
   "outputs": [],
   "source": [
    "df.columns"
   ]
  },
  {
   "cell_type": "code",
   "execution_count": null,
   "metadata": {},
   "outputs": [],
   "source": [
    "df = df.reset_index(drop=True)\n",
    "techn_veld_dummies = techn_veld_dummies.reset_index(drop=True)\n",
    "oorz_code_dummies = oorz_code_dummies.reset_index(drop=True)\n",
    "prioriteit_dummies = prioriteit_dummies.reset_index(drop=True)\n",
    "geo_code_dummies = geo_code_dummies.reset_index(drop=True)\n",
    "contractgebied_dummies = contractgebied_dummies.reset_index(drop=True)\n",
    "# oorz_code_median = df['oorz_code_median'].reset_index(drop=True)\n",
    "# geo_score = df['geo_score'].reset_index(drop=True)\n",
    "# contractgeb_score = df['contractgeb_score'].reset_index(drop=True)\n",
    "# oorz_groep_cluster = df['oorz_groep_cluster'].reset_index(drop=True)\n",
    "# techn_cluster0 = df['techn_cluster0'].reset_index(drop=True)\n",
    "# techn_cluster1 = df['techn_cluster1'].reset_index(drop=True)\n",
    "# techn_cluster2 = df['techn_cluster2'].reset_index(drop=True)\n",
    "# techn_cluster3 = df['techn_cluster3'].reset_index(drop=True)\n",
    "\n",
    "features_to_use = [\n",
    "    techn_veld_dummies,\n",
    "    oorz_code_dummies, \n",
    "    df['stm_prioriteit'],\n",
    "    prioriteit_dummies,\n",
    "    geo_code_dummies,\n",
    "    contractgebied_dummies\n",
    "    # oorz_code_median,\n",
    "    # geo_score,\n",
    "    # contractgeb_score,\n",
    "    # oorz_groep_cluster,\n",
    "    # techn_cluster0,\n",
    "    # techn_cluster1,\n",
    "    # techn_cluster2,\n",
    "    # techn_cluster3\n",
    "    ]\n",
    "\n",
    "model_df = pd.concat([df['anm_tot_fh'], *features_to_use], axis=1)\n",
    "# model_df = model_df.dropna()\n",
    "model_df.sample(20)"
   ]
  },
  {
   "cell_type": "code",
   "execution_count": null,
   "metadata": {},
   "outputs": [],
   "source": [
    "len(model_df), len(model_df.dropna())"
   ]
  },
  {
   "cell_type": "code",
   "execution_count": null,
   "metadata": {},
   "outputs": [],
   "source": [
    "model_df.info()"
   ]
  },
  {
   "cell_type": "code",
   "execution_count": null,
   "metadata": {},
   "outputs": [],
   "source": [
    "model_df.dropna().to_csv(\"data/model_df.csv\")"
   ]
  },
  {
   "cell_type": "code",
   "execution_count": null,
   "metadata": {},
   "outputs": [],
   "source": []
  }
 ],
 "metadata": {
  "kernelspec": {
   "display_name": "Python 3 (ipykernel)",
   "language": "python",
   "name": "python3"
  },
  "language_info": {
   "codemirror_mode": {
    "name": "ipython",
    "version": 3
   },
   "file_extension": ".py",
   "mimetype": "text/x-python",
   "name": "python",
   "nbconvert_exporter": "python",
   "pygments_lexer": "ipython3",
   "version": "3.11.4"
  }
 },
 "nbformat": 4,
 "nbformat_minor": 2
}
