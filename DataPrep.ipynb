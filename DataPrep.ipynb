{
 "cells": [
  {
   "cell_type": "code",
   "execution_count": null,
   "metadata": {},
   "outputs": [],
   "source": [
    "%%capture\n",
    "%run \"main.ipynb\""
   ]
  },
  {
   "cell_type": "code",
   "execution_count": null,
   "metadata": {},
   "outputs": [],
   "source": [
    "from collections import Counter\n",
    "from sklearn.preprocessing import TargetEncoder\n",
    "import numpy as np\n",
    "import json"
   ]
  },
  {
   "cell_type": "code",
   "execution_count": null,
   "metadata": {},
   "outputs": [],
   "source": [
    "def cumulatively_categorise(column,threshold=0.75):\n",
    "    threshold_value=int(threshold*len(column))\n",
    "    categories_list=[]\n",
    "    s=0\n",
    "    counts=Counter(column)\n",
    "    for i,j in counts.most_common():\n",
    "        s+=dict(counts)[i]\n",
    "        categories_list.append(i)\n",
    "        if s>=threshold_value:\n",
    "            break\n",
    "    categories_list.append('Other')\n",
    "    new_column=column.apply(lambda x: x if x in categories_list else 'Other')\n",
    "    return pd.Series(new_column)"
   ]
  },
  {
   "cell_type": "markdown",
   "metadata": {},
   "source": [
    "# Data cleaning"
   ]
  },
  {
   "cell_type": "markdown",
   "metadata": {},
   "source": [
    "Er zijn 2 rijen die een prioriteit missen, deze twee rijen halen we uit de database."
   ]
  },
  {
   "cell_type": "code",
   "execution_count": null,
   "metadata": {},
   "outputs": [],
   "source": [
    "# NA's verwijderen omdat het er weinig zijn\n",
    "df = df.dropna(subset=['stm_prioriteit'])"
   ]
  },
  {
   "cell_type": "markdown",
   "metadata": {},
   "source": [
    "Er zijn 5 rijen die een geocode missen. Ook deze halen wij uit de database. \\\n",
    "Verder vullen wij voor missende oorzaakcodes, de code 999. \n",
    "Deze wordt in de database al gebruikt, en is niet beschreven in de data dictionary die wij hebben gekregen.\n",
    "Het is een default/missende waarde. \\\n",
    "Voor het contractgebied vervangen wij missende waardes met 999. Deze komt in de dataset niet voor en is vergeleken met de andere waardes in deze kolom, overduidelijk een default/overig value."
   ]
  },
  {
   "cell_type": "code",
   "execution_count": null,
   "metadata": {},
   "outputs": [],
   "source": [
    "# stm_geo_mld\n",
    "# Some computers differ in how they interpret a column without values\n",
    "# So we remove both NaN values and empty strings\n",
    "df = df[df.stm_geo_mld != '']\n",
    "df = df.dropna(subset=['stm_geo_mld'])\n",
    "df['stm_geo_mld'] = df['stm_geo_mld'].astype(float).astype(int).astype(str)"
   ]
  },
  {
   "cell_type": "code",
   "execution_count": null,
   "metadata": {},
   "outputs": [],
   "source": [
    "# stm_oorz_code\n",
    "df['stm_oorz_code'] = df['stm_oorz_code'].fillna(221).astype(int).astype(str)"
   ]
  },
  {
   "cell_type": "code",
   "execution_count": null,
   "metadata": {},
   "outputs": [],
   "source": [
    "# stm_techn_mld\n",
    "df['stm_techn_mld'] = df['stm_techn_mld'].replace('', 'X')\n",
    "df['stm_techn_mld'] = df['stm_techn_mld'].fillna('X')"
   ]
  },
  {
   "cell_type": "code",
   "execution_count": null,
   "metadata": {},
   "outputs": [],
   "source": [
    "# stm_contractgeb_mld\n",
    "df['stm_contractgeb_mld'] = df['stm_contractgeb_mld'].fillna(999)\n",
    "df['stm_contractgeb_mld'] = df['stm_contractgeb_mld'].astype(float).astype(int).astype(str)"
   ]
  },
  {
   "cell_type": "code",
   "execution_count": null,
   "metadata": {},
   "outputs": [],
   "source": [
    "# stm_oorz_groep\n",
    "df['stm_oorz_groep'] = df['stm_oorz_groep'].replace('', 'ONBK', regex=True)"
   ]
  },
  {
   "cell_type": "code",
   "execution_count": null,
   "metadata": {},
   "outputs": [],
   "source": [
    "# stm_progfh_in_duur\n",
    "df['stm_progfh_in_duur'] = df['stm_progfh_in_duur'].str.strip('*- ').astype(float).astype(int)"
   ]
  },
  {
   "cell_type": "markdown",
   "metadata": {},
   "source": [
    "# Data preparation"
   ]
  },
  {
   "cell_type": "code",
   "execution_count": null,
   "metadata": {},
   "outputs": [],
   "source": [
    "# Setup TargetEncoder\n",
    "tEnc = TargetEncoder(target_type=\"continuous\", random_state=42)\n",
    "y = df['anm_tot_fh']"
   ]
  },
  {
   "cell_type": "markdown",
   "metadata": {},
   "source": [
    "## stm_prioriteit"
   ]
  },
  {
   "cell_type": "markdown",
   "metadata": {},
   "source": [
    "Deze variabele gebruiken wij als een ordinale meetwaarde en hoeft dus niet veranderd te worden."
   ]
  },
  {
   "cell_type": "markdown",
   "metadata": {},
   "source": [
    "df['stm_prioriteit'].info()\n",
    "prioriteit_dummies = pd.get_dummies(df['stm_prioriteit'], prefix='prio')\n",
    "prioriteit_dummies.info()"
   ]
  },
  {
   "cell_type": "markdown",
   "metadata": {},
   "source": [
    "## stm_oorz_code"
   ]
  },
  {
   "cell_type": "code",
   "execution_count": null,
   "metadata": {},
   "outputs": [],
   "source": [
    "X = np.array(df['stm_oorz_code']).reshape(-1, 1)\n",
    "tEnc.fit(X,y)\n",
    "df['oorz_code_enc'] = tEnc.transform(X)"
   ]
  },
  {
   "cell_type": "code",
   "execution_count": null,
   "metadata": {},
   "outputs": [],
   "source": [
    "oorzc_dict = {}\n",
    "for i in range(len(tEnc.categories_[0])):\n",
    "    cat, enc = tEnc.categories_[0][i], tEnc.encodings_[0][i]\n",
    "    oorzc_dict[cat] = enc\n",
    "# oorzc_dict"
   ]
  },
  {
   "cell_type": "markdown",
   "metadata": {},
   "source": [
    "## stm_geo_mld"
   ]
  },
  {
   "cell_type": "code",
   "execution_count": null,
   "metadata": {},
   "outputs": [],
   "source": [
    "X = np.array(df['stm_geo_mld']).reshape(-1, 1)\n",
    "tEnc.fit(X,y)\n",
    "df['geo_code_enc'] = tEnc.transform(X)"
   ]
  },
  {
   "cell_type": "code",
   "execution_count": null,
   "metadata": {},
   "outputs": [],
   "source": [
    "geo_dict = {}\n",
    "for i in range(len(tEnc.categories_[0])):\n",
    "    cat, enc = tEnc.categories_[0][i], tEnc.encodings_[0][i]\n",
    "    geo_dict[cat] = enc\n",
    "# geo_dict"
   ]
  },
  {
   "cell_type": "markdown",
   "metadata": {},
   "source": [
    "## stm_contractgeb_mld"
   ]
  },
  {
   "cell_type": "code",
   "execution_count": null,
   "metadata": {},
   "outputs": [],
   "source": [
    "X = np.array(df['stm_contractgeb_mld']).reshape(-1, 1)\n",
    "tEnc.fit(X,y)\n",
    "df['contractgb_enc'] = tEnc.transform(X)"
   ]
  },
  {
   "cell_type": "code",
   "execution_count": null,
   "metadata": {},
   "outputs": [],
   "source": [
    "contrgb_dict = {}\n",
    "for i in range(len(tEnc.categories_[0])):\n",
    "    cat, enc = tEnc.categories_[0][i], tEnc.encodings_[0][i]\n",
    "    contrgb_dict[cat] = enc\n",
    "# contrgb_dict"
   ]
  },
  {
   "cell_type": "markdown",
   "metadata": {},
   "source": [
    "## stm_techn_mld"
   ]
  },
  {
   "cell_type": "code",
   "execution_count": null,
   "metadata": {},
   "outputs": [],
   "source": [
    "X = np.array(df['stm_techn_mld']).reshape(-1, 1)\n",
    "tEnc.fit(X,y)\n",
    "df['techn_veld_enc'] = tEnc.transform(X)"
   ]
  },
  {
   "cell_type": "code",
   "execution_count": null,
   "metadata": {},
   "outputs": [],
   "source": [
    "techn_dict = {}\n",
    "for i in range(len(tEnc.categories_[0])):\n",
    "    cat, enc = tEnc.categories_[0][i], tEnc.encodings_[0][i]\n",
    "    techn_dict[cat] = enc\n",
    "# techn_dict"
   ]
  },
  {
   "cell_type": "code",
   "execution_count": null,
   "metadata": {},
   "outputs": [],
   "source": [
    "techn_veld_dummies = pd.get_dummies(df['stm_techn_mld'], prefix='techn_veld')"
   ]
  },
  {
   "cell_type": "markdown",
   "metadata": {},
   "source": [
    "## stm_oorz_groep"
   ]
  },
  {
   "cell_type": "code",
   "execution_count": null,
   "metadata": {},
   "outputs": [],
   "source": [
    "oorz_groep_dummies = pd.get_dummies(df['stm_oorz_groep'], prefix='oorzgr')"
   ]
  },
  {
   "cell_type": "markdown",
   "metadata": {},
   "source": [
    "## stm_progfh_in_duur"
   ]
  },
  {
   "cell_type": "markdown",
   "metadata": {},
   "source": [
    "Deze kolom is boven omgezet naar integer waardes, en heeft verder geen preparatie nodig."
   ]
  },
  {
   "cell_type": "markdown",
   "metadata": {},
   "source": [
    "# Geprepareerde data"
   ]
  },
  {
   "cell_type": "code",
   "execution_count": null,
   "metadata": {},
   "outputs": [],
   "source": [
    "df = df.reset_index(drop=True)\n",
    "# prioriteit_dummies = prioriteit_dummies.reset_index(drop=True)\n",
    "prioriteit = df['stm_prioriteit'].reset_index(drop=True)\n",
    "oorz_code_enc = df['oorz_code_enc'].reset_index(drop=True)\n",
    "geo_code_enc = df['geo_code_enc'].reset_index(drop=True)\n",
    "contractgb_enc = df['contractgb_enc'].reset_index(drop=True)\n",
    "techn_veld_enc = df['techn_veld_enc'].reset_index(drop=True)\n",
    "techn_veld_dummies = techn_veld_dummies.reset_index(drop=True)\n",
    "oorz_groep_dummies = oorz_groep_dummies.reset_index(drop=True)\n",
    "fh_prog = df['stm_progfh_in_duur']\n",
    "\n",
    "features_to_use = [\n",
    "    # prioriteit_dummies\n",
    "    prioriteit,\n",
    "    oorz_code_enc,\n",
    "    geo_code_enc,\n",
    "    contractgb_enc,\n",
    "    techn_veld_enc,\n",
    "    # techn_veld_dummies,\n",
    "    # oorz_groep_dummies,\n",
    "    fh_prog\n",
    "]\n",
    "\n",
    "model_df = pd.concat([df['anm_tot_fh'], *features_to_use], axis=1)\n",
    "# model_df = model_df.dropna()\n",
    "model_df.sample(20)"
   ]
  },
  {
   "cell_type": "code",
   "execution_count": null,
   "metadata": {},
   "outputs": [],
   "source": [
    "model_df.info()"
   ]
  },
  {
   "cell_type": "code",
   "execution_count": null,
   "metadata": {},
   "outputs": [],
   "source": [
    "model_df.to_pickle(\"data/model_df.pkl\")"
   ]
  },
  {
   "cell_type": "code",
   "execution_count": null,
   "metadata": {},
   "outputs": [],
   "source": [
    "encodings = {'oorz_code': oorzc_dict,\n",
    " 'geo_code': geo_dict,\n",
    " 'contractgb': contrgb_dict,\n",
    " 'techn_veld': techn_dict\n",
    "}\n",
    "with open('data/feature_encodings.json', 'w') as outfile:\n",
    "    json.dump(encodings, outfile)"
   ]
  },
  {
   "cell_type": "code",
   "execution_count": null,
   "metadata": {},
   "outputs": [],
   "source": []
  }
 ],
 "metadata": {
  "kernelspec": {
   "display_name": "Python 3 (ipykernel)",
   "language": "python",
   "name": "python3"
  },
  "language_info": {
   "codemirror_mode": {
    "name": "ipython",
    "version": 3
   },
   "file_extension": ".py",
   "mimetype": "text/x-python",
   "name": "python",
   "nbconvert_exporter": "python",
   "pygments_lexer": "ipython3",
   "version": "3.11.2"
  }
 },
 "nbformat": 4,
 "nbformat_minor": 2
}
