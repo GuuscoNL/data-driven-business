{
 "cells": [
  {
   "cell_type": "markdown",
   "id": "ceaad6d9",
   "metadata": {},
   "source": [
    "# First look at ProRail data"
   ]
  },
  {
   "cell_type": "code",
   "execution_count": null,
   "id": "879b726a",
   "metadata": {},
   "outputs": [],
   "source": [
    "# imported libraries\n",
    "import pandas as pd\n",
    "import numpy as np\n",
    "import matplotlib.pyplot as plt\n",
    "import seaborn as sns\n",
    "import scipy.stats as stats\n",
    "import random\n",
    "import warnings\n",
    "from datetime import datetime\n",
    "from sklearn.tree import DecisionTreeClassifier\n",
    "from sklearn.model_selection import train_test_split\n",
    "from sklearn.metrics import confusion_matrix\n",
    "warnings.simplefilter(action='ignore', category=FutureWarning)"
   ]
  },
  {
   "cell_type": "code",
   "execution_count": null,
   "id": "7e78efc7",
   "metadata": {},
   "outputs": [],
   "source": [
    "storing_csv = pd.read_csv(\"data/sap_storing_data_hu_project.csv\", index_col=0)\n",
    "df = pd.DataFrame(storing_csv)\n",
    "df.head()"
   ]
  },
  {
   "cell_type": "code",
   "execution_count": null,
   "id": "1a1148b8",
   "metadata": {},
   "outputs": [],
   "source": [
    "df = df[[\n",
    " '#stm_sap_meldnr',\n",
    " 'stm_mon_nr',\n",
    " 'stm_vl_post',\n",
    " 'stm_sap_meld_ddt',\n",
    " 'stm_sap_meldtekst_lang',\n",
    " 'stm_sap_meldtekst',\n",
    " 'stm_geo_mld',\n",
    " 'stm_geo_mld_uit_functiepl',\n",
    " 'stm_equipm_nr_mld',\n",
    " 'stm_equipm_soort_mld',\n",
    " 'stm_equipm_omschr_mld',\n",
    " 'stm_km_van_mld',\n",
    " 'stm_km_tot_mld',\n",
    " 'stm_prioriteit',\n",
    " 'stm_status_melding_sap',\n",
    " 'stm_aanngeb_ddt',\n",
    " 'stm_oh_pg_gst',\n",
    " 'stm_geo_gst',\n",
    " 'stm_geo_gst_uit_functiepl',\n",
    " 'stm_equipm_nr_gst',\n",
    " 'stm_equipm_soort_gst',\n",
    " 'stm_equipm_omschr_gst',\n",
    " 'stm_km_van_gst',\n",
    " 'stm_km_tot_gst',\n",
    " 'stm_oorz_groep',\n",
    " 'stm_oorz_code',\n",
    " 'stm_oorz_tkst',\n",
    " 'stm_fh_ddt',\n",
    " 'stm_fh_status',\n",
    " 'stm_sap_storeind_ddt',\n",
    " 'stm_tao_indicator',\n",
    " 'stm_tao_indicator_vorige',\n",
    " 'stm_tao_soort_mutatie',\n",
    " 'stm_tao_telling_mutatie',\n",
    " 'stm_tao_beinvloedbaar_indicator',\n",
    " 'stm_evb',\n",
    " 'stm_sap_melddatum',\n",
    " 'stm_sap_meldtijd',\n",
    " 'stm_contractgeb_mld',\n",
    " 'stm_functiepl_mld',\n",
    " 'stm_techn_mld',\n",
    " 'stm_contractgeb_gst',\n",
    " 'stm_functiepl_gst',\n",
    " 'stm_techn_gst',\n",
    " 'stm_aanngeb_dd',\n",
    " 'stm_aanngeb_tijd',\n",
    " 'stm_aanntpl_dd',\n",
    " 'stm_aanntpl_tijd',\n",
    " 'stm_arbeid',\n",
    " 'stm_progfh_in_datum',\n",
    " 'stm_progfh_in_tijd',\n",
    " 'stm_progfh_in_invoer_dat',\n",
    " 'stm_progfh_in_invoer_tijd',\n",
    " 'stm_progfh_in_duur',\n",
    " 'stm_progfh_gw_tijd',\n",
    " 'stm_progfh_gw_lwd_datum',\n",
    " 'stm_progfh_gw_lwd_tijd',\n",
    " 'stm_progfh_gw_duur',\n",
    " 'stm_progfh_gw_teller',\n",
    " 'stm_afspr_aanvangdd',\n",
    " 'stm_afspr_aanvangtijd',\n",
    " 'stm_fh_dd',\n",
    " 'stm_fh_tijd',\n",
    " 'stm_fh_duur',\n",
    " 'stm_reactie_duur',\n",
    " 'stm_sap_storeinddatum',\n",
    " 'stm_sap_storeindtijd',\n",
    " 'stm_oorz_tekst_kort',\n",
    " 'stm_pplg_van',\n",
    " 'stm_pplg_naar',\n",
    " 'stm_dstrglp_van',\n",
    " 'stm_dstrglp_naar']]"
   ]
  },
  {
   "cell_type": "code",
   "execution_count": null,
   "id": "10b1e6b7",
   "metadata": {},
   "outputs": [],
   "source": [
    "df.sample(20)"
   ]
  },
  {
   "cell_type": "code",
   "execution_count": null,
   "id": "bf91951d",
   "metadata": {},
   "outputs": [],
   "source": [
    "df.describe()"
   ]
  },
  {
   "cell_type": "code",
   "execution_count": null,
   "id": "6d70876f",
   "metadata": {},
   "outputs": [],
   "source": [
    "# Unique values of each column\n",
    "for column in df.columns[1:]:\n",
    "    print(f\"{column}: \")\n",
    "    print(eval(f\"df.{column}.unique()\"))"
   ]
  },
  {
   "cell_type": "code",
   "execution_count": null,
   "id": "d2cdb8c6",
   "metadata": {},
   "outputs": [],
   "source": [
    "for column in df.columns:\n",
    "    count = df[f'{column}'].isna().sum()\n",
    "    print(f\"{column}: {count}\")"
   ]
  },
  {
   "cell_type": "code",
   "execution_count": null,
   "id": "7acb76aa",
   "metadata": {},
   "outputs": [],
   "source": [
    "df.corr()[]"
   ]
  },
  {
   "cell_type": "code",
   "execution_count": null,
   "id": "4594694a",
   "metadata": {},
   "outputs": [],
   "source": [
    "len(df.columns)"
   ]
  },
  {
   "cell_type": "code",
   "execution_count": null,
   "id": "af0e14c7",
   "metadata": {},
   "outputs": [],
   "source": [
    "plt.boxplot(df['stm_fh_duur'].dropna())"
   ]
  },
  {
   "cell_type": "code",
   "execution_count": null,
   "id": "a95b6d60",
   "metadata": {},
   "outputs": [],
   "source": [
    "df[['stm_fh_ddt', 'stm_sap_storeind_ddt']].sample(20)"
   ]
  },
  {
   "cell_type": "code",
   "execution_count": null,
   "id": "fe1ba22f",
   "metadata": {},
   "outputs": [],
   "source": [
    "dt_format = '%d/%m/%Y %H:%M:%S'\n",
    "duration = []\n",
    "for i in range(len(df)):\n",
    "    ddtb = df['stm_sap_meld_ddt'].loc[df.index[i]]\n",
    "    ddte = df['stm_fh_ddt'].loc[df.index[i]]\n",
    "    # if type is float it is an nan value\n",
    "    if type(ddtb) is float or type(ddte) is float:\n",
    "        duration.append(-1)\n",
    "        continue\n",
    "    dt_o1 = datetime.strptime(ddtb, dt_format)\n",
    "    dt_o2 = datetime.strptime(ddte, dt_format)\n",
    "    timedif = dt_o2 - dt_o1\n",
    "    duration.append(timedif.seconds + timedif.days * (24*60*60))\n"
   ]
  },
  {
   "cell_type": "code",
   "execution_count": null,
   "id": "3af68a26",
   "metadata": {},
   "outputs": [],
   "source": [
    "duration2 = (np.array(duration)/60)\n",
    "plt.scatter(df['stm_fh_duur'], duration2, s=3, alpha=0.02)\n",
    "x = np.arange(0, 400000)\n",
    "# plt.plot(x, x, color='red')\n",
    "plt.xlim(-1, 400000)\n",
    "plt.ylim(-1, 400000)\n",
    "plt.show()"
   ]
  },
  {
   "cell_type": "code",
   "execution_count": null,
   "id": "4923b8b2",
   "metadata": {},
   "outputs": [],
   "source": [
    "max(duration)"
   ]
  },
  {
   "cell_type": "code",
   "execution_count": null,
   "id": "302053ca",
   "metadata": {},
   "outputs": [],
   "source": [
    "plt.boxplot(duration)"
   ]
  },
  {
   "cell_type": "code",
   "execution_count": null,
   "id": "c3be8328",
   "metadata": {},
   "outputs": [],
   "source": [
    "np.quantile(duration, [0.25,0.5,0.75])"
   ]
  },
  {
   "cell_type": "code",
   "execution_count": null,
   "id": "f064e58d",
   "metadata": {},
   "outputs": [],
   "source": [
    "type(df['stm_sap_meld_ddt'].loc[df.index[2]])"
   ]
  },
  {
   "cell_type": "code",
   "execution_count": null,
   "id": "d7b17152",
   "metadata": {},
   "outputs": [],
   "source": [
    "test_dt1 = '02/01/2006 09:00:00'\n",
    "test_dt2 = '02/02/2010 08:00:10'\n",
    "dt_format = '%d/%m/%Y %H:%M:%S'\n",
    "dt_o1 = datetime.strptime(test_dt1, dt_format)\n",
    "dt_o2 = datetime.strptime(test_dt2, dt_format)\n",
    "timedif = dt_o2 - dt_o1\n",
    "timedifsec = timedif.seconds + timedif.days * (24*60*60)\n",
    "timedifsec"
   ]
  },
  {
   "cell_type": "code",
   "execution_count": null,
   "id": "793beac4",
   "metadata": {},
   "outputs": [],
   "source": [
    "type(df['stm_sap_meld_ddt'][0])"
   ]
  },
  {
   "cell_type": "code",
   "execution_count": null,
   "id": "e585d879",
   "metadata": {},
   "outputs": [],
   "source": [
    "for column in df.columns:\n",
    "    count = df[f'{column}'].isna().sum()\n",
    "    print(f\"{column}: {count}\")"
   ]
  },
  {
   "cell_type": "code",
   "execution_count": null,
   "id": "e53f6c0e",
   "metadata": {},
   "outputs": [],
   "source": [
    "# df[(df['stm_fh_duur'] == 0)].count()\n",
    "len(df['stm_fh_duur'].loc[(df['stm_fh_duur'] == 0) | (df['stm_fh_duur'].isna())])"
   ]
  },
  {
   "cell_type": "code",
   "execution_count": null,
   "id": "a4eeb451",
   "metadata": {},
   "outputs": [],
   "source": [
    "dt_format = '%d/%m/%Y %H:%M:%S'\n",
    "ddtb = df['stm_sap_meld_ddt'].loc[df.index[150000]]\n",
    "ddte = df['stm_fh_ddt'].loc[df.index[200000]]\n",
    "dt_o1 = datetime.strptime(ddtb, dt_format)\n",
    "dt_o2 = datetime.strptime(ddte, dt_format)\n",
    "print(dt_o2 - dt_o1)\n",
    "dt_o2 - dt_o1"
   ]
  },
  {
   "cell_type": "code",
   "execution_count": null,
   "id": "a398170a",
   "metadata": {},
   "outputs": [],
   "source": [
    "dt_format = '%d/%m/%Y %H:%M:%S'\n",
    "fh_to_eindst = []\n",
    "for i in range(len(df)):\n",
    "    ddtb = df['stm_fh_ddt'].loc[df.index[i]]\n",
    "    ddte = df['stm_sap_storeind_ddt'].loc[df.index[i]]\n",
    "    # if type is float it is an nan value\n",
    "    if type(ddtb) is float or type(ddte) is float:\n",
    "#         fh_to_eindst.append(-1)\n",
    "        continue\n",
    "    dt_o1 = datetime.strptime(ddtb, dt_format)\n",
    "    dt_o2 = datetime.strptime(ddte, dt_format)\n",
    "    timedif = dt_o2 - dt_o1\n",
    "    fh_to_eindst.append(timedif.seconds + timedif.days * (24*60*60))"
   ]
  },
  {
   "cell_type": "code",
   "execution_count": null,
   "id": "5f75bd68",
   "metadata": {},
   "outputs": [],
   "source": [
    "# seconds\n",
    "plt.boxplot(fh_to_eindst)"
   ]
  },
  {
   "cell_type": "code",
   "execution_count": null,
   "id": "6e198d89",
   "metadata": {},
   "outputs": [],
   "source": [
    "# seconds\n",
    "np.quantile(fh_to_eindst, [0.25,0.5,0.75])"
   ]
  },
  {
   "cell_type": "code",
   "execution_count": null,
   "id": "f7f64f41",
   "metadata": {},
   "outputs": [],
   "source": [
    "max(fh_to_eindst)"
   ]
  },
  {
   "cell_type": "code",
   "execution_count": null,
   "id": "251c45d3",
   "metadata": {},
   "outputs": [],
   "source": [
    "df.corr()['stm_fh_duur']"
   ]
  },
  {
   "cell_type": "code",
   "execution_count": null,
   "id": "b4e89cab",
   "metadata": {},
   "outputs": [],
   "source": []
  }
 ],
 "metadata": {
  "kernelspec": {
   "display_name": "Python 3 (ipykernel)",
   "language": "python",
   "name": "python3"
  },
  "language_info": {
   "codemirror_mode": {
    "name": "ipython",
    "version": 3
   },
   "file_extension": ".py",
   "mimetype": "text/x-python",
   "name": "python",
   "nbconvert_exporter": "python",
   "pygments_lexer": "ipython3",
   "version": "3.11.4"
  }
 },
 "nbformat": 4,
 "nbformat_minor": 5
}
