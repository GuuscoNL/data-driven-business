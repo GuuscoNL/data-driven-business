{
 "cells": [
  {
   "cell_type": "markdown",
   "metadata": {},
   "source": [
    "# Pipeline Data understanding and preparation"
   ]
  },
  {
   "cell_type": "markdown",
   "metadata": {},
   "source": [
    "## Libraries importeren"
   ]
  },
  {
   "cell_type": "code",
   "execution_count": 1,
   "metadata": {},
   "outputs": [],
   "source": [
    "# imported libraries\n",
    "import pandas as pd\n",
    "import warnings\n",
    "warnings.simplefilter(action='ignore', category=FutureWarning)"
   ]
  },
  {
   "cell_type": "markdown",
   "metadata": {},
   "source": [
    "## DataFrame inladen\n",
    "\n",
    "Laad het DataFrame in met de kolommen die gebruikt worden."
   ]
  },
  {
   "cell_type": "code",
   "execution_count": 2,
   "metadata": {},
   "outputs": [
    {
     "data": {
      "text/html": [
       "<div>\n",
       "<style scoped>\n",
       "    .dataframe tbody tr th:only-of-type {\n",
       "        vertical-align: middle;\n",
       "    }\n",
       "\n",
       "    .dataframe tbody tr th {\n",
       "        vertical-align: top;\n",
       "    }\n",
       "\n",
       "    .dataframe thead th {\n",
       "        text-align: right;\n",
       "    }\n",
       "</style>\n",
       "<table border=\"1\" class=\"dataframe\">\n",
       "  <thead>\n",
       "    <tr style=\"text-align: right;\">\n",
       "      <th></th>\n",
       "      <th>stm_geo_mld</th>\n",
       "      <th>stm_prioriteit</th>\n",
       "      <th>stm_geo_gst</th>\n",
       "      <th>stm_oorz_groep</th>\n",
       "      <th>stm_oorz_code</th>\n",
       "      <th>stm_fh_ddt</th>\n",
       "      <th>stm_contractgeb_mld</th>\n",
       "      <th>stm_techn_mld</th>\n",
       "      <th>stm_techn_gst</th>\n",
       "      <th>stm_aanntpl_dd</th>\n",
       "      <th>stm_aanntpl_tijd</th>\n",
       "      <th>stm_progfh_in_duur</th>\n",
       "      <th>stm_fh_dd</th>\n",
       "      <th>stm_fh_tijd</th>\n",
       "      <th>stm_fh_duur</th>\n",
       "    </tr>\n",
       "    <tr>\n",
       "      <th>#stm_sap_meldnr</th>\n",
       "      <th></th>\n",
       "      <th></th>\n",
       "      <th></th>\n",
       "      <th></th>\n",
       "      <th></th>\n",
       "      <th></th>\n",
       "      <th></th>\n",
       "      <th></th>\n",
       "      <th></th>\n",
       "      <th></th>\n",
       "      <th></th>\n",
       "      <th></th>\n",
       "      <th></th>\n",
       "      <th></th>\n",
       "      <th></th>\n",
       "    </tr>\n",
       "  </thead>\n",
       "  <tbody>\n",
       "    <tr>\n",
       "      <th>0</th>\n",
       "      <td>None</td>\n",
       "      <td>NaN</td>\n",
       "      <td>None</td>\n",
       "      <td>None</td>\n",
       "      <td>NaN</td>\n",
       "      <td>None</td>\n",
       "      <td>NaN</td>\n",
       "      <td>None</td>\n",
       "      <td>None</td>\n",
       "      <td>None</td>\n",
       "      <td>None</td>\n",
       "      <td>None</td>\n",
       "      <td>None</td>\n",
       "      <td>None</td>\n",
       "      <td>NaN</td>\n",
       "    </tr>\n",
       "    <tr>\n",
       "      <th>50053211</th>\n",
       "      <td>624.0</td>\n",
       "      <td>9.0</td>\n",
       "      <td>624.0</td>\n",
       "      <td>ONR-RIB</td>\n",
       "      <td>133.0</td>\n",
       "      <td>02/01/2006 09:00:00</td>\n",
       "      <td>NaN</td>\n",
       "      <td>None</td>\n",
       "      <td>S</td>\n",
       "      <td>None</td>\n",
       "      <td>00:00:00</td>\n",
       "      <td>99999999.0</td>\n",
       "      <td>02/01/2006</td>\n",
       "      <td>09:00:00</td>\n",
       "      <td>0.0</td>\n",
       "    </tr>\n",
       "    <tr>\n",
       "      <th>50053213</th>\n",
       "      <td>201.0</td>\n",
       "      <td>9.0</td>\n",
       "      <td>201.0</td>\n",
       "      <td>ONR-DERD</td>\n",
       "      <td>143.0</td>\n",
       "      <td>02/01/2006 13:26:00</td>\n",
       "      <td>NaN</td>\n",
       "      <td>None</td>\n",
       "      <td>B</td>\n",
       "      <td>None</td>\n",
       "      <td>00:00:00</td>\n",
       "      <td>99999999.0</td>\n",
       "      <td>02/01/2006</td>\n",
       "      <td>13:26:00</td>\n",
       "      <td>51.0</td>\n",
       "    </tr>\n",
       "    <tr>\n",
       "      <th>50053214</th>\n",
       "      <td>25.0</td>\n",
       "      <td>9.0</td>\n",
       "      <td>25.0</td>\n",
       "      <td>ONR-DERD</td>\n",
       "      <td>142.0</td>\n",
       "      <td>02/01/2006 17:20:00</td>\n",
       "      <td>NaN</td>\n",
       "      <td>None</td>\n",
       "      <td>B</td>\n",
       "      <td>None</td>\n",
       "      <td>00:00:00</td>\n",
       "      <td>99999999.0</td>\n",
       "      <td>02/01/2006</td>\n",
       "      <td>17:20:00</td>\n",
       "      <td>40.0</td>\n",
       "    </tr>\n",
       "    <tr>\n",
       "      <th>50053215</th>\n",
       "      <td>12.0</td>\n",
       "      <td>9.0</td>\n",
       "      <td>12.0</td>\n",
       "      <td>ONR-DERD</td>\n",
       "      <td>142.0</td>\n",
       "      <td>02/01/2006 22:36:00</td>\n",
       "      <td>NaN</td>\n",
       "      <td>None</td>\n",
       "      <td>B</td>\n",
       "      <td>None</td>\n",
       "      <td>00:00:00</td>\n",
       "      <td>99999999.0</td>\n",
       "      <td>02/01/2006</td>\n",
       "      <td>22:36:00</td>\n",
       "      <td>6.0</td>\n",
       "    </tr>\n",
       "  </tbody>\n",
       "</table>\n",
       "</div>"
      ],
      "text/plain": [
       "                stm_geo_mld  stm_prioriteit stm_geo_gst stm_oorz_groep  \\\n",
       "#stm_sap_meldnr                                                          \n",
       "0                      None             NaN        None           None   \n",
       "50053211              624.0             9.0       624.0        ONR-RIB   \n",
       "50053213              201.0             9.0       201.0       ONR-DERD   \n",
       "50053214               25.0             9.0        25.0       ONR-DERD   \n",
       "50053215               12.0             9.0        12.0       ONR-DERD   \n",
       "\n",
       "                 stm_oorz_code           stm_fh_ddt  stm_contractgeb_mld  \\\n",
       "#stm_sap_meldnr                                                            \n",
       "0                          NaN                 None                  NaN   \n",
       "50053211                 133.0  02/01/2006 09:00:00                  NaN   \n",
       "50053213                 143.0  02/01/2006 13:26:00                  NaN   \n",
       "50053214                 142.0  02/01/2006 17:20:00                  NaN   \n",
       "50053215                 142.0  02/01/2006 22:36:00                  NaN   \n",
       "\n",
       "                stm_techn_mld stm_techn_gst stm_aanntpl_dd stm_aanntpl_tijd  \\\n",
       "#stm_sap_meldnr                                                               \n",
       "0                        None          None           None             None   \n",
       "50053211                 None             S           None         00:00:00   \n",
       "50053213                 None             B           None         00:00:00   \n",
       "50053214                 None             B           None         00:00:00   \n",
       "50053215                 None             B           None         00:00:00   \n",
       "\n",
       "                stm_progfh_in_duur   stm_fh_dd stm_fh_tijd  stm_fh_duur  \n",
       "#stm_sap_meldnr                                                          \n",
       "0                             None        None        None          NaN  \n",
       "50053211                99999999.0  02/01/2006    09:00:00          0.0  \n",
       "50053213                99999999.0  02/01/2006    13:26:00         51.0  \n",
       "50053214                99999999.0  02/01/2006    17:20:00         40.0  \n",
       "50053215                99999999.0  02/01/2006    22:36:00          6.0  "
      ]
     },
     "execution_count": 2,
     "metadata": {},
     "output_type": "execute_result"
    }
   ],
   "source": [
    "cols_to_use = [\n",
    "    '#stm_sap_meldnr',\n",
    "    'stm_geo_mld',\n",
    "    'stm_prioriteit',\n",
    "    'stm_geo_gst',\n",
    "    'stm_oorz_groep',\n",
    "    'stm_oorz_code',\n",
    "    'stm_fh_ddt',\n",
    "    'stm_contractgeb_mld',\n",
    "    'stm_techn_mld',\n",
    "    'stm_techn_gst',\n",
    "    'stm_aanntpl_dd',\n",
    "    'stm_aanntpl_tijd',\n",
    "    'stm_progfh_in_duur',\n",
    "    'stm_fh_dd',\n",
    "    'stm_fh_tijd',\n",
    "    'stm_fh_duur',\n",
    "]\n",
    "\n",
    "df = pd.read_csv(\"data/sap_storing_data_hu_project.csv\", index_col=0, usecols=cols_to_use, engine='pyarrow')\n",
    "df.head()"
   ]
  },
  {
   "cell_type": "markdown",
   "metadata": {},
   "source": [
    "## Prepareren Target variabele\n",
    "\n",
    "De gekozen target variabele is de tijd (in minuten) vanaf het moment dat de aannemer ter plaatse is tot functie herstel."
   ]
  },
  {
   "cell_type": "code",
   "execution_count": 3,
   "metadata": {},
   "outputs": [
    {
     "name": "stdout",
     "output_type": "stream",
     "text": [
      "<class 'pandas.core.frame.DataFrame'>\n",
      "Index: 898526 entries, 0 to 99999999\n",
      "Data columns (total 3 columns):\n",
      " #   Column            Non-Null Count   Dtype         \n",
      "---  ------            --------------   -----         \n",
      " 0   stm_aanntpl_tijd  898488 non-null  datetime64[ns]\n",
      " 1   stm_aanntpl_dd    689915 non-null  datetime64[ns]\n",
      " 2   stm_fh_ddt        732891 non-null  datetime64[ns]\n",
      "dtypes: datetime64[ns](3)\n",
      "memory usage: 27.4 MB\n"
     ]
    }
   ],
   "source": [
    "# alle relevante kolommen veranderen naar datetimes\n",
    "df['stm_aanntpl_tijd'] = pd.to_datetime(df['stm_aanntpl_tijd'], format='%H:%M:%S', errors='coerce')\n",
    "df['stm_aanntpl_dd'] = pd.to_datetime(df['stm_aanntpl_dd'], format='%d/%m/%Y', errors='coerce')\n",
    "df['stm_fh_ddt'] = pd.to_datetime(df['stm_fh_ddt'], format='%d/%m/%Y %H:%M:%S', errors='coerce')\n",
    "\n",
    "df[['stm_aanntpl_tijd', 'stm_aanntpl_dd', 'stm_fh_ddt']].info()"
   ]
  },
  {
   "cell_type": "code",
   "execution_count": 4,
   "metadata": {},
   "outputs": [
    {
     "name": "stdout",
     "output_type": "stream",
     "text": [
      "208611\n"
     ]
    },
    {
     "data": {
      "text/plain": [
       "#stm_sap_meldnr\n",
       "80714520   2013-04-12 12:17:00\n",
       "70322903   2017-11-24 03:52:01\n",
       "80405319   2007-04-26 15:16:00\n",
       "70271460   2017-04-28 08:15:01\n",
       "80917084   2018-07-28 02:49:00\n",
       "80768570   2014-06-16 09:55:00\n",
       "80504222   2009-05-06 17:47:00\n",
       "80673344   2012-06-30 05:20:00\n",
       "80577989   2010-09-15 14:03:00\n",
       "80849736   2016-05-31 01:30:00\n",
       "80753530   2014-02-13 15:00:00\n",
       "80777278   2014-08-25 23:30:00\n",
       "80661087   2012-03-30 03:35:00\n",
       "80468995   2008-08-18 12:00:00\n",
       "80710247   2013-03-12 12:01:00\n",
       "80875364   2017-01-01 09:22:01\n",
       "80766095   2014-05-27 01:30:00\n",
       "80367266   2006-07-12 10:57:00\n",
       "80877086   2017-01-16 08:49:49\n",
       "80771990   2014-07-14 07:08:00\n",
       "80724712   2013-07-01 11:14:00\n",
       "80818012   2015-08-29 21:00:00\n",
       "80766731   2014-06-02 04:16:00\n",
       "80666902   2012-05-14 14:14:00\n",
       "80901909   2017-12-05 11:26:14\n",
       "80618549   2011-06-05 21:00:00\n",
       "80811173   2015-07-02 07:11:00\n",
       "80448642   2008-03-22 06:34:00\n",
       "80407491   2007-05-12 03:18:00\n",
       "80615149   2011-05-11 10:35:00\n",
       "Name: aanntpl_ddt, dtype: datetime64[ns]"
      ]
     },
     "execution_count": 4,
     "metadata": {},
     "output_type": "execute_result"
    }
   ],
   "source": [
    "df['stm_aanntpl_tijd'] = df['stm_aanntpl_tijd'].astype('str')\n",
    "df['stm_aanntpl_dd'] = df['stm_aanntpl_dd'].astype('str')\n",
    "# de twee kolommen samen voegen om er 1 datetime feature van te maken\n",
    "df[\"aanntpl_ddt\"] = df[\"stm_aanntpl_dd\"] + \" \" + df[\"stm_aanntpl_tijd\"].apply(lambda x: x.split(' ')[-1])\n",
    "df['aanntpl_ddt'] = pd.to_datetime(df['aanntpl_ddt'], format='%Y-%m-%d %H:%M:%S', errors='coerce') \n",
    "print(df['aanntpl_ddt'].isna().sum())\n",
    "df = df.dropna(subset=['aanntpl_ddt'])\n",
    "df['aanntpl_ddt'].sample(30)"
   ]
  },
  {
   "cell_type": "code",
   "execution_count": 5,
   "metadata": {},
   "outputs": [
    {
     "data": {
      "text/plain": [
       "#stm_sap_meldnr\n",
       "80671041        32.000000\n",
       "80518806        97.000000\n",
       "80727735        29.000000\n",
       "80379231        71.000000\n",
       "70310466         2.000000\n",
       "80706457         3.000000\n",
       "80563351       185.000000\n",
       "70464471       130.550000\n",
       "80407191        12.000000\n",
       "80615980        50.000000\n",
       "80563618       185.000000\n",
       "80404975         8.000000\n",
       "80620832        90.000000\n",
       "80706815        94.000000\n",
       "80418907       118.000000\n",
       "80842318         6.283333\n",
       "80885280     12365.566667\n",
       "80343544        49.600000\n",
       "80703548        34.000000\n",
       "80514644        23.000000\n",
       "80872815        12.000000\n",
       "80871517         1.016667\n",
       "80770164        45.000000\n",
       "80363447    364333.000000\n",
       "80785689         3.000000\n",
       "70339577       145.200000\n",
       "80600118       105.000000\n",
       "80715579        27.000000\n",
       "80699410        54.000000\n",
       "80773568        43.000000\n",
       "Name: anm_tot_fh, dtype: float64"
      ]
     },
     "execution_count": 5,
     "metadata": {},
     "output_type": "execute_result"
    }
   ],
   "source": [
    "# bereken de duur van aannemer ter plaatse tot functieherstel in minuten\n",
    "df['anm_tot_fh'] = df['stm_fh_ddt'] - df['aanntpl_ddt']\n",
    "df['anm_tot_fh'] = df['anm_tot_fh'].apply(lambda x: x.seconds/60 + x.days * (24*60))\n",
    "df = df.dropna(subset=['anm_tot_fh'])\n",
    "df['anm_tot_fh'].sample(30)\n"
   ]
  },
  {
   "cell_type": "code",
   "execution_count": 6,
   "metadata": {},
   "outputs": [],
   "source": [
    "# verwijder alle negatieve waardes, omdat dit er niet zo veel zijn\n",
    "df = df[df['anm_tot_fh'] >= 0]"
   ]
  },
  {
   "cell_type": "code",
   "execution_count": 7,
   "metadata": {},
   "outputs": [
    {
     "data": {
      "text/plain": [
       "<Axes: >"
      ]
     },
     "execution_count": 7,
     "metadata": {},
     "output_type": "execute_result"
    },
    {
     "data": {
      "image/png": "[encoded data removed]",
      "text/plain": [
       "<Figure size 640x480 with 1 Axes>"
      ]
     },
     "metadata": {},
     "output_type": "display_data"
    }
   ],
   "source": [
    "df['anm_tot_fh'].plot.box()"
   ]
  },
  {
   "cell_type": "code",
   "execution_count": 8,
   "metadata": {},
   "outputs": [
    {
     "data": {
      "text/plain": [
       "544583"
      ]
     },
     "execution_count": 8,
     "metadata": {},
     "output_type": "execute_result"
    }
   ],
   "source": [
    "# Houdt alleen waardes vanaf 5 min tot en met 8 uur (480 min), andere waardes mogen genegeerd worden van de opdrachtgever.\n",
    "df = df[(df['anm_tot_fh'] >= 5) & (df['anm_tot_fh'] <= 480)]\n",
    "len(df)"
   ]
  },
  {
   "cell_type": "code",
   "execution_count": 9,
   "metadata": {},
   "outputs": [
    {
     "data": {
      "text/plain": [
       "<Axes: >"
      ]
     },
     "execution_count": 9,
     "metadata": {},
     "output_type": "execute_result"
    },
    {
     "data": {
      "image/png": "[encoded data removed]",
      "text/plain": [
       "<Figure size 640x480 with 1 Axes>"
      ]
     },
     "metadata": {},
     "output_type": "display_data"
    }
   ],
   "source": [
    "df['anm_tot_fh'].plot.box()"
   ]
  },
  {
   "cell_type": "markdown",
   "metadata": {},
   "source": [
    "# Baseline\n",
    "Voor de baseline is er gekozen om het gemiddelde te nemen van de target variable."
   ]
  },
  {
   "cell_type": "code",
   "execution_count": 10,
   "metadata": {},
   "outputs": [
    {
     "name": "stdout",
     "output_type": "stream",
     "text": [
      "Baseline RMSE:  76.65929392635941\n",
      "Baseline R2:  0.0\n"
     ]
    }
   ],
   "source": [
    "import baseline\n",
    "baseline_rmse, baseline_r2 = baseline.calculate_baseline(df)\n",
    "\n",
    "print('Baseline RMSE: ', baseline_rmse)\n",
    "print('Baseline R2: ', baseline_r2)"
   ]
  },
  {
   "cell_type": "markdown",
   "metadata": {},
   "source": [
    "# Resultaten\n",
    "Hierboven is te zien dat de baseline een R2 score heeft van 0.0 en de MSE is ongeveer 5876.64. Dit is niet een goede score, maar goed genoeg voor een baseline."
   ]
  }
 ],
 "metadata": {
  "kernelspec": {
   "display_name": "Python 3 (ipykernel)",
   "language": "python",
   "name": "python3"
  },
  "language_info": {
   "codemirror_mode": {
    "name": "ipython",
    "version": 3
   },
   "file_extension": ".py",
   "mimetype": "text/x-python",
   "name": "python",
   "nbconvert_exporter": "python",
   "pygments_lexer": "ipython3",
   "version": "3.11.2"
  }
 },
 "nbformat": 4,
 "nbformat_minor": 2
}
