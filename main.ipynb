{
 "cells": [
  {
   "cell_type": "markdown",
   "metadata": {},
   "source": [
    "# Pipeline Data understanding and preparation"
   ]
  },
  {
   "cell_type": "markdown",
   "metadata": {},
   "source": [
    "## Libraries importeren"
   ]
  },
  {
   "cell_type": "code",
   "execution_count": null,
   "metadata": {},
   "outputs": [],
   "source": [
    "# imported libraries\n",
    "import pandas as pd\n",
    "import warnings\n",
    "warnings.simplefilter(action='ignore', category=FutureWarning)"
   ]
  },
  {
   "cell_type": "markdown",
   "metadata": {},
   "source": [
    "## DataFrame inladen"
   ]
  },
  {
   "cell_type": "code",
   "execution_count": null,
   "metadata": {},
   "outputs": [],
   "source": [
    "cols_to_use = [\n",
    "    '#stm_sap_meldnr',\n",
    "    # 'stm_mon_nr',\n",
    "    # 'stm_vl_post',\n",
    "    # 'stm_sap_meld_ddt',\n",
    "    # 'stm_sap_meldtekst_lang',\n",
    "    # 'stm_sap_meldtekst',\n",
    "    'stm_geo_mld',\n",
    "    # 'stm_geo_mld_uit_functiepl',\n",
    "    # 'stm_equipm_nr_mld',\n",
    "    # 'stm_equipm_soort_mld',\n",
    "    # 'stm_equipm_omschr_mld',\n",
    "    # 'stm_km_van_mld',\n",
    "    # 'stm_km_tot_mld',\n",
    "    'stm_prioriteit',\n",
    "    # 'stm_status_melding_sap',\n",
    "    # 'stm_aanngeb_ddt',\n",
    "    # 'stm_oh_pg_gst',\n",
    "    'stm_geo_gst',\n",
    "    # 'stm_geo_gst_uit_functiepl',\n",
    "    # 'stm_equipm_nr_gst',\n",
    "    # 'stm_equipm_soort_gst',\n",
    "    # 'stm_equipm_omschr_gst',\n",
    "    # 'stm_km_van_gst',\n",
    "    # 'stm_km_tot_gst',\n",
    "    # 'stm_oorz_groep',\n",
    "    'stm_oorz_code',\n",
    "    # 'stm_oorz_tkst',\n",
    "    'stm_fh_ddt',\n",
    "    # 'stm_fh_status',\n",
    "    # 'stm_sap_storeind_ddt',\n",
    "    # 'stm_tao_indicator',\n",
    "    # 'stm_tao_indicator_vorige',\n",
    "    # 'stm_tao_soort_mutatie',\n",
    "    # 'stm_tao_telling_mutatie',\n",
    "    # 'stm_tao_beinvloedbaar_indicator',\n",
    "    # 'stm_evb',\n",
    "    # 'stm_sap_melddatum',\n",
    "    # 'stm_sap_meldtijd',\n",
    "    'stm_contractgeb_mld',\n",
    "    # 'stm_functiepl_mld',\n",
    "    'stm_techn_mld',\n",
    "    # 'stm_contractgeb_gst',\n",
    "    # 'stm_functiepl_gst',\n",
    "    'stm_techn_gst',\n",
    "    # 'stm_aanngeb_dd',\n",
    "    # 'stm_aanngeb_tijd',\n",
    "    'stm_aanntpl_dd',\n",
    "    'stm_aanntpl_tijd',\n",
    "    # 'stm_arbeid',\n",
    "    # 'stm_progfh_in_datum',\n",
    "    # 'stm_progfh_in_tijd',\n",
    "    # 'stm_progfh_in_invoer_dat',\n",
    "    # 'stm_progfh_in_invoer_tijd',\n",
    "    # 'stm_progfh_in_duur',\n",
    "    # 'stm_progfh_gw_tijd',\n",
    "    # 'stm_progfh_gw_lwd_datum',\n",
    "    # 'stm_progfh_gw_lwd_tijd',\n",
    "    # 'stm_progfh_gw_duur',\n",
    "    # 'stm_progfh_gw_teller',\n",
    "    # 'stm_afspr_aanvangdd',\n",
    "    # 'stm_afspr_aanvangtijd',\n",
    "    'stm_fh_dd',\n",
    "    'stm_fh_tijd',\n",
    "    'stm_fh_duur',\n",
    "    # 'stm_reactie_duur',\n",
    "    # 'stm_sap_storeinddatum',\n",
    "    # 'stm_sap_storeindtijd',\n",
    "    # 'stm_oorz_tekst_kort',\n",
    "    # 'stm_pplg_van',\n",
    "    # 'stm_pplg_naar',\n",
    "    # 'stm_dstrglp_van',\n",
    "    # 'stm_dstrglp_naar'\n",
    "]"
   ]
  },
  {
   "cell_type": "code",
   "execution_count": null,
   "metadata": {},
   "outputs": [],
   "source": [
    "df = pd.read_csv(\"data/sap_storing_data_hu_project.csv\", index_col=0, usecols=cols_to_use, engine='pyarrow')\n",
    "df.head()"
   ]
  },
  {
   "cell_type": "code",
   "execution_count": null,
   "metadata": {},
   "outputs": [],
   "source": [
    "def remove_outlier(df_in, col_name, k=3):\n",
    "    q1 = df_in[col_name].quantile(0.25)\n",
    "    q3 = df_in[col_name].quantile(0.75)\n",
    "    iqr = q3 - q1 \n",
    "    fence_low  = q1 - k * iqr\n",
    "    fence_high = q3 + k * iqr\n",
    "    df_out = df_in.loc[(df_in[col_name] > fence_low) & (df_in[col_name] < fence_high)]\n",
    "    return df_out"
   ]
  },
  {
   "cell_type": "markdown",
   "metadata": {},
   "source": [
    "## Prepareren Target variabele\n",
    "\n",
    "De gekozen target variabele is de tijd (in minuten) vanaf het moment dat de aannemer ter plaatse is tot functie herstel"
   ]
  },
  {
   "cell_type": "code",
   "execution_count": null,
   "metadata": {},
   "outputs": [],
   "source": [
    "# alle relevante kolommen veranderen naar datetimes\n",
    "df['stm_aanntpl_tijd'] = pd.to_datetime(df['stm_aanntpl_tijd'], format='%H:%M:%S', errors='coerce')\n",
    "df['stm_aanntpl_dd'] = pd.to_datetime(df['stm_aanntpl_dd'], format='%d/%m/%Y', errors='coerce')\n",
    "df['stm_fh_ddt'] = pd.to_datetime(df['stm_fh_ddt'], format='%d/%m/%Y %H:%M:%S', errors='coerce')\n",
    "\n",
    "df[['stm_aanntpl_tijd', 'stm_aanntpl_dd', 'stm_fh_ddt']].info()"
   ]
  },
  {
   "cell_type": "code",
   "execution_count": null,
   "metadata": {},
   "outputs": [],
   "source": [
    "df['stm_aanntpl_tijd'] = df['stm_aanntpl_tijd'].astype('str')\n",
    "df['stm_aanntpl_dd'] = df['stm_aanntpl_dd'].astype('str')\n",
    "# de twee kolommen samen voegen om er 1 datetime feature van te maken\n",
    "df[\"aanntpl_ddt\"] = df[\"stm_aanntpl_dd\"] + \" \" + df[\"stm_aanntpl_tijd\"].apply(lambda x: x.split(' ')[-1])\n",
    "df['aanntpl_ddt'] = pd.to_datetime(df['aanntpl_ddt'], format='%Y-%m-%d %H:%M:%S', errors='coerce') \n",
    "print(df['aanntpl_ddt'].isna().sum())\n",
    "df = df.dropna(subset=['aanntpl_ddt'])\n",
    "df['aanntpl_ddt'].sample(30)"
   ]
  },
  {
   "cell_type": "code",
   "execution_count": null,
   "metadata": {},
   "outputs": [],
   "source": [
    "# bereken de duur van aannemer ter plaatse tot functieherstel in minuten\n",
    "df['anm_tot_fh'] = df['stm_fh_ddt'] - df['aanntpl_ddt']\n",
    "df['anm_tot_fh'] = df['anm_tot_fh'].apply(lambda x: x.seconds/60 + x.days * (24*60))\n",
    "df = df.dropna(subset=['anm_tot_fh'])\n",
    "df['anm_tot_fh'].sample(30)\n"
   ]
  },
  {
   "cell_type": "code",
   "execution_count": null,
   "metadata": {},
   "outputs": [],
   "source": [
    "# verwijder alle negatieve waardes, omdat dit er niet zo veel zijn\n",
    "df = df[df['anm_tot_fh'] >= 0]"
   ]
  },
  {
   "cell_type": "code",
   "execution_count": null,
   "metadata": {},
   "outputs": [],
   "source": [
    "df['anm_tot_fh'].plot.box()"
   ]
  },
  {
   "cell_type": "code",
   "execution_count": null,
   "metadata": {},
   "outputs": [],
   "source": [
    "df = df[(df['anm_tot_fh'] >= 5) & (df['anm_tot_fh'] <= 480)]\n",
    "len(df)"
   ]
  },
  {
   "cell_type": "code",
   "execution_count": null,
   "metadata": {},
   "outputs": [],
   "source": [
    "df['anm_tot_fh'].plot.box()"
   ]
  },
  {
   "cell_type": "markdown",
   "metadata": {},
   "source": [
    "# Baseline\n",
    "Voor de baseline is er gekozen om de gemiddelde te nemen van de target variable."
   ]
  },
  {
   "cell_type": "code",
   "execution_count": null,
   "metadata": {},
   "outputs": [],
   "source": [
    "import baseline\n",
    "baseline_mse, baseline_r2 = baseline.calculate_baseline(df)\n",
    "\n",
    "print('Baseline MSE: ', baseline_mse)\n",
    "print('Baseline R2: ', baseline_r2)"
   ]
  },
  {
   "cell_type": "markdown",
   "metadata": {},
   "source": [
    "# Resultaten\n",
    "Hierboven is te zien dat de baseline een R2 score heeft van 0.0 en de MSE is ongeveer 5876.64. Dit is niet een goede score, maar goed genoeg voor een baseline."
   ]
  },
  {
   "cell_type": "code",
   "execution_count": null,
   "metadata": {},
   "outputs": [],
   "source": []
  }
 ],
 "metadata": {
  "kernelspec": {
   "display_name": "Python 3 (ipykernel)",
   "language": "python",
   "name": "python3"
  },
  "language_info": {
   "codemirror_mode": {
    "name": "ipython",
    "version": 3
   },
   "file_extension": ".py",
   "mimetype": "text/x-python",
   "name": "python",
   "nbconvert_exporter": "python",
   "pygments_lexer": "ipython3",
   "version": "3.11.2"
  }
 },
 "nbformat": 4,
 "nbformat_minor": 2
}
