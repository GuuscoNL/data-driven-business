{
 "cells": [
  {
   "cell_type": "markdown",
   "metadata": {},
   "source": [
    "# Random Forest Regressor\n",
    "\n",
    "In dit bestand wordt een Random Forest Regressor model getraind op de geprepareerde dataset."
   ]
  },
  {
   "cell_type": "code",
   "execution_count": null,
   "metadata": {},
   "outputs": [],
   "source": [
    "import pandas as pd\n",
    "from sklearn.ensemble import RandomForestRegressor\n",
    "from sklearn.metrics import mean_squared_error, r2_score\n",
    "from math import sqrt\n",
    "from baseline import calculate_baseline\n",
    "import matplotlib.pyplot as plt\n",
    "from tqdm import tqdm"
   ]
  },
  {
   "cell_type": "markdown",
   "metadata": {},
   "source": [
    "Maak een train-test split aan om het model mee te trainen en te testen"
   ]
  },
  {
   "cell_type": "code",
   "execution_count": null,
   "metadata": {},
   "outputs": [],
   "source": [
    "model_df = pd.read_pickle(\"data/model_df.pkl\")\n",
    "train_df = pd.read_pickle(\"data/train_df.pkl\")\n",
    "test_df = pd.read_pickle(\"data/test_df.pkl\")\n",
    "\n",
    "X_train = train_df.drop('anm_tot_fh', axis=1)\n",
    "y_train = train_df['anm_tot_fh']\n",
    "\n",
    "X_test = test_df.drop('anm_tot_fh', axis=1)\n",
    "y_test = test_df['anm_tot_fh']"
   ]
  },
  {
   "cell_type": "markdown",
   "metadata": {},
   "source": [
    "Bereken de RMSE en R2 score met verschillende max_depths voor het Random Forest, om de optimale max_depth te vinden."
   ]
  },
  {
   "cell_type": "code",
   "execution_count": null,
   "metadata": {},
   "outputs": [],
   "source": [
    "depths = range(1, 11)\n",
    "\n",
    "train_rmse, test_rmse = [], []\n",
    "train_r2, test_r2 = [], []\n",
    "\n",
    "for depth in tqdm(depths):\n",
    "    regressor = RandomForestRegressor(max_depth=depth, random_state=42, min_samples_leaf=0.05, n_jobs=-1)\n",
    "    regressor.fit(X_train, y_train)\n",
    "    # Voorspellingen op de train set\n",
    "    train_predictions = regressor.predict(X_train)\n",
    "    train_rmse.append(sqrt(mean_squared_error(y_train, train_predictions)))\n",
    "    train_r2.append(r2_score(y_train, train_predictions))\n",
    "\n",
    "    # Voorspellingen op de test set\n",
    "    test_predictions = regressor.predict(X_test)\n",
    "    test_rmse.append(sqrt(mean_squared_error(y_test, test_predictions)))\n",
    "    test_r2.append(r2_score(y_test, test_predictions))"
   ]
  },
  {
   "cell_type": "code",
   "execution_count": null,
   "metadata": {},
   "outputs": [],
   "source": [
    "fig, (ax1, ax2) = plt.subplots(1, 2, figsize=(16, 6))\n",
    "\n",
    "# Plot RMSE\n",
    "ax1.plot(depths, train_rmse, marker='o', linestyle='-', color='b', label='Train RMSE')\n",
    "ax1.plot(depths, test_rmse, marker='o', linestyle='-', color='r', label='Test RMSE')\n",
    "ax1.set_title('Depth vs. RMSE voor Random forest Regressor')\n",
    "ax1.set_xlabel('Max Depth')\n",
    "ax1.set_ylabel('RMSE')\n",
    "ax1.set_xticks(depths)\n",
    "ax1.grid(True)\n",
    "ax1.legend()\n",
    "\n",
    "# Plot R2 score\n",
    "ax2.plot(depths, train_r2, marker='o', linestyle='-', color='b', label='Train R2')\n",
    "ax2.plot(depths, test_r2, marker='o', linestyle='-', color='r', label='Test R2')\n",
    "ax2.set_title('Depth vs. R2 voor Random forest Regressor')\n",
    "ax2.set_xlabel('Max Depth')\n",
    "ax2.set_ylabel('R2')\n",
    "ax2.set_xticks(depths)\n",
    "ax2.grid(True)\n",
    "ax2.legend()\n",
    "\n",
    "plt.show()"
   ]
  },
  {
   "cell_type": "markdown",
   "metadata": {},
   "source": [
    "Een max_depth van 10 blijkt optimaal, gebruik deze om het model te trainen."
   ]
  },
  {
   "cell_type": "code",
   "execution_count": null,
   "metadata": {},
   "outputs": [],
   "source": [
    "max_depth = 4\n",
    "regressor = RandomForestRegressor(max_depth=max_depth, min_samples_leaf=0.02, n_jobs=-1)\n",
    "\n",
    "regressor.fit(X_train, y_train)\n",
    "\n",
    "y_pred = regressor.predict(X_test)\n",
    "\n",
    "rmse = sqrt(mean_squared_error(y_test, y_pred))\n",
    "r2 = r2_score(y_test, y_pred)\n",
    "\n",
    "y_pred = regressor.predict(X_test)\n",
    "\n",
    "print(\"Root Mean Squared Error: \", rmse)\n",
    "print(\"R-squared (R2) Score: \", r2)\n",
    "\n",
    "baseline_rmse, baseline_r2 = calculate_baseline(model_df)\n",
    "print('Baseline RMSE: ', baseline_rmse)\n",
    "print('Baseline R2: ', baseline_r2)\n"
   ]
  },
  {
   "cell_type": "markdown",
   "metadata": {},
   "source": [
    "## Conclusie\n",
    "\n",
    "Het model is met een minimaal verschil beter dan de baseline (de RMSE is een heel klein beetje lager en de R2 score is een heel klein beetje hoger)."
   ]
  }
 ],
 "metadata": {
  "kernelspec": {
   "display_name": "Python 3 (ipykernel)",
   "language": "python",
   "name": "python3"
  },
  "language_info": {
   "codemirror_mode": {
    "name": "ipython",
    "version": 3
   },
   "file_extension": ".py",
   "mimetype": "text/x-python",
   "name": "python",
   "nbconvert_exporter": "python",
   "pygments_lexer": "ipython3",
   "version": "3.11.2"
  }
 },
 "nbformat": 4,
 "nbformat_minor": 2
}
