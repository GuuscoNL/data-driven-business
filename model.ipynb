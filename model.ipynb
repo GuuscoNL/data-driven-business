{
 "cells": [
  {
   "cell_type": "code",
   "execution_count": 30,
   "metadata": {},
   "outputs": [],
   "source": [
    "%%capture\n",
    "%run \"testingO.ipynb\""
   ]
  },
  {
   "cell_type": "code",
   "execution_count": 35,
   "metadata": {},
   "outputs": [],
   "source": [
    "from sklearn.tree import DecisionTreeRegressor\n",
    "from sklearn.model_selection import train_test_split\n",
    "from sklearn.metrics import mean_squared_error, r2_score"
   ]
  },
  {
   "cell_type": "code",
   "execution_count": 38,
   "metadata": {},
   "outputs": [
    {
     "name": "stdout",
     "output_type": "stream",
     "text": [
      "<class 'pandas.core.frame.DataFrame'>\n",
      "Index: 631399 entries, 50093930 to 99999999\n",
      "Data columns (total 15 columns):\n",
      " #   Column        Non-Null Count   Dtype  \n",
      "---  ------        --------------   -----  \n",
      " 0   anm_tot_fh    631399 non-null  float64\n",
      " 1   techn_veld_   631399 non-null  bool   \n",
      " 2   techn_veld_A  631399 non-null  bool   \n",
      " 3   techn_veld_B  631399 non-null  bool   \n",
      " 4   techn_veld_E  631399 non-null  bool   \n",
      " 5   techn_veld_G  631399 non-null  bool   \n",
      " 6   techn_veld_I  631399 non-null  bool   \n",
      " 7   techn_veld_K  631399 non-null  bool   \n",
      " 8   techn_veld_M  631399 non-null  bool   \n",
      " 9   techn_veld_O  631399 non-null  bool   \n",
      " 10  techn_veld_P  631399 non-null  bool   \n",
      " 11  techn_veld_R  631399 non-null  bool   \n",
      " 12  techn_veld_S  631399 non-null  bool   \n",
      " 13  techn_veld_T  631399 non-null  bool   \n",
      " 14  techn_veld_X  631399 non-null  bool   \n",
      "dtypes: bool(14), float64(1)\n",
      "memory usage: 18.1 MB\n"
     ]
    }
   ],
   "source": [
    "model_df.info()"
   ]
  },
  {
   "cell_type": "code",
   "execution_count": 41,
   "metadata": {},
   "outputs": [
    {
     "name": "stdout",
     "output_type": "stream",
     "text": [
      "Mean Squared Error:  3383.4849957367887\n",
      "R-squared (R2) Score:  0.008127538629884579\n"
     ]
    }
   ],
   "source": [
    "X = model_df.drop('anm_tot_fh', axis=1)\n",
    "y = model_df['anm_tot_fh']\n",
    "\n",
    "X_train, X_test, y_train, y_test = train_test_split(X, y, test_size=0.2, random_state=42)\n",
    "\n",
    "max_depth = 5\n",
    "regressor = DecisionTreeRegressor(max_depth=max_depth, criterion='squared_error', random_state=42)\n",
    "\n",
    "regressor.fit(X_train, y_train)\n",
    "\n",
    "y_pred = regressor.predict(X_test)\n",
    "\n",
    "mse = mean_squared_error(y_test, y_pred)\n",
    "r2 = r2_score(y_test, y_pred)\n",
    "\n",
    "print(\"Mean Squared Error: \", mse)\n",
    "print(\"R-squared (R2) Score: \", r2)"
   ]
  },
  {
   "cell_type": "code",
   "execution_count": null,
   "metadata": {},
   "outputs": [],
   "source": []
  }
 ],
 "metadata": {
  "kernelspec": {
   "display_name": "base",
   "language": "python",
   "name": "python3"
  },
  "language_info": {
   "codemirror_mode": {
    "name": "ipython",
    "version": 3
   },
   "file_extension": ".py",
   "mimetype": "text/x-python",
   "name": "python",
   "nbconvert_exporter": "python",
   "pygments_lexer": "ipython3",
   "version": "3.8.8"
  }
 },
 "nbformat": 4,
 "nbformat_minor": 2
}
