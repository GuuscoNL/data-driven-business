{
 "cells": [
  {
   "cell_type": "code",
   "execution_count": null,
   "metadata": {},
   "outputs": [],
   "source": [
    "from sklearn.tree import DecisionTreeRegressor\n",
    "from sklearn.model_selection import train_test_split\n",
    "from sklearn.metrics import mean_squared_error, r2_score\n",
    "import pickle"
   ]
  },
  {
   "cell_type": "code",
   "execution_count": null,
   "metadata": {},
   "outputs": [],
   "source": [
    "model_df = pd.read_csv('data/model_df.csv', engine='pyarrow')"
   ]
  },
  {
   "cell_type": "code",
   "execution_count": null,
   "metadata": {},
   "outputs": [],
   "source": [
    "model_df.info()"
   ]
  },
  {
   "cell_type": "markdown",
   "metadata": {},
   "source": [
    "Er wordt een decision tree regressor getraint met de enkele feature 'stm_techn_gst', deze is omgezet naar dummies voor gebruik in het model. De Mean Squared Error waarde wordt berekend en de R2 score om te kijken naar de prestaties van het model."
   ]
  },
  {
   "cell_type": "code",
   "execution_count": null,
   "metadata": {},
   "outputs": [],
   "source": [
    "X = model_df.drop('anm_tot_fh', axis=1)\n",
    "y = model_df['anm_tot_fh']\n",
    "\n",
    "X_train, X_test, y_train, y_test = train_test_split(X, y, test_size=0.2, random_state=42)\n",
    "\n",
    "max_depth = 9\n",
    "regressor = DecisionTreeRegressor(max_depth=max_depth, criterion='squared_error', random_state=42)\n",
    "\n",
    "regressor.fit(X_train, y_train)\n",
    "\n",
    "y_pred = regressor.predict(X_test)\n",
    "\n",
    "mse = mean_squared_error(y_test, y_pred)\n",
    "r2 = r2_score(y_test, y_pred)\n",
    "\n",
    "y_pred = regressor.predict(X_test)\n",
    "\n",
    "# pickle a regressor model and create new file if it doesn't exist\n",
    "with open('models/DecisionTreeRegressor.pkl', 'wb') as file:\n",
    "    pickle.dump(regressor, file)\n",
    "\n",
    "print(\"Mean Squared Error: \", mse)\n",
    "print(\"R-squared (R2) Score: \", r2)\n",
    "\n",
    "print('Baseline MSE: ', baseline_mse)\n",
    "print('Baseline R2: ', baseline_r2)"
   ]
  },
  {
   "cell_type": "code",
   "execution_count": null,
   "metadata": {},
   "outputs": [],
   "source": [
    "depths = range(1, 11) \n",
    "\n",
    "mse = []\n",
    "r2 = []\n",
    "\n",
    "for depth in depths:\n",
    "    regressor = DecisionTreeRegressor(max_depth=depth, random_state=42)\n",
    "    regressor.fit(X_train, y_train)\n",
    "    predictions = regressor.predict(X_test)\n",
    "    accuracy = mean_squared_error(y_test, predictions)\n",
    "    mse.append(accuracy)\n",
    "    rs = r2_score(y_test, predictions)\n",
    "    r2.append(rs)\n",
    "\n",
    "\n",
    "plt.figure(figsize=(8, 6))\n",
    "plt.plot(depths, mse, marker='o', linestyle='-', color='b')\n",
    "plt.title('Depth vs. MSE for Decision Tree Regressor')\n",
    "plt.xlabel('Max Depth')\n",
    "plt.ylabel('MSE')\n",
    "plt.xticks(depths)\n",
    "plt.grid(True)\n",
    "plt.show()"
   ]
  },
  {
   "cell_type": "code",
   "execution_count": null,
   "metadata": {},
   "outputs": [],
   "source": [
    "plt.figure(figsize=(8, 6))\n",
    "plt.plot(depths, r2, marker='o', linestyle='-', color='b')\n",
    "plt.title('Depth vs. r2 for Decision Tree Regressor')\n",
    "plt.xlabel('Max Depth')\n",
    "plt.ylabel('R2')\n",
    "plt.xticks(depths)\n",
    "plt.grid(True)\n",
    "plt.show()"
   ]
  },
  {
   "cell_type": "code",
   "execution_count": null,
   "metadata": {},
   "outputs": [],
   "source": []
  }
 ],
 "metadata": {
  "kernelspec": {
   "display_name": "base",
   "language": "python",
   "name": "python3"
  },
  "language_info": {
   "codemirror_mode": {
    "name": "ipython",
    "version": 3
   },
   "file_extension": ".py",
   "mimetype": "text/x-python",
   "name": "python",
   "nbconvert_exporter": "python",
   "pygments_lexer": "ipython3",
   "version": "3.8.8"
  }
 },
 "nbformat": 4,
 "nbformat_minor": 2
}
